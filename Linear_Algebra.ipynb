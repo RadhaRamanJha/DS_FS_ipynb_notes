{
 "cells": [
  {
   "cell_type": "markdown",
   "id": "9f9918e5",
   "metadata": {},
   "source": [
    "## Linear algebra :-\n",
    "    Linear algebra is the branch of mathematics that deals with vector spaces."
   ]
  },
  {
   "cell_type": "markdown",
   "id": "c1db685d",
   "metadata": {},
   "source": [
    "## Vectors\n",
    "     vectors are objects that can be added together to form new vectors and that can be multiplied by scalars(i.e.numbers), also to form new vectors.\n",
    "\n",
    "### Vectors can be represented as lists of numbers. e.g. A list of three numbers corresponds to a vector in three-dimensional space, and vice versa.\n",
    "\n",
    "### We can accomplish this with a type alias that says a Vector is just a list of floats:"
   ]
  },
  {
   "cell_type": "code",
   "execution_count": 1,
   "id": "d9b2939d",
   "metadata": {},
   "outputs": [],
   "source": [
    "from typing import List\n",
    "\n",
    "Vector = List[float]"
   ]
  },
  {
   "cell_type": "markdown",
   "id": "2464439a",
   "metadata": {},
   "source": [
    "## The vectors add compent wise, \n",
    "    but Python lists aren’t vectors (and hence provide no facilities for vector arithmetic), In order perform arithmetic on vectors, we’ll need to build these arithmetic tools ourselves. \n",
    "\n",
    "\n",
    "### This can be implemented by zipping the vectors together and use list comprehension to add component wise."
   ]
  },
  {
   "cell_type": "code",
   "execution_count": 2,
   "id": "96723bc3",
   "metadata": {},
   "outputs": [],
   "source": [
    "def add_two_vectors(v :Vector, w :Vector ) -> Vector:\n",
    "    \"\"\"\n",
    "    Adds the corrosponding elements of the Vectors\n",
    "    \"\"\"\n",
    "    assert(len(v) == len(w)),\"Vector length must be equal for addition\"\n",
    "    \n",
    "    return [ v_i + w_i for v_i,w_i in zip(v,w) ]\n",
    "\n",
    "assert(add_two_vectors([5,6,7,8],[4,3,5,6]) == [9,9,12,14])"
   ]
  },
  {
   "cell_type": "markdown",
   "id": "c19dd209",
   "metadata": {},
   "source": [
    "## Similarly we can implement the substraction of two vectors"
   ]
  },
  {
   "cell_type": "code",
   "execution_count": 3,
   "id": "a762b8fe",
   "metadata": {},
   "outputs": [],
   "source": [
    "def sub_two_vectors(v: Vector, w: Vector) -> Vector:\n",
    "    \"\"\"Substracts the corrosponding elements of the Vectors\"\"\"\n",
    "    assert(len(v) == len(w)), \"Vector length must be equal for substraction\"\n",
    "    \n",
    "    return [v_i-w_i for v_i,w_i in zip(v,w)]\n",
    "\n",
    "assert(sub_two_vectors([5,6,7],[2,3,4]) == [3,3,3])"
   ]
  },
  {
   "cell_type": "markdown",
   "id": "ca7bd820",
   "metadata": {},
   "source": [
    "## To obtain component wise sum of list of vectors"
   ]
  },
  {
   "cell_type": "code",
   "execution_count": 4,
   "id": "d66fdeb0",
   "metadata": {},
   "outputs": [],
   "source": [
    "def vector_sum(vectors :List[Vector]) -> Vector:\n",
    "    \"\"\"Sums all the corrosponding elements\"\"\"\n",
    "    # Check the vectors are provided\n",
    "    assert vectors, \"no vectors provided\"\n",
    "    # Check the length of all vectors provided is same\n",
    "    elements_num = len(vectors[0])\n",
    "    assert all(len(v) == elements_num for v in vectors), \"vector(/s) with different sizes\"\n",
    "    \n",
    "    # the i-th element of result is sum of every vector[i]\n",
    "    return [sum(vector[i] for vector in vectors)\n",
    "           for i in range(elements_num)]\n",
    "\n",
    "assert(vector_sum([[1,2,3],[2,3,5],[4,5,6],[6,7,8]]) == [13,17,22])"
   ]
  },
  {
   "cell_type": "markdown",
   "id": "1c2bb10c",
   "metadata": {},
   "source": [
    "## Multiplication of scalar and a vector can be done by simply multiplying each element of the vector by that number"
   ]
  },
  {
   "cell_type": "code",
   "execution_count": 5,
   "id": "f6f482d0",
   "metadata": {},
   "outputs": [],
   "source": [
    "def scalr_multiply_vector(a:float,b:Vector) -> Vector:\n",
    "    \"\"\"Multiply every element by a scalar\"\"\"\n",
    "    return [a*b_i for b_i in b]\n",
    "\n",
    "assert scalr_multiply_vector(3,[2,3,4]) == [6,9,12]"
   ]
  },
  {
   "cell_type": "markdown",
   "id": "b754f2f1",
   "metadata": {},
   "source": [
    "## Component wise mean i.e. Vector mean can be calculated "
   ]
  },
  {
   "cell_type": "code",
   "execution_count": 6,
   "id": "32dbc7e6",
   "metadata": {},
   "outputs": [],
   "source": [
    "def vector_mean(vectors:List[Vector]) -> Vector:\n",
    "    \"\"\"Element wise average is computed\"\"\"\n",
    "    l = len(vectors)\n",
    "    return(scalr_multiply_vector(1/l,vector_sum(vectors)))\n",
    "\n",
    "assert(vector_mean([[2,3],[3,4],[4,5],[5,6],[6,7],[10,5]]) == [5,5])"
   ]
  },
  {
   "cell_type": "markdown",
   "id": "15e852d2",
   "metadata": {},
   "source": [
    "## Dot Product :- \n",
    "### The dot product of two vectors is the sum of their componentwise products:"
   ]
  },
  {
   "cell_type": "code",
   "execution_count": 7,
   "id": "4ad46a84",
   "metadata": {},
   "outputs": [],
   "source": [
    "def dot_product(v:Vector,w:Vector) -> float:\n",
    "    \"\"\" Computes v_1*w_1+......+v_n*w_n \"\"\"\n",
    "    assert len(v) == len(w), \"Vectors must be same Length\"\n",
    "    \n",
    "    return(sum(v_1*w_1 for v_1,w_1 in zip(v,w)))\n",
    "assert dot_product([2,3,4],[3,5,6]) == 45       "
   ]
  },
  {
   "cell_type": "markdown",
   "id": "393944a9",
   "metadata": {},
   "source": [
    "## Using this, it’s easy to compute a vector’s sum of squares:"
   ]
  },
  {
   "cell_type": "code",
   "execution_count": 8,
   "id": "c4be52c4",
   "metadata": {},
   "outputs": [],
   "source": [
    "def sum_of_squares(v : Vector) -> float:\n",
    "    \"\"\" Computes v1*v1+...+vn*vn \"\"\"\n",
    "    return dot_product(v,v)\n",
    "assert sum_of_squares([3,4,5]) == 50"
   ]
  },
  {
   "cell_type": "markdown",
   "id": "699e2c49",
   "metadata": {},
   "source": [
    "## This function can be used to calculate the magnitude(or length) of the vector"
   ]
  },
  {
   "cell_type": "code",
   "execution_count": 9,
   "id": "147af310",
   "metadata": {},
   "outputs": [],
   "source": [
    "import math\n",
    "\n",
    "def vector_magnitude(v: Vector) -> float:\n",
    "    \"\"\" Returns the magnitude of vector 'v' \"\"\"\n",
    "    return math.sqrt(sum_of_squares(v))   # math.sqrt is square root function\n",
    "\n",
    "assert(vector_magnitude([3,4]) == 5)"
   ]
  },
  {
   "cell_type": "markdown",
   "id": "cae67ddc",
   "metadata": {},
   "source": [
    "## Now we can easily compute distance between two vectors v and w"
   ]
  },
  {
   "cell_type": "code",
   "execution_count": 10,
   "id": "36438c87",
   "metadata": {},
   "outputs": [],
   "source": [
    "def distance(v:Vector,w:Vector) -> float:\n",
    "    \"\"\" Computes distance between two vectors\"\"\"\n",
    "    return vector_magnitude(sub_two_vectors(v,w))\n",
    "assert distance([6,8],[3,4]) == 5"
   ]
  },
  {
   "cell_type": "markdown",
   "id": "f114a84e",
   "metadata": {},
   "source": [
    "## Using lists as vectors is great for explaination but terrible for performance.\n",
    "\n",
    "\n",
    "## Matrices\n",
    "### A matrix is a two-dimensional collection of numbers. Which will be represented as lists of lists\n",
    "\n",
    "#### If A is a matrix, then A[i][j] is the element in the ith row and the jth column. Per mathematical convention, we will frequently use capital letters to represent matrices."
   ]
  },
  {
   "cell_type": "code",
   "execution_count": 11,
   "id": "37a2b8c5",
   "metadata": {},
   "outputs": [],
   "source": [
    "## Type Alias of Matrix\n",
    "Matrix = List[List[float]]\n",
    "\n",
    "A = [[1, 2, 3],  # A has 2 rows and 3 columns\n",
    "     [4, 5, 6]]\n",
    "\n",
    "B = [[1, 2],     # B has 3 rows and 2 columns\n",
    "     [3, 4],\n",
    "     [5, 6]]"
   ]
  },
  {
   "cell_type": "markdown",
   "id": "3b0b8753",
   "metadata": {},
   "source": [
    "#### Given this list-of-lists representation, the matrix A has len(A) rows and len(A[0]) columns, which we consider its shape:\n",
    "\n",
    "## Function to calculate shape of matrix"
   ]
  },
  {
   "cell_type": "code",
   "execution_count": 12,
   "id": "ba497c5b",
   "metadata": {},
   "outputs": [],
   "source": [
    "from typing import Tuple\n",
    "\n",
    "def shape(A:Matrix) -> Tuple[int,int]:\n",
    "    \"\"\"Return the # of rows and # of columns\"\"\"\n",
    "    num_rows = len(A)\n",
    "    num_columns = len(A[0]) if A else 0 # number of elements in first row\n",
    "    return num_rows,num_columns\n",
    "\n",
    "assert(shape([[1,2,3],[2,3,4],[5,6,7]]) == (3,3)) "
   ]
  },
  {
   "cell_type": "markdown",
   "id": "a33ebd30",
   "metadata": {},
   "source": [
    "## If a matrix has n rows and k columns, it can be refered to as n × k matrix. We can (and sometimes will) think of each row of an n × k matrix as a vector of length k, and each column as a vector of length n:"
   ]
  },
  {
   "cell_type": "markdown",
   "id": "d57063e4",
   "metadata": {},
   "source": [
    "+ Function to obtain ith row of matrix"
   ]
  },
  {
   "cell_type": "code",
   "execution_count": 13,
   "id": "ee1092ee",
   "metadata": {},
   "outputs": [],
   "source": [
    "def get_row(A :Matrix, i :int) -> Vector:\n",
    "    \"\"\"\n",
    "    Returns the ith row of the matrix\n",
    "    \"\"\"\n",
    "    return A[i]    # A being a list of list A[i] is the ith row\n",
    "\n",
    "assert(get_row([[1,2],[3,4],[5,6]],2) == [5,6])"
   ]
  },
  {
   "cell_type": "markdown",
   "id": "42bd3854",
   "metadata": {},
   "source": [
    "+ Function to obtain jth column of matrix"
   ]
  },
  {
   "cell_type": "code",
   "execution_count": 14,
   "id": "ee7a34cb",
   "metadata": {},
   "outputs": [],
   "source": [
    "def get_column(A :Matrix, j :int) -> Vector:\n",
    "    \"\"\"\n",
    "    Returns the jth column of the matrix\n",
    "    \"\"\"\n",
    "    return [A_i[j] for A_i in A] # A being a list of list A[i] is the ith row\n",
    "\n",
    "assert(get_column([[1,2],[3,4],[5,6]],1) == [2,4,6])"
   ]
  },
  {
   "cell_type": "markdown",
   "id": "9840106e",
   "metadata": {},
   "source": [
    "## We’ll also want to be able to create a matrix given its shape and a function for generating its elements."
   ]
  },
  {
   "cell_type": "code",
   "execution_count": 15,
   "id": "410fabbd",
   "metadata": {},
   "outputs": [],
   "source": [
    "from typing import Callable\n",
    "\n",
    "def make_matrix(num_rows: int,\n",
    "                num_cols: int,\n",
    "                entry_fn: Callable[[int, int], float]) -> Matrix:\n",
    "    \"\"\"\n",
    "    Returns a num_rows x num_cols matrix\n",
    "    whose (i,j)-th entry is entry_fn(i, j)\n",
    "    \"\"\"\n",
    "    return [[entry_fn(i, j)             # given i, create a list\n",
    "             for j in range(num_cols)]  #   [entry_fn(i, 0), ... ]\n",
    "            for i in range(num_rows)]   # create one list for each i"
   ]
  },
  {
   "cell_type": "markdown",
   "id": "b1b5658c",
   "metadata": {},
   "source": [
    "## Given this function, you could make a 6 × 6 identity matrix (with 1s on the diagonal and 0s elsewhere):"
   ]
  },
  {
   "cell_type": "code",
   "execution_count": 16,
   "id": "ba983f27",
   "metadata": {},
   "outputs": [],
   "source": [
    "def identity_matrix(n :int) -> Matrix:\n",
    "    \"\"\"\n",
    "    Returns an identity matrix having\n",
    "    all diagonal elements having row number \n",
    "    equal to column number as 1 and all\n",
    "    others as 0    \n",
    "    \"\"\"\n",
    "    return make_matrix(n,n,lambda i,j: 1 if i == j else 0)\n",
    "\n",
    "assert(identity_matrix(6) == [[1,0,0,0,0,0],\n",
    "                              [0,1,0,0,0,0],\n",
    "                              [0,0,1,0,0,0],\n",
    "                              [0,0,0,1,0,0],\n",
    "                              [0,0,0,0,1,0],\n",
    "                              [0,0,0,0,0,1]])"
   ]
  },
  {
   "cell_type": "markdown",
   "id": "861e4194",
   "metadata": {},
   "source": [
    "## Use of Matrix \n",
    "    1. we can use matrix to represent data set containing multiple vectors, simply by considering each vector as row of matrix\n",
    "    e.g. We can represent age,height,weight,salary of 2000 persons as 2000 X 4 Matrix\n",
    "    2. If we use matrix to represent the freinds among employees in an office we can simple use them to see which two              employess are freinds with each other and which are not"
   ]
  },
  {
   "cell_type": "markdown",
   "id": "85b89454",
   "metadata": {},
   "source": [
    "## Futher Reading:-\n",
    "\n",
    "1. Linear Algebra, by Jim Hefferon (Saint Michael’s College)\n",
    "\n",
    "2. Linear Algebra, by David Cherney, Tom Denton, Rohit Thomas, and Andrew Waldron (UC Davis)\n",
    "\n",
    "3. If you are feeling adventurous, Linear Algebra Done Wrong, by Sergei Treil (Brown University), is a more advanced introduction."
   ]
  }
 ],
 "metadata": {
  "kernelspec": {
   "display_name": "Python 3",
   "language": "python",
   "name": "python3"
  },
  "language_info": {
   "codemirror_mode": {
    "name": "ipython",
    "version": 3
   },
   "file_extension": ".py",
   "mimetype": "text/x-python",
   "name": "python",
   "nbconvert_exporter": "python",
   "pygments_lexer": "ipython3",
   "version": "3.6.13"
  }
 },
 "nbformat": 4,
 "nbformat_minor": 5
}
