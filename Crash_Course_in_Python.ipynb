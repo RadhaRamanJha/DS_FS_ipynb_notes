{
 "cells": [
  {
   "cell_type": "markdown",
   "id": "7b1a3c08",
   "metadata": {},
   "source": [
    "## Ways to form a concatenated Strings"
   ]
  },
  {
   "cell_type": "markdown",
   "id": "04aafb2d",
   "metadata": {},
   "source": [
    "#### Way1 :- String Concatentation"
   ]
  },
  {
   "cell_type": "code",
   "execution_count": 1,
   "id": "edb1b4c3",
   "metadata": {},
   "outputs": [
    {
     "name": "stdout",
     "output_type": "stream",
     "text": [
      "Gabbar Singh\n"
     ]
    }
   ],
   "source": [
    "first_name, last_name = \"Gabbar\",\"Singh\" ## Multiple assignment by tuple unpacking\n",
    "full_name_concat = first_name + \" \" +last_name # String concate\n",
    "print(full_name_concat)"
   ]
  },
  {
   "cell_type": "markdown",
   "id": "aa2a8959",
   "metadata": {},
   "source": [
    "#### Way2 :- Using format strings"
   ]
  },
  {
   "cell_type": "code",
   "execution_count": 2,
   "id": "489fb28d",
   "metadata": {},
   "outputs": [
    {
     "name": "stdout",
     "output_type": "stream",
     "text": [
      "Singh is the last name of Gabbar\n"
     ]
    }
   ],
   "source": [
    "mesage = \"{} is the last name of {}\".format(last_name,first_name) # Format string\n",
    "print(mesage)"
   ]
  },
  {
   "cell_type": "markdown",
   "id": "fa8729f6",
   "metadata": {},
   "source": [
    "#### Way3 :- Using f-strings"
   ]
  },
  {
   "cell_type": "code",
   "execution_count": 3,
   "id": "e6cb7510",
   "metadata": {},
   "outputs": [
    {
     "name": "stdout",
     "output_type": "stream",
     "text": [
      "Did you know name of Singh ji's son is Gabbar\n"
     ]
    }
   ],
   "source": [
    "message = f\"Did you know name of {last_name} ji's son is {first_name}\" # f-string\n",
    "print(message)"
   ]
  },
  {
   "cell_type": "markdown",
   "id": "44c16f58",
   "metadata": {},
   "source": [
    "## Function called using another function"
   ]
  },
  {
   "cell_type": "code",
   "execution_count": 4,
   "id": "08cc5965",
   "metadata": {},
   "outputs": [],
   "source": [
    "def double(x):\n",
    "    \"\"\" Returns double of the input number \"\"\"\n",
    "    return 2*x"
   ]
  },
  {
   "cell_type": "code",
   "execution_count": 5,
   "id": "d633fa7d",
   "metadata": {},
   "outputs": [
    {
     "name": "stdout",
     "output_type": "stream",
     "text": [
      "10\n"
     ]
    }
   ],
   "source": [
    "def apply_to_five(f):\n",
    "    \"\"\"Calls the function f with one as it's argument\"\"\"\n",
    "    return f(5)\n",
    "\n",
    "x = apply_to_five(double)    # refers to the previously defined function double\n",
    "print(x)"
   ]
  },
  {
   "cell_type": "markdown",
   "id": "1ec8588e",
   "metadata": {},
   "source": [
    "## Giving a Defalult value Function Parameter"
   ]
  },
  {
   "cell_type": "code",
   "execution_count": 6,
   "id": "9cf2f27c",
   "metadata": {},
   "outputs": [
    {
     "name": "stdout",
     "output_type": "stream",
     "text": [
      "Hey Twinkle You little star ?\n",
      "\n",
      "No Default Message\n"
     ]
    }
   ],
   "source": [
    "def print_it(message = \"No Default Message\"):\n",
    "    \"\"\" Prints a message if it is provided as argument\n",
    "    Otherwise prints 'No Default Message'\"\"\"\n",
    "    print(message)\n",
    "print_it(\"Hey Twinkle You little star ?\\n\")\n",
    "print_it()"
   ]
  },
  {
   "cell_type": "markdown",
   "id": "f84aff7e",
   "metadata": {},
   "source": [
    "+ Specifying Argument by Names"
   ]
  },
  {
   "cell_type": "code",
   "execution_count": 7,
   "id": "321c799f",
   "metadata": {},
   "outputs": [
    {
     "name": "stdout",
     "output_type": "stream",
     "text": [
      "radha Something\n",
      "radha jha\n",
      "What's His First Name jha\n"
     ]
    }
   ],
   "source": [
    "def incomplete_full_name(first= \"What's His First Name\", last = \"Something\"):\n",
    "    \"\"\"\n",
    "    Prints the combined First name, Last Name\n",
    "    if provided as argument. However, if no argument\n",
    "    provided prints 'What's His First Name' and 'Something'\n",
    "    for first and last name respectively\n",
    "    \"\"\"\n",
    "    return (first+\" \"+last)\n",
    "print(incomplete_full_name('radha'))\n",
    "print(incomplete_full_name('radha','jha'))\n",
    "print(incomplete_full_name(last = 'jha'))"
   ]
  },
  {
   "cell_type": "markdown",
   "id": "7032b043",
   "metadata": {},
   "source": [
    "## Handling Exceptions"
   ]
  },
  {
   "cell_type": "code",
   "execution_count": 8,
   "id": "4fd693dc",
   "metadata": {},
   "outputs": [
    {
     "name": "stdout",
     "output_type": "stream",
     "text": [
      "Cannot Subsract Strings\n",
      "6\n"
     ]
    }
   ],
   "source": [
    "def possitive_difference(a,b):\n",
    "    \"\"\"\n",
    "    Function objective is to return absolute\n",
    "    difference between two numbers\n",
    "    \n",
    "    \"\"\"\n",
    "    try:\n",
    "        return abs(a-b)\n",
    "    except TypeError:\n",
    "        return (\"Cannot Subsract Strings\")\n",
    "print(possitive_difference('a','b'))\n",
    "print(possitive_difference(-2,4))"
   ]
  },
  {
   "cell_type": "markdown",
   "id": "966a6743",
   "metadata": {},
   "source": [
    "## List"
   ]
  },
  {
   "cell_type": "code",
   "execution_count": 9,
   "id": "6a483d08",
   "metadata": {},
   "outputs": [
    {
     "name": "stdout",
     "output_type": "stream",
     "text": [
      "[1, 2, 3, 4, 5, 6, 7, 8, 9]\n",
      "['a', 'b', 'c', 'd', 'e', 'f', 'g', 'h', 'i']\n",
      "[[1, 2, 3, 4, 5, 6, 7, 8, 9], ['a', 'b', 'c', 'd', 'e', 'f', 'g', 'h', 'i']]\n"
     ]
    }
   ],
   "source": [
    "integer_num = [1,2,3,4,5,6,7,8,9]                       # number list\n",
    "alpha_list = ['a','b','c','d','e','f','g','h','i']      # alphabet list\n",
    "lsit_of_list =[integer_num,alpha_list]                  # List of List\n",
    "print(integer_num)\n",
    "print(alpha_list)\n",
    "print(lsit_of_list)"
   ]
  },
  {
   "cell_type": "markdown",
   "id": "06f6dfb2",
   "metadata": {},
   "source": [
    "## Element access in list "
   ]
  },
  {
   "cell_type": "markdown",
   "id": "d1a17aac",
   "metadata": {},
   "source": [
    "#### Note that List index from start 0  and \n",
    "#### The list element can also be assesed by last (-1)"
   ]
  },
  {
   "cell_type": "code",
   "execution_count": 10,
   "id": "599f431a",
   "metadata": {},
   "outputs": [
    {
     "name": "stdout",
     "output_type": "stream",
     "text": [
      "1\n",
      "1\n",
      "9\n",
      "9\n"
     ]
    }
   ],
   "source": [
    "print(integer_num[0])  # First element\n",
    "print(integer_num[-9]) # First element\n",
    "print(integer_num[-1]) # Last element\n",
    "print(integer_num[8])  # Last element"
   ]
  },
  {
   "cell_type": "markdown",
   "id": "ae720c20",
   "metadata": {},
   "source": [
    "### Number of element in a list "
   ]
  },
  {
   "cell_type": "code",
   "execution_count": 11,
   "id": "7f040c69",
   "metadata": {},
   "outputs": [
    {
     "name": "stdout",
     "output_type": "stream",
     "text": [
      "Total elements in [1, 2, 3, 4, 5, 6, 7, 8, 9] are 9\n",
      "Total elements in ['a', 'b', 'c', 'd', 'e', 'f', 'g', 'h', 'i'] are 9\n"
     ]
    }
   ],
   "source": [
    "print(f\"Total elements in {integer_num} are {len(integer_num)}\")\n",
    "print(f\"Total elements in {alpha_list} are {len(alpha_list)}\")"
   ]
  },
  {
   "cell_type": "markdown",
   "id": "38325925",
   "metadata": {},
   "source": [
    "### Sum of all elements in a list"
   ]
  },
  {
   "cell_type": "code",
   "execution_count": 12,
   "id": "64917802",
   "metadata": {},
   "outputs": [
    {
     "name": "stdout",
     "output_type": "stream",
     "text": [
      "The sum of all elements in [1, 2, 3, 4, 5, 6, 7, 8, 9] is 45\n"
     ]
    }
   ],
   "source": [
    "print(f\"The sum of all elements in {integer_num} is {sum(integer_num)}\")"
   ]
  },
  {
   "cell_type": "markdown",
   "id": "ee54cc8b",
   "metadata": {},
   "source": [
    "### Get or Set any element of a list using [ ] operator "
   ]
  },
  {
   "cell_type": "code",
   "execution_count": 13,
   "id": "a7c382a5",
   "metadata": {},
   "outputs": [
    {
     "name": "stdout",
     "output_type": "stream",
     "text": [
      "4 8\n"
     ]
    }
   ],
   "source": [
    "print(integer_num[3],integer_num[7])"
   ]
  },
  {
   "cell_type": "code",
   "execution_count": 14,
   "id": "bf25284f",
   "metadata": {},
   "outputs": [
    {
     "name": "stdout",
     "output_type": "stream",
     "text": [
      "[1, 2, 3, 4, 5, 6, 7, 8, 9]\n",
      "[1, 2, 3, 14, 5, 6, 7, 8, 9]\n"
     ]
    }
   ],
   "source": [
    "print(integer_num)\n",
    "integer_num[3] = 14\n",
    "print(integer_num) ## Note the 4th element changed"
   ]
  },
  {
   "cell_type": "markdown",
   "id": "c6efbf90",
   "metadata": {},
   "source": [
    "## Slicing of elements of List "
   ]
  },
  {
   "cell_type": "code",
   "execution_count": 15,
   "id": "5cd2fd99",
   "metadata": {},
   "outputs": [
    {
     "name": "stdout",
     "output_type": "stream",
     "text": [
      "First three elements of the numerical list are following :- [1, 2, 3]\n",
      "Last three elements of the numerical list are following :- [7, 8, 9]\n",
      "Second to fifth elements of the numerical list are following :- [2, 3, 14]\n"
     ]
    }
   ],
   "source": [
    "print(f\"First three elements of the numerical list are following :- {integer_num[:3]}\")\n",
    "# If first element of slice is not mentioned the slicing starts from begining of list\n",
    "print(f\"Last three elements of the numerical list are following :- {integer_num[-3:]}\")\n",
    "# If last element of slice is not mentioned the slicing terminates at end of list\n",
    "print(f\"Second to fifth elements of the numerical list are following :- {integer_num[1:4]}\")\n",
    "# Slicing will start at first element of slice and will end one before the last element of the slice"
   ]
  },
  {
   "cell_type": "markdown",
   "id": "8521d4c8",
   "metadata": {},
   "source": [
    "#### Strings and other \" Sequential \" Types can also slices similarly\n",
    "\n",
    "## Different sequential types of Python are :-\n",
    "1.Strings\n",
    "2. Lists\n",
    "3. Tuples\n",
    "4. Bytes Sequences\n",
    "5. Bytes Arrays\n",
    "6. range() objects\n",
    "\n",
    "#### Slicing also takes an optional third argument which is the Step or Stride of slicing"
   ]
  },
  {
   "cell_type": "code",
   "execution_count": 16,
   "id": "0f26d594",
   "metadata": {},
   "outputs": [
    {
     "name": "stdout",
     "output_type": "stream",
     "text": [
      "Every alternate elements of the list are following [1, 3, 5, 7, 9]\n"
     ]
    }
   ],
   "source": [
    "print(f\"Every alternate elements of the list are following {integer_num[::2]}\")"
   ]
  },
  {
   "cell_type": "markdown",
   "id": "449c7e29",
   "metadata": {},
   "source": [
    "#### Memebership check for the list"
   ]
  },
  {
   "cell_type": "code",
   "execution_count": 17,
   "id": "92e311f2",
   "metadata": {},
   "outputs": [
    {
     "data": {
      "text/plain": [
       "True"
      ]
     },
     "execution_count": 17,
     "metadata": {},
     "output_type": "execute_result"
    }
   ],
   "source": [
    "1 in [1,2,3]"
   ]
  },
  {
   "cell_type": "code",
   "execution_count": 18,
   "id": "cfc88c66",
   "metadata": {},
   "outputs": [
    {
     "data": {
      "text/plain": [
       "False"
      ]
     },
     "execution_count": 18,
     "metadata": {},
     "output_type": "execute_result"
    }
   ],
   "source": [
    "4 in [1,2,3]"
   ]
  },
  {
   "cell_type": "markdown",
   "id": "739585d2",
   "metadata": {},
   "source": [
    "### To do add all elements of list y into list x use extend, it leads to inplace modification of list x"
   ]
  },
  {
   "cell_type": "code",
   "execution_count": 19,
   "id": "856834db",
   "metadata": {},
   "outputs": [
    {
     "name": "stdout",
     "output_type": "stream",
     "text": [
      "[1, 2, 3, 4, 5, 6]\n"
     ]
    }
   ],
   "source": [
    "x = [1,2,3]\n",
    "y = [4,5,6]\n",
    "x.extend(y)\n",
    "print(x)"
   ]
  },
  {
   "cell_type": "markdown",
   "id": "b756b996",
   "metadata": {},
   "source": [
    "## To avoid inplace modification use list addition"
   ]
  },
  {
   "cell_type": "code",
   "execution_count": 20,
   "id": "a67d465f",
   "metadata": {},
   "outputs": [
    {
     "name": "stdout",
     "output_type": "stream",
     "text": [
      "[1, 2, 3, 4, 5, 6, 7, 8]\n"
     ]
    }
   ],
   "source": [
    "xx = [1,2,3,4]\n",
    "yy = [1,2,3,4] + [5,6,7,8]\n",
    "print(yy)"
   ]
  },
  {
   "cell_type": "markdown",
   "id": "2de78ecf",
   "metadata": {},
   "source": [
    "## To add one element to list at a time"
   ]
  },
  {
   "cell_type": "code",
   "execution_count": 21,
   "id": "c52972cf",
   "metadata": {},
   "outputs": [
    {
     "name": "stdout",
     "output_type": "stream",
     "text": [
      "[1, 2, 3, 4, 5, 6, 7, 8, 9, 10]\n"
     ]
    }
   ],
   "source": [
    "abc = [1,2,3,4,5,6,7,8,9]\n",
    "abc.append(10)               # append adds a single element at the end of list \n",
    "print(abc)"
   ]
  },
  {
   "cell_type": "markdown",
   "id": "8ea59ada",
   "metadata": {},
   "source": [
    "### Note :- If one list is appended to other list, the list which is appended will be added to end of first list as a single element of previous list"
   ]
  },
  {
   "cell_type": "code",
   "execution_count": 22,
   "id": "764a5387",
   "metadata": {},
   "outputs": [
    {
     "name": "stdout",
     "output_type": "stream",
     "text": [
      "[1, 2, 3, 4, 5, 6, [7, 8, 9, 10, 11]]\n"
     ]
    }
   ],
   "source": [
    "abcd = [1,2,3,4,5,6]\n",
    "efgh = [7,8,9,10,11]\n",
    "abcd.append(efgh)\n",
    "print(abcd)"
   ]
  },
  {
   "cell_type": "markdown",
   "id": "7415125d",
   "metadata": {},
   "source": [
    "## Unpacking the Collections :- \n",
    "\n",
    "## Types of Collections :- \n",
    "1. List\n",
    "2. String\n",
    "3. Set\n",
    "4. Tuple and\n",
    "5. Dictionary"
   ]
  },
  {
   "cell_type": "code",
   "execution_count": 23,
   "id": "967adb7d",
   "metadata": {},
   "outputs": [
    {
     "name": "stdout",
     "output_type": "stream",
     "text": [
      "\n",
      "The value of x is 1\n",
      "The value of y is 2\n",
      "The value of z is 3\n",
      "\n"
     ]
    }
   ],
   "source": [
    "x,y,z = [1,2,3]\n",
    "print(f\"\"\"\n",
    "The value of x is {x}\n",
    "The value of y is {y}\n",
    "The value of z is {z}\n",
    "\"\"\")"
   ]
  },
  {
   "cell_type": "markdown",
   "id": "e9e77933",
   "metadata": {},
   "source": [
    "### Similar unpacking works for string"
   ]
  },
  {
   "cell_type": "code",
   "execution_count": 25,
   "id": "37193af3",
   "metadata": {},
   "outputs": [
    {
     "name": "stdout",
     "output_type": "stream",
     "text": [
      "H_e_l_l_o\n"
     ]
    }
   ],
   "source": [
    "a,b,c,d,e = \"Hello\"\n",
    "print(a,b,c,d,e,sep='_')"
   ]
  },
  {
   "cell_type": "markdown",
   "id": "29de7fcd",
   "metadata": {},
   "source": [
    "## Unpacking is also works for sets"
   ]
  },
  {
   "cell_type": "code",
   "execution_count": 29,
   "id": "aa8b1758",
   "metadata": {},
   "outputs": [
    {
     "name": "stdout",
     "output_type": "stream",
     "text": [
      "1_2_3_4_5\n"
     ]
    }
   ],
   "source": [
    "a,b,c,d,e = {1,2,3,4,5}\n",
    "print(a,b,c,d,e,sep='_')"
   ]
  },
  {
   "cell_type": "markdown",
   "id": "3b1b74d2",
   "metadata": {},
   "source": [
    "## We have already  seen it works for tuple"
   ]
  },
  {
   "cell_type": "code",
   "execution_count": 27,
   "id": "eed76db7",
   "metadata": {},
   "outputs": [
    {
     "name": "stdout",
     "output_type": "stream",
     "text": [
      "2_4\n"
     ]
    }
   ],
   "source": [
    "a,b = (2,4)\n",
    "print(a,b,sep='_')"
   ]
  },
  {
   "cell_type": "markdown",
   "id": "bdf1ccf1",
   "metadata": {},
   "source": [
    "## Note :- In case of the last collection type i.e. dictionary if we apply unpacking the variable will be assigned to the keys"
   ]
  },
  {
   "cell_type": "code",
   "execution_count": 30,
   "id": "5a429a49",
   "metadata": {},
   "outputs": [
    {
     "name": "stdout",
     "output_type": "stream",
     "text": [
      "a\n",
      "b\n"
     ]
    }
   ],
   "source": [
    "c,d = {'a':1,'b':2}\n",
    "print(c)\n",
    "print(d)"
   ]
  },
  {
   "cell_type": "markdown",
   "id": "11f69f94",
   "metadata": {},
   "source": [
    "#### Incase the number of values on left and right side of the equality operator are not equal we will get a ' ValueError: not enough values to unpack '"
   ]
  },
  {
   "cell_type": "code",
   "execution_count": 31,
   "id": "8842e939",
   "metadata": {},
   "outputs": [
    {
     "ename": "ValueError",
     "evalue": "not enough values to unpack (expected 3, got 2)",
     "output_type": "error",
     "traceback": [
      "\u001b[1;31m---------------------------------------------------------------------------\u001b[0m",
      "\u001b[1;31mValueError\u001b[0m                                Traceback (most recent call last)",
      "\u001b[1;32m<ipython-input-31-c69fd42838d8>\u001b[0m in \u001b[0;36m<module>\u001b[1;34m\u001b[0m\n\u001b[1;32m----> 1\u001b[1;33m \u001b[0mx\u001b[0m\u001b[1;33m,\u001b[0m\u001b[0my\u001b[0m\u001b[1;33m,\u001b[0m\u001b[0mz\u001b[0m \u001b[1;33m=\u001b[0m \u001b[1;33m[\u001b[0m\u001b[1;36m1\u001b[0m\u001b[1;33m,\u001b[0m\u001b[1;36m2\u001b[0m\u001b[1;33m]\u001b[0m\u001b[1;33m\u001b[0m\u001b[1;33m\u001b[0m\u001b[0m\n\u001b[0m",
      "\u001b[1;31mValueError\u001b[0m: not enough values to unpack (expected 3, got 2)"
     ]
    }
   ],
   "source": [
    "x,y,z = [1,2]"
   ]
  },
  {
   "cell_type": "markdown",
   "id": "69b35af4",
   "metadata": {},
   "source": [
    "### Common idom to use ' _ ' for the value which were are going to throw away"
   ]
  },
  {
   "cell_type": "code",
   "execution_count": 32,
   "id": "d912c0bb",
   "metadata": {},
   "outputs": [
    {
     "name": "stdout",
     "output_type": "stream",
     "text": [
      "2\n"
     ]
    }
   ],
   "source": [
    "_,y = [1,2] \n",
    "print(y)"
   ]
  },
  {
   "cell_type": "markdown",
   "id": "72a4fb81",
   "metadata": {},
   "source": [
    "## Tuples "
   ]
  },
  {
   "cell_type": "code",
   "execution_count": 33,
   "id": "0230df76",
   "metadata": {},
   "outputs": [
    {
     "name": "stdout",
     "output_type": "stream",
     "text": [
      "(1, 2)\n",
      "(3, 4)\n"
     ]
    }
   ],
   "source": [
    "my_tuple = (1,2) # This is a tuple\n",
    "other_tuple = 3,4 # This is also a Tuple\n",
    "print(my_tuple)\n",
    "print(other_tuple)"
   ]
  },
  {
   "cell_type": "markdown",
   "id": "e4119581",
   "metadata": {},
   "source": [
    "#### Tuples are convinient way to return multiple values from a function"
   ]
  },
  {
   "cell_type": "code",
   "execution_count": 34,
   "id": "26c5f529",
   "metadata": {},
   "outputs": [],
   "source": [
    "def sum_product_division(a,b):\n",
    "    \"\"\"\n",
    "    Returns the result of Sum, Product, Division\n",
    "    of two given numbers\n",
    "    \"\"\"\n",
    "    return ((a+b),(a*b),(a/b))"
   ]
  },
  {
   "cell_type": "code",
   "execution_count": 35,
   "id": "5ae6c1ca",
   "metadata": {},
   "outputs": [
    {
     "name": "stdout",
     "output_type": "stream",
     "text": [
      "The sum, product, divison of the numbers returns (20, 64, 4.0)\n"
     ]
    }
   ],
   "source": [
    "result = sum_product_division(16,4)\n",
    "print(f\"The sum, product, divison of the numbers returns {result}\")"
   ]
  },
  {
   "cell_type": "code",
   "execution_count": 36,
   "id": "c30fa45c",
   "metadata": {},
   "outputs": [
    {
     "name": "stdout",
     "output_type": "stream",
     "text": [
      "The sum of the two numbers is 650\n",
      "The product of the two numbers is 15625\n",
      "The division of the two numbers yeild 25.0\n"
     ]
    }
   ],
   "source": [
    "s,p,d = sum_product_division(625,25)\n",
    "print(f\"\"\"The sum of the two numbers is {s}\n",
    "The product of the two numbers is {p}\n",
    "The division of the two numbers yeild {d}\"\"\")"
   ]
  },
  {
   "cell_type": "markdown",
   "id": "ec4c494d",
   "metadata": {},
   "source": [
    "#### Tuples can also be used for multiple assignment"
   ]
  },
  {
   "cell_type": "code",
   "execution_count": 37,
   "id": "42ee3128",
   "metadata": {},
   "outputs": [
    {
     "name": "stdout",
     "output_type": "stream",
     "text": [
      "Value of x is 3\n",
      "Value of y is 2\n"
     ]
    }
   ],
   "source": [
    "x,y = 2,3\n",
    "x,y = y,x # Pythonic way to swap variables \n",
    "print(f\"Value of x is {x}\\nValue of y is {y}\")"
   ]
  },
  {
   "cell_type": "markdown",
   "id": "3c6526b9",
   "metadata": {},
   "source": [
    "## Dictionary"
   ]
  },
  {
   "cell_type": "code",
   "execution_count": 38,
   "id": "d192206a",
   "metadata": {},
   "outputs": [],
   "source": [
    "empty_dict = {}                     # Pythonic\n",
    "empty_dict2 = dict()                # less Pythonic\n",
    "grades = {\"Jhon\": 80, \"Tom\": 95, \"Mary\": 85}    # dictionary literal"
   ]
  },
  {
   "cell_type": "markdown",
   "id": "83705e35",
   "metadata": {},
   "source": [
    "#### Value for a key can be lookup using [ ]"
   ]
  },
  {
   "cell_type": "code",
   "execution_count": 39,
   "id": "37874be8",
   "metadata": {},
   "outputs": [
    {
     "name": "stdout",
     "output_type": "stream",
     "text": [
      "Jhon got 80\n"
     ]
    }
   ],
   "source": [
    "print(f\"Jhon got {grades['Jhon']}\")"
   ]
  },
  {
   "cell_type": "markdown",
   "id": "32ca5231",
   "metadata": {},
   "source": [
    "#### If we ask for a 'key' which is not present in dictionary we get a key error"
   ]
  },
  {
   "cell_type": "code",
   "execution_count": 40,
   "id": "c61d9047",
   "metadata": {},
   "outputs": [
    {
     "name": "stdout",
     "output_type": "stream",
     "text": [
      "No grades for Vijay !\n"
     ]
    }
   ],
   "source": [
    "try:\n",
    "    print(f\"Vijay got {grades['Vijay']}\")\n",
    "except KeyError:\n",
    "    print(\"No grades for Vijay !\")"
   ]
  },
  {
   "cell_type": "markdown",
   "id": "88f0e477",
   "metadata": {},
   "source": [
    "#### Existence of a key can be checked in a dictionary using the ' in ' operator which is fast even for large dictionary"
   ]
  },
  {
   "cell_type": "code",
   "execution_count": 41,
   "id": "c12f4aaf",
   "metadata": {},
   "outputs": [
    {
     "name": "stdout",
     "output_type": "stream",
     "text": [
      "95\n",
      "Rock has no grades, he is Wresteling !\n"
     ]
    }
   ],
   "source": [
    "if 'Tom' in grades:           # if True\n",
    "    print(grades['Tom'])\n",
    "if 'Rock' not in grades:      # if not False\n",
    "    print(\"Rock has no grades, he is Wresteling !\")"
   ]
  },
  {
   "cell_type": "markdown",
   "id": "4ed8aed1",
   "metadata": {},
   "source": [
    "#### Dictionaries have a get method which returns default value incase no values for the key is present in the dictionary"
   ]
  },
  {
   "cell_type": "code",
   "execution_count": 42,
   "id": "b87bc857",
   "metadata": {},
   "outputs": [
    {
     "data": {
      "text/plain": [
       "85"
      ]
     },
     "execution_count": 42,
     "metadata": {},
     "output_type": "execute_result"
    }
   ],
   "source": [
    "grades.get(\"Mary\",\"No Grades for him/her\")"
   ]
  },
  {
   "cell_type": "code",
   "execution_count": 43,
   "id": "7bdf3873",
   "metadata": {},
   "outputs": [
    {
     "data": {
      "text/plain": [
       "'No Grades for him/her'"
      ]
     },
     "execution_count": 43,
     "metadata": {},
     "output_type": "execute_result"
    }
   ],
   "source": [
    "grades.get(\"Manju\",\"No Grades for him/her\")"
   ]
  },
  {
   "cell_type": "code",
   "execution_count": 44,
   "id": "9f82bd02",
   "metadata": {},
   "outputs": [],
   "source": [
    "grades.get(\"Deepak\") ## No default value does not return anything"
   ]
  },
  {
   "cell_type": "markdown",
   "id": "cd431c1b",
   "metadata": {},
   "source": [
    "#### The key/value pairs can be assigned/modified using the same square brackets:"
   ]
  },
  {
   "cell_type": "code",
   "execution_count": 45,
   "id": "91ea7f11",
   "metadata": {},
   "outputs": [
    {
     "data": {
      "text/plain": [
       "75"
      ]
     },
     "execution_count": 45,
     "metadata": {},
     "output_type": "execute_result"
    }
   ],
   "source": [
    "grades['Jhon'] = 75\n",
    "grades['Jhon']"
   ]
  },
  {
   "cell_type": "markdown",
   "id": "249fc05d",
   "metadata": {},
   "source": [
    "### Dictionary can be used to represent structured data"
   ]
  },
  {
   "cell_type": "code",
   "execution_count": 46,
   "id": "bcc4a9b7",
   "metadata": {},
   "outputs": [],
   "source": [
    "tweet = {\n",
    "    \"user\" : \"rade\",\n",
    "    \"text\" : \"Data Science is Awesome\",\n",
    "    \"retweet_count\" : 100,\n",
    "    \"hashtags\" : [\"#data\", \"#science\", \"#datascience\", \"#awesome\", \"#yolo\"]\n",
    "}"
   ]
  },
  {
   "cell_type": "markdown",
   "id": "a0fdf435",
   "metadata": {},
   "source": [
    "#### We can be look for all the keys,,values and items of dictionary "
   ]
  },
  {
   "cell_type": "code",
   "execution_count": 47,
   "id": "705ba40a",
   "metadata": {},
   "outputs": [
    {
     "name": "stdout",
     "output_type": "stream",
     "text": [
      "True\n",
      "True\n",
      "True\n"
     ]
    }
   ],
   "source": [
    "tweet_keys   = tweet.keys()     # iterable for the keys\n",
    "tweet_values = tweet.values()   # iterable for the values\n",
    "tweet_items  = tweet.items()    # iterable for the (key, value) tuples\n",
    "\n",
    "print(\"user\" in tweet_keys)            # True, but not Pythonic\n",
    "print(\"user\" in tweet)                 # Pythonic way of checking for keys\n",
    "print(\"rade\" in tweet_values)      # True (slow but the only way to check)"
   ]
  },
  {
   "cell_type": "markdown",
   "id": "b0a4ac2c",
   "metadata": {},
   "source": [
    "#### Dictionary keys must be “hashable” i.e. Immutable\n",
    "\n",
    "## Default dict\n",
    "\n",
    "### Problem statement :- cont the words in a Document\n",
    "\n",
    "#### Approcah 1 :- using if-else "
   ]
  },
  {
   "cell_type": "code",
   "execution_count": 48,
   "id": "832ec3a5",
   "metadata": {},
   "outputs": [],
   "source": [
    "def words_in_doc1(document):\n",
    "    \"\"\"\n",
    "    Counts the occurance each word in document as a dictionary\n",
    "    \"\"\"\n",
    "    word_counts = {}\n",
    "    for word in document:\n",
    "        if word in word_counts:\n",
    "            word_counts[word] += 1\n",
    "        else:\n",
    "            word_counts[word] = 1\n",
    "    return(word_counts)"
   ]
  },
  {
   "cell_type": "markdown",
   "id": "82d8d862",
   "metadata": {},
   "source": [
    "### Approach 2 :- Using Try except :-"
   ]
  },
  {
   "cell_type": "code",
   "execution_count": 49,
   "id": "ca3a8de6",
   "metadata": {},
   "outputs": [],
   "source": [
    "def words_in_doc2(document):\n",
    "    word_counts = {}\n",
    "    for word in document:\n",
    "        try:\n",
    "            word_counts[word] += 1\n",
    "        except KeyError:\n",
    "            word_counts[word] = 1\n",
    "        return(word_counts)"
   ]
  },
  {
   "cell_type": "markdown",
   "id": "47e4e6d2",
   "metadata": {},
   "source": [
    "### Aproach 3 :- Using ' get ' to handle missing keys"
   ]
  },
  {
   "cell_type": "code",
   "execution_count": 50,
   "id": "82abb2e7",
   "metadata": {},
   "outputs": [],
   "source": [
    "def words_in_doc3(document):\n",
    "    word_counts = {}\n",
    "    for word in document:\n",
    "        previous_count = word_counts.get(word,0)\n",
    "        word_counts[word] = previous_count+1\n",
    "    return(word_counts)"
   ]
  },
  {
   "cell_type": "markdown",
   "id": "73e49de5",
   "metadata": {},
   "source": [
    "### Best Aprroach :- Using defaultdict.\n",
    "+ A defaultdict is like a regular dictionary, except that when you try to look up a key which it doesn’t contain, it first adds a value for it using a zero-argument function you provided when you created it. In order to use defaultdicts, you have to import them from 'collections' module"
   ]
  },
  {
   "cell_type": "code",
   "execution_count": 51,
   "id": "e3c9ff48",
   "metadata": {},
   "outputs": [],
   "source": [
    "from collections import defaultdict\n",
    "def words_in_doc(document):\n",
    "    word_counts = defaultdict(int)          # int() produces 0\n",
    "    for word in document:\n",
    "        word_counts[word] += 1\n",
    "    return(word_counts)"
   ]
  },
  {
   "cell_type": "code",
   "execution_count": 63,
   "id": "30d0759d",
   "metadata": {},
   "outputs": [
    {
     "data": {
      "text/plain": [
       "defaultdict(int,\n",
       "            {'I': 1,\n",
       "             'am': 2,\n",
       "             'someone': 1,\n",
       "             'i': 3,\n",
       "             'did': 2,\n",
       "             'enginerring': 1,\n",
       "             'from': 1,\n",
       "             'some': 3,\n",
       "             'college': 2,\n",
       "             'masters': 1,\n",
       "             'in': 2,\n",
       "             'engineering': 1,\n",
       "             'fom': 1,\n",
       "             'other': 2,\n",
       "             'now': 1,\n",
       "             'looking': 1,\n",
       "             'for': 1,\n",
       "             'job': 1,\n",
       "             'branch': 1,\n",
       "             'of': 1,\n",
       "             'enginering': 1,\n",
       "             'after': 1,\n",
       "             'upskilling': 1})"
      ]
     },
     "execution_count": 63,
     "metadata": {},
     "output_type": "execute_result"
    }
   ],
   "source": [
    "speech  = \"I am someone i did enginerring from some college i did masters in engineering fom some other college now i am looking for job in some other branch of enginering after upskilling\"\n",
    "words_in_doc(speech.split())"
   ]
  },
  {
   "cell_type": "markdown",
   "id": "d6c242f0",
   "metadata": {},
   "source": [
    "### Default Dictionary can also be useful with list or dict, or even your own functions:"
   ]
  },
  {
   "cell_type": "code",
   "execution_count": 53,
   "id": "f634a005",
   "metadata": {},
   "outputs": [],
   "source": [
    "dd_list = defaultdict(list)             # list() produces an empty list\n",
    "dd_list[2].append(1)                    # now dd_list contains {2: [1]}\n",
    "\n",
    "dd_dict = defaultdict(dict)             # dict() produces an empty dict\n",
    "dd_dict[\"Joel\"][\"City\"] = \"Seattle\"     # {\"Joel\" : {\"City\": Seattle\"}}\n",
    "\n",
    "dd_pair = defaultdict(lambda: [0, 0])\n",
    "dd_pair[2][1] = 1                       # now dd_pair contains {2: [0, 1]}"
   ]
  },
  {
   "cell_type": "code",
   "execution_count": 54,
   "id": "c718914e",
   "metadata": {},
   "outputs": [
    {
     "name": "stdout",
     "output_type": "stream",
     "text": [
      "[1, 3]\n"
     ]
    }
   ],
   "source": [
    "dd_list[2].append(3)\n",
    "print(dd_list[2])"
   ]
  },
  {
   "cell_type": "markdown",
   "id": "5a3250ee",
   "metadata": {},
   "source": [
    "#### Default dictionary will be useful when we’re using dictionaries to “collect” results by some key and don’t want to have to check every time to see if the key exists yet."
   ]
  },
  {
   "cell_type": "markdown",
   "id": "caff6441",
   "metadata": {},
   "source": [
    "## Counter\n",
    "### A Counter turns a sequence of values into a defaultdict(int)-like object mapping keys to counts:"
   ]
  },
  {
   "cell_type": "code",
   "execution_count": 58,
   "id": "1ab924aa",
   "metadata": {},
   "outputs": [
    {
     "name": "stdout",
     "output_type": "stream",
     "text": [
      "The word 'some' is used 3 times speech \n",
      "There are 23 unique words in the speech\n"
     ]
    }
   ],
   "source": [
    "from collections import Counter\n",
    "doc_words = Counter(speech.split())\n",
    "print(f\"The word 'some' is used {doc_words['some']} times speech \") ## ocuurance of blank spaces in speech)\n",
    "print(f\"There are {len(doc_words)} unique words in the speech\")"
   ]
  },
  {
   "cell_type": "markdown",
   "id": "d509d847",
   "metadata": {},
   "source": [
    "### A Counter instance has a most_common method that is frequently useful:"
   ]
  },
  {
   "cell_type": "code",
   "execution_count": 62,
   "id": "7aa0ec9f",
   "metadata": {},
   "outputs": [
    {
     "name": "stdout",
     "output_type": "stream",
     "text": [
      "The 5 most common words in doc_words are :-\n",
      "i 3\n",
      "some 3\n",
      "am 2\n",
      "did 2\n",
      "college 2\n"
     ]
    }
   ],
   "source": [
    "print(\"The 5 most common words in doc_words are :-\")\n",
    "for word, count in doc_words.most_common(5):\n",
    "    print(f'{word}',count)"
   ]
  },
  {
   "cell_type": "markdown",
   "id": "8dc1f872",
   "metadata": {},
   "source": [
    "#### Sets :- Data Structure which represents a collection of distinct elements. A set can be defined by listing its elements between curly braces, however, that doesn’t work for empty sets, as {} already means “empty dict.” In that case you’ll need to use set() itself:"
   ]
  },
  {
   "cell_type": "code",
   "execution_count": 64,
   "id": "30922e48",
   "metadata": {},
   "outputs": [],
   "source": [
    "s = set()\n",
    "s.add(1)       # s is now {1}\n",
    "s.add(2)       # s is now {1, 2}\n",
    "s.add(2)       # s is still {1, 2}\n",
    "x = len(s)     # equals 2\n",
    "y = 2 in s     # equals True\n",
    "z = 3 in s     # equals False"
   ]
  },
  {
   "cell_type": "markdown",
   "id": "96cdec64",
   "metadata": {},
   "source": [
    "## Reasons for using sets :- "
   ]
  },
  {
   "cell_type": "markdown",
   "id": "d64ced47",
   "metadata": {},
   "source": [
    "#### 1.  ' in '  is a very fast operation on sets. If we have a large collection of items that we want to use for a membership test, a set is more appropriate than a list:"
   ]
  },
  {
   "cell_type": "code",
   "execution_count": 66,
   "id": "3dfb4cb0",
   "metadata": {},
   "outputs": [
    {
     "name": "stdout",
     "output_type": "stream",
     "text": [
      "Time taken by 'in' operator with list: 0.10827089999975215 seconds\n",
      "Time taken by 'in' operator with set: 0.03766799999993964 seconds\n"
     ]
    }
   ],
   "source": [
    "import timeit\n",
    "\n",
    "setup_code_list = '''\n",
    "stopwords_list = [\"a\", \"an\", \"at\"] + [\"yet\", \"you\"]\n",
    "\"zip\" in stopwords_list\n",
    "'''\n",
    "list_time = timeit.timeit(stmt='\"zip\" in stopwords_list', setup=setup_code_list)\n",
    "\n",
    "setup_code_set = '''\n",
    "stopwords_list = [\"a\", \"an\", \"at\"] + [\"yet\", \"you\"]\n",
    "stopwords_set = set(stopwords_list)\n",
    "'''\n",
    "set_time = timeit.timeit(stmt='\"zip\" in stopwords_set', setup=setup_code_set)\n",
    "\n",
    "print(f\"Time taken by 'in' operator with list: {list_time} seconds\")\n",
    "print(f\"Time taken by 'in' operator with set: {set_time} seconds\")"
   ]
  },
  {
   "cell_type": "markdown",
   "id": "8b7f3c4f",
   "metadata": {},
   "source": [
    "#### 2. The second reason is to find the distinct items in a collection:"
   ]
  },
  {
   "cell_type": "code",
   "execution_count": 67,
   "id": "b3633d27",
   "metadata": {},
   "outputs": [],
   "source": [
    "item_list = [1, 2, 3, 1, 2, 3]\n",
    "num_items = len(item_list)                # 6\n",
    "item_set = set(item_list)                 # {1, 2, 3}\n",
    "num_distinct_items = len(item_set)        # 3\n",
    "distinct_item_list = list(item_set)       # [1, 2, 3]"
   ]
  },
  {
   "cell_type": "markdown",
   "id": "98203d45",
   "metadata": {},
   "source": [
    "#### We use sets less frequently than dictionaries and lists.\n",
    "\n",
    "#### Control Flow"
   ]
  },
  {
   "cell_type": "markdown",
   "id": "f6a3b296",
   "metadata": {},
   "source": [
    "#### you can perform an action conditionally using if:"
   ]
  },
  {
   "cell_type": "code",
   "execution_count": 68,
   "id": "08828ff9",
   "metadata": {},
   "outputs": [
    {
     "name": "stdout",
     "output_type": "stream",
     "text": [
      "The number 53 is Odd\n"
     ]
    }
   ],
   "source": [
    "def even_or_odd(num):\n",
    "    if num % 2 == 0 :\n",
    "        return(\"Even\")\n",
    "    else:                ## else is not compulsory\n",
    "        return (\"Odd\")\n",
    "print(f\"The number 53 is {even_or_odd(53)}\")"
   ]
  },
  {
   "cell_type": "markdown",
   "id": "735ffe08",
   "metadata": {},
   "source": [
    "###  ternary if-then-else can also be written on one line"
   ]
  },
  {
   "cell_type": "code",
   "execution_count": 69,
   "id": "1dd141b7",
   "metadata": {},
   "outputs": [],
   "source": [
    "def man_age(age):\n",
    "    return \"Senior Citizen\" if age > 60 else \"He is able to work\""
   ]
  },
  {
   "cell_type": "code",
   "execution_count": 70,
   "id": "05ca3341",
   "metadata": {},
   "outputs": [
    {
     "name": "stdout",
     "output_type": "stream",
     "text": [
      "Radha is He is able to work\n",
      "Kjha is Senior Citizen\n"
     ]
    }
   ],
   "source": [
    "print(f\"Radha is {man_age(35)}\")\n",
    "print(f\"Kjha is {man_age(65)}\")"
   ]
  },
  {
   "cell_type": "markdown",
   "id": "706a0942",
   "metadata": {},
   "source": [
    "### Python has a while loop :- "
   ]
  },
  {
   "cell_type": "code",
   "execution_count": 71,
   "id": "9bfe5c13",
   "metadata": {},
   "outputs": [
    {
     "name": "stdout",
     "output_type": "stream",
     "text": [
      "1 2 3 4 5 6 7 8 9 "
     ]
    }
   ],
   "source": [
    "x = 1\n",
    "while x < 10 :\n",
    "    print(x,end=' ')\n",
    "    x += 1"
   ]
  },
  {
   "cell_type": "markdown",
   "id": "d3aa9db6",
   "metadata": {},
   "source": [
    "### however for and in is generally used "
   ]
  },
  {
   "cell_type": "code",
   "execution_count": 72,
   "id": "5eb07705",
   "metadata": {},
   "outputs": [
    {
     "name": "stdout",
     "output_type": "stream",
     "text": [
      "0 1 2 3 4 5 6 7 8 9 "
     ]
    }
   ],
   "source": [
    "for x in range(10):\n",
    "    print(x,end=\" \")"
   ]
  },
  {
   "cell_type": "markdown",
   "id": "0df7f270",
   "metadata": {},
   "source": [
    "### If you need more complex logic, you can use continue and break"
   ]
  },
  {
   "cell_type": "code",
   "execution_count": 73,
   "id": "c9e93d49",
   "metadata": {},
   "outputs": [
    {
     "name": "stdout",
     "output_type": "stream",
     "text": [
      "1 3 5 7 "
     ]
    }
   ],
   "source": [
    "for num in range(10):\n",
    "    if num % 2 == 0 :\n",
    "        continue\n",
    "    if num > 8:\n",
    "        break\n",
    "    else:\n",
    "        print(num, end =\" \")"
   ]
  },
  {
   "cell_type": "markdown",
   "id": "beafb5a6",
   "metadata": {},
   "source": [
    "## Truthiness"
   ]
  },
  {
   "cell_type": "code",
   "execution_count": null,
   "id": "a5949f20",
   "metadata": {},
   "outputs": [],
   "source": []
  },
  {
   "cell_type": "code",
   "execution_count": null,
   "id": "59a7d696",
   "metadata": {},
   "outputs": [],
   "source": []
  },
  {
   "cell_type": "code",
   "execution_count": null,
   "id": "79bc26f1",
   "metadata": {},
   "outputs": [],
   "source": []
  },
  {
   "cell_type": "code",
   "execution_count": null,
   "id": "e086c399",
   "metadata": {},
   "outputs": [],
   "source": []
  }
 ],
 "metadata": {
  "kernelspec": {
   "display_name": "Python 3",
   "language": "python",
   "name": "python3"
  },
  "language_info": {
   "codemirror_mode": {
    "name": "ipython",
    "version": 3
   },
   "file_extension": ".py",
   "mimetype": "text/x-python",
   "name": "python",
   "nbconvert_exporter": "python",
   "pygments_lexer": "ipython3",
   "version": "3.6.13"
  }
 },
 "nbformat": 4,
 "nbformat_minor": 5
}
