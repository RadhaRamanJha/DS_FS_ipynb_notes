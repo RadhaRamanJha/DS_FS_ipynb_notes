{
 "cells": [
  {
   "cell_type": "markdown",
   "id": "7b1a3c08",
   "metadata": {},
   "source": [
    "## Ways to form a concatenated Strings"
   ]
  },
  {
   "cell_type": "markdown",
   "id": "04aafb2d",
   "metadata": {},
   "source": [
    "#### Way1 :- String Concatentation"
   ]
  },
  {
   "cell_type": "code",
   "execution_count": 1,
   "id": "edb1b4c3",
   "metadata": {},
   "outputs": [
    {
     "name": "stdout",
     "output_type": "stream",
     "text": [
      "Gabbar Singh\n"
     ]
    }
   ],
   "source": [
    "first_name, last_name = \"Gabbar\",\"Singh\" ## Multiple assignment by tuple unpacking\n",
    "full_name_concat = first_name + \" \" +last_name # String concate\n",
    "print(full_name_concat)"
   ]
  },
  {
   "cell_type": "markdown",
   "id": "aa2a8959",
   "metadata": {},
   "source": [
    "#### Way2 :- Using format strings"
   ]
  },
  {
   "cell_type": "code",
   "execution_count": 2,
   "id": "489fb28d",
   "metadata": {},
   "outputs": [
    {
     "name": "stdout",
     "output_type": "stream",
     "text": [
      "Singh is the last name of Gabbar\n"
     ]
    }
   ],
   "source": [
    "mesage = \"{} is the last name of {}\".format(last_name,first_name) # Format string\n",
    "print(mesage)"
   ]
  },
  {
   "cell_type": "markdown",
   "id": "fa8729f6",
   "metadata": {},
   "source": [
    "#### Way3 :- Using f-strings"
   ]
  },
  {
   "cell_type": "code",
   "execution_count": 3,
   "id": "e6cb7510",
   "metadata": {},
   "outputs": [
    {
     "name": "stdout",
     "output_type": "stream",
     "text": [
      "Did you know name of Singh ji's son is Gabbar\n"
     ]
    }
   ],
   "source": [
    "message = f\"Did you know name of {last_name} ji's son is {first_name}\" # f-string\n",
    "print(message)"
   ]
  },
  {
   "cell_type": "markdown",
   "id": "44c16f58",
   "metadata": {},
   "source": [
    "## Function called using another function"
   ]
  },
  {
   "cell_type": "code",
   "execution_count": 4,
   "id": "08cc5965",
   "metadata": {},
   "outputs": [],
   "source": [
    "def double(x):\n",
    "    \"\"\" Returns double of the input number \"\"\"\n",
    "    return 2*x"
   ]
  },
  {
   "cell_type": "code",
   "execution_count": 5,
   "id": "d633fa7d",
   "metadata": {},
   "outputs": [
    {
     "name": "stdout",
     "output_type": "stream",
     "text": [
      "10\n"
     ]
    }
   ],
   "source": [
    "def apply_to_five(f):\n",
    "    \"\"\"Calls the function f with one as it's argument\"\"\"\n",
    "    return f(5)\n",
    "\n",
    "x = apply_to_five(double)    # refers to the previously defined function double\n",
    "print(x)"
   ]
  },
  {
   "cell_type": "markdown",
   "id": "1ec8588e",
   "metadata": {},
   "source": [
    "## Giving a Defalult value Function Parameter"
   ]
  },
  {
   "cell_type": "code",
   "execution_count": 6,
   "id": "9cf2f27c",
   "metadata": {},
   "outputs": [
    {
     "name": "stdout",
     "output_type": "stream",
     "text": [
      "Hey Twinkle You little star ?\n",
      "\n",
      "No Default Message\n"
     ]
    }
   ],
   "source": [
    "def print_it(message = \"No Default Message\"):\n",
    "    \"\"\" Prints a message if it is provided as argument\n",
    "    Otherwise prints 'No Default Message'\"\"\"\n",
    "    print(message)\n",
    "print_it(\"Hey Twinkle You little star ?\\n\")\n",
    "print_it()"
   ]
  },
  {
   "cell_type": "markdown",
   "id": "f84aff7e",
   "metadata": {},
   "source": [
    "+ Specifying Argument by Names"
   ]
  },
  {
   "cell_type": "code",
   "execution_count": 7,
   "id": "321c799f",
   "metadata": {},
   "outputs": [
    {
     "name": "stdout",
     "output_type": "stream",
     "text": [
      "radha Something\n",
      "radha jha\n",
      "What's His First Name jha\n"
     ]
    }
   ],
   "source": [
    "def incomplete_full_name(first= \"What's His First Name\", last = \"Something\"):\n",
    "    \"\"\"\n",
    "    Prints the combined First name, Last Name\n",
    "    if provided as argument. However, if no argument\n",
    "    provided prints 'What's His First Name' and 'Something'\n",
    "    for first and last name respectively\n",
    "    \"\"\"\n",
    "    return (first+\" \"+last)\n",
    "print(incomplete_full_name('radha'))\n",
    "print(incomplete_full_name('radha','jha'))\n",
    "print(incomplete_full_name(last = 'jha'))"
   ]
  },
  {
   "cell_type": "markdown",
   "id": "7032b043",
   "metadata": {},
   "source": [
    "## Handling Exceptions"
   ]
  },
  {
   "cell_type": "code",
   "execution_count": 8,
   "id": "4fd693dc",
   "metadata": {},
   "outputs": [
    {
     "name": "stdout",
     "output_type": "stream",
     "text": [
      "Cannot Subsract Strings\n",
      "6\n"
     ]
    }
   ],
   "source": [
    "def possitive_difference(a,b):\n",
    "    \"\"\"\n",
    "    Function objective is to return absolute\n",
    "    difference between two numbers\n",
    "    \n",
    "    \"\"\"\n",
    "    try:\n",
    "        return abs(a-b)\n",
    "    except TypeError:\n",
    "        return (\"Cannot Subsract Strings\")\n",
    "print(possitive_difference('a','b'))\n",
    "print(possitive_difference(-2,4))"
   ]
  },
  {
   "cell_type": "markdown",
   "id": "966a6743",
   "metadata": {},
   "source": [
    "## List"
   ]
  },
  {
   "cell_type": "code",
   "execution_count": 9,
   "id": "6a483d08",
   "metadata": {},
   "outputs": [
    {
     "name": "stdout",
     "output_type": "stream",
     "text": [
      "[1, 2, 3, 4, 5, 6, 7, 8, 9]\n",
      "['a', 'b', 'c', 'd', 'e', 'f', 'g', 'h', 'i']\n",
      "[[1, 2, 3, 4, 5, 6, 7, 8, 9], ['a', 'b', 'c', 'd', 'e', 'f', 'g', 'h', 'i']]\n"
     ]
    }
   ],
   "source": [
    "integer_num = [1,2,3,4,5,6,7,8,9]                       # number list\n",
    "alpha_list = ['a','b','c','d','e','f','g','h','i']      # alphabet list\n",
    "lsit_of_list =[integer_num,alpha_list]                  # List of List\n",
    "print(integer_num)\n",
    "print(alpha_list)\n",
    "print(lsit_of_list)"
   ]
  },
  {
   "cell_type": "markdown",
   "id": "06f6dfb2",
   "metadata": {},
   "source": [
    "## Element access in list "
   ]
  },
  {
   "cell_type": "markdown",
   "id": "d1a17aac",
   "metadata": {},
   "source": [
    "#### Note that List index from start 0  and \n",
    "#### The list element can also be assesed by last (-1)"
   ]
  },
  {
   "cell_type": "code",
   "execution_count": 10,
   "id": "599f431a",
   "metadata": {},
   "outputs": [
    {
     "name": "stdout",
     "output_type": "stream",
     "text": [
      "1\n",
      "1\n",
      "9\n",
      "9\n"
     ]
    }
   ],
   "source": [
    "print(integer_num[0])  # First element\n",
    "print(integer_num[-9]) # First element\n",
    "print(integer_num[-1]) # Last element\n",
    "print(integer_num[8])  # Last element"
   ]
  },
  {
   "cell_type": "markdown",
   "id": "ae720c20",
   "metadata": {},
   "source": [
    "### Number of element in a list "
   ]
  },
  {
   "cell_type": "code",
   "execution_count": 11,
   "id": "7f040c69",
   "metadata": {},
   "outputs": [
    {
     "name": "stdout",
     "output_type": "stream",
     "text": [
      "Total elements in [1, 2, 3, 4, 5, 6, 7, 8, 9] are 9\n",
      "Total elements in ['a', 'b', 'c', 'd', 'e', 'f', 'g', 'h', 'i'] are 9\n"
     ]
    }
   ],
   "source": [
    "print(f\"Total elements in {integer_num} are {len(integer_num)}\")\n",
    "print(f\"Total elements in {alpha_list} are {len(alpha_list)}\")"
   ]
  },
  {
   "cell_type": "markdown",
   "id": "38325925",
   "metadata": {},
   "source": [
    "### Sum of all elements in a list"
   ]
  },
  {
   "cell_type": "code",
   "execution_count": 12,
   "id": "64917802",
   "metadata": {},
   "outputs": [
    {
     "name": "stdout",
     "output_type": "stream",
     "text": [
      "The sum of all elements in [1, 2, 3, 4, 5, 6, 7, 8, 9] is 45\n"
     ]
    }
   ],
   "source": [
    "print(f\"The sum of all elements in {integer_num} is {sum(integer_num)}\")"
   ]
  },
  {
   "cell_type": "markdown",
   "id": "ee54cc8b",
   "metadata": {},
   "source": [
    "### Get or Set any element of a list using [ ] operator "
   ]
  },
  {
   "cell_type": "code",
   "execution_count": 13,
   "id": "a7c382a5",
   "metadata": {},
   "outputs": [
    {
     "name": "stdout",
     "output_type": "stream",
     "text": [
      "4 8\n"
     ]
    }
   ],
   "source": [
    "print(integer_num[3],integer_num[7])"
   ]
  },
  {
   "cell_type": "code",
   "execution_count": 14,
   "id": "bf25284f",
   "metadata": {},
   "outputs": [
    {
     "name": "stdout",
     "output_type": "stream",
     "text": [
      "[1, 2, 3, 4, 5, 6, 7, 8, 9]\n",
      "[1, 2, 3, 14, 5, 6, 7, 8, 9]\n"
     ]
    }
   ],
   "source": [
    "print(integer_num)\n",
    "integer_num[3] = 14\n",
    "print(integer_num) ## Note the 4th element changed"
   ]
  },
  {
   "cell_type": "markdown",
   "id": "c6efbf90",
   "metadata": {},
   "source": [
    "## Slicing of elements of List "
   ]
  },
  {
   "cell_type": "code",
   "execution_count": 15,
   "id": "5cd2fd99",
   "metadata": {},
   "outputs": [
    {
     "name": "stdout",
     "output_type": "stream",
     "text": [
      "First three elements of the numerical list are following :- [1, 2, 3]\n",
      "Last three elements of the numerical list are following :- [7, 8, 9]\n",
      "Second to fifth elements of the numerical list are following :- [2, 3, 14]\n"
     ]
    }
   ],
   "source": [
    "print(f\"First three elements of the numerical list are following :- {integer_num[:3]}\")\n",
    "# If first element of slice is not mentioned the slicing starts from begining of list\n",
    "print(f\"Last three elements of the numerical list are following :- {integer_num[-3:]}\")\n",
    "# If last element of slice is not mentioned the slicing terminates at end of list\n",
    "print(f\"Second to fifth elements of the numerical list are following :- {integer_num[1:4]}\")\n",
    "# Slicing will start at first element of slice and will end one before the last element of the slice"
   ]
  },
  {
   "cell_type": "markdown",
   "id": "8521d4c8",
   "metadata": {},
   "source": [
    "#### Strings and other \" Sequential \" Types can also slices similarly\n",
    "\n",
    "## Different sequential types of Python are :-\n",
    "\n",
    "    1. Strings\n",
    "    \n",
    "    2. Lists\n",
    "    \n",
    "    3. Tuples\n",
    "    \n",
    "    4. Bytes Sequences\n",
    "    \n",
    "    5. Bytes Arrays\n",
    "    \n",
    "    6. range() objects\n",
    "\n",
    "#### Slicing also takes an optional third argument which is the Step or Stride of slicing"
   ]
  },
  {
   "cell_type": "code",
   "execution_count": 16,
   "id": "0f26d594",
   "metadata": {},
   "outputs": [
    {
     "name": "stdout",
     "output_type": "stream",
     "text": [
      "Every alternate elements of the list are following [1, 3, 5, 7, 9]\n"
     ]
    }
   ],
   "source": [
    "print(f\"Every alternate elements of the list are following {integer_num[::2]}\")"
   ]
  },
  {
   "cell_type": "markdown",
   "id": "449c7e29",
   "metadata": {},
   "source": [
    "#### Memebership check for the list"
   ]
  },
  {
   "cell_type": "code",
   "execution_count": 17,
   "id": "92e311f2",
   "metadata": {},
   "outputs": [
    {
     "data": {
      "text/plain": [
       "True"
      ]
     },
     "execution_count": 17,
     "metadata": {},
     "output_type": "execute_result"
    }
   ],
   "source": [
    "1 in [1,2,3]"
   ]
  },
  {
   "cell_type": "code",
   "execution_count": 18,
   "id": "cfc88c66",
   "metadata": {},
   "outputs": [
    {
     "data": {
      "text/plain": [
       "False"
      ]
     },
     "execution_count": 18,
     "metadata": {},
     "output_type": "execute_result"
    }
   ],
   "source": [
    "4 in [1,2,3]"
   ]
  },
  {
   "cell_type": "markdown",
   "id": "739585d2",
   "metadata": {},
   "source": [
    "### To do add all elements of list y into list x use extend, it leads to inplace modification of list x"
   ]
  },
  {
   "cell_type": "code",
   "execution_count": 19,
   "id": "856834db",
   "metadata": {},
   "outputs": [
    {
     "name": "stdout",
     "output_type": "stream",
     "text": [
      "[1, 2, 3, 4, 5, 6]\n"
     ]
    }
   ],
   "source": [
    "x = [1,2,3]\n",
    "y = [4,5,6]\n",
    "x.extend(y)\n",
    "print(x)"
   ]
  },
  {
   "cell_type": "markdown",
   "id": "b756b996",
   "metadata": {},
   "source": [
    "## To avoid inplace modification use list addition"
   ]
  },
  {
   "cell_type": "code",
   "execution_count": 20,
   "id": "a67d465f",
   "metadata": {},
   "outputs": [
    {
     "name": "stdout",
     "output_type": "stream",
     "text": [
      "[1, 2, 3, 4, 5, 6, 7, 8]\n"
     ]
    }
   ],
   "source": [
    "xx = [1,2,3,4]\n",
    "yy = [1,2,3,4] + [5,6,7,8]\n",
    "print(yy)"
   ]
  },
  {
   "cell_type": "markdown",
   "id": "2de78ecf",
   "metadata": {},
   "source": [
    "## To add one element to list at a time"
   ]
  },
  {
   "cell_type": "code",
   "execution_count": 21,
   "id": "c52972cf",
   "metadata": {},
   "outputs": [
    {
     "name": "stdout",
     "output_type": "stream",
     "text": [
      "[1, 2, 3, 4, 5, 6, 7, 8, 9, 10]\n"
     ]
    }
   ],
   "source": [
    "abc = [1,2,3,4,5,6,7,8,9]\n",
    "abc.append(10)               # append adds a single element at the end of list \n",
    "print(abc)"
   ]
  },
  {
   "cell_type": "markdown",
   "id": "8ea59ada",
   "metadata": {},
   "source": [
    "### Note :- If one list is appended to other list, the list which is appended will be added to end of first list as a single element of previous list"
   ]
  },
  {
   "cell_type": "code",
   "execution_count": 22,
   "id": "764a5387",
   "metadata": {},
   "outputs": [
    {
     "name": "stdout",
     "output_type": "stream",
     "text": [
      "[1, 2, 3, 4, 5, 6, [7, 8, 9, 10, 11]]\n"
     ]
    }
   ],
   "source": [
    "abcd = [1,2,3,4,5,6]\n",
    "efgh = [7,8,9,10,11]\n",
    "abcd.append(efgh)\n",
    "print(abcd)"
   ]
  },
  {
   "cell_type": "markdown",
   "id": "7415125d",
   "metadata": {},
   "source": [
    "## Types of Collections :- \n",
    "\n",
    "    1. List\n",
    "    \n",
    "    2. String\n",
    "    \n",
    "    3. Set\n",
    "    \n",
    "    4. Tuple and\n",
    "    \n",
    "    5. Dictionary\n",
    "    \n",
    "## Unpacking the Collections :- "
   ]
  },
  {
   "cell_type": "code",
   "execution_count": 23,
   "id": "967adb7d",
   "metadata": {},
   "outputs": [
    {
     "name": "stdout",
     "output_type": "stream",
     "text": [
      "\n",
      "The value of x is 1\n",
      "The value of y is 2\n",
      "The value of z is 3\n",
      "\n"
     ]
    }
   ],
   "source": [
    "x,y,z = [1,2,3]\n",
    "print(f\"\"\"\n",
    "The value of x is {x}\n",
    "The value of y is {y}\n",
    "The value of z is {z}\n",
    "\"\"\")"
   ]
  },
  {
   "cell_type": "markdown",
   "id": "e9e77933",
   "metadata": {},
   "source": [
    "### Similar unpacking works for string"
   ]
  },
  {
   "cell_type": "code",
   "execution_count": 24,
   "id": "37193af3",
   "metadata": {},
   "outputs": [
    {
     "name": "stdout",
     "output_type": "stream",
     "text": [
      "H_e_l_l_o\n"
     ]
    }
   ],
   "source": [
    "a,b,c,d,e = \"Hello\"\n",
    "print(a,b,c,d,e,sep='_')"
   ]
  },
  {
   "cell_type": "markdown",
   "id": "29de7fcd",
   "metadata": {},
   "source": [
    "## Unpacking also works for sets"
   ]
  },
  {
   "cell_type": "code",
   "execution_count": 25,
   "id": "aa8b1758",
   "metadata": {},
   "outputs": [
    {
     "name": "stdout",
     "output_type": "stream",
     "text": [
      "1_2_3_4_5\n"
     ]
    }
   ],
   "source": [
    "a,b,c,d,e = {1,2,3,4,5}\n",
    "print(a,b,c,d,e,sep='_')"
   ]
  },
  {
   "cell_type": "markdown",
   "id": "3b1b74d2",
   "metadata": {},
   "source": [
    "## We have already  seen it works for tuple"
   ]
  },
  {
   "cell_type": "code",
   "execution_count": 26,
   "id": "eed76db7",
   "metadata": {},
   "outputs": [
    {
     "name": "stdout",
     "output_type": "stream",
     "text": [
      "2_4\n"
     ]
    }
   ],
   "source": [
    "a,b = (2,4)\n",
    "print(a,b,sep='_')"
   ]
  },
  {
   "cell_type": "markdown",
   "id": "bdf1ccf1",
   "metadata": {},
   "source": [
    "## Note :- In case of the last collection type i.e. dictionary if we apply unpacking the variable will be assigned to the keys"
   ]
  },
  {
   "cell_type": "code",
   "execution_count": 27,
   "id": "5a429a49",
   "metadata": {},
   "outputs": [
    {
     "name": "stdout",
     "output_type": "stream",
     "text": [
      "a\n",
      "b\n"
     ]
    }
   ],
   "source": [
    "c,d = {'a':1,'b':2}\n",
    "print(c)\n",
    "print(d)"
   ]
  },
  {
   "cell_type": "markdown",
   "id": "11f69f94",
   "metadata": {},
   "source": [
    "### Incase the number of values on left and right side of the equality operator are not equal we will get \n",
    "\n",
    "## ValueError: not enough values to unpack "
   ]
  },
  {
   "cell_type": "code",
   "execution_count": 28,
   "id": "8842e939",
   "metadata": {},
   "outputs": [
    {
     "ename": "ValueError",
     "evalue": "not enough values to unpack (expected 3, got 2)",
     "output_type": "error",
     "traceback": [
      "\u001b[1;31m---------------------------------------------------------------------------\u001b[0m",
      "\u001b[1;31mValueError\u001b[0m                                Traceback (most recent call last)",
      "\u001b[1;32m<ipython-input-28-c69fd42838d8>\u001b[0m in \u001b[0;36m<module>\u001b[1;34m\u001b[0m\n\u001b[1;32m----> 1\u001b[1;33m \u001b[0mx\u001b[0m\u001b[1;33m,\u001b[0m\u001b[0my\u001b[0m\u001b[1;33m,\u001b[0m\u001b[0mz\u001b[0m \u001b[1;33m=\u001b[0m \u001b[1;33m[\u001b[0m\u001b[1;36m1\u001b[0m\u001b[1;33m,\u001b[0m\u001b[1;36m2\u001b[0m\u001b[1;33m]\u001b[0m\u001b[1;33m\u001b[0m\u001b[1;33m\u001b[0m\u001b[0m\n\u001b[0m",
      "\u001b[1;31mValueError\u001b[0m: not enough values to unpack (expected 3, got 2)"
     ]
    }
   ],
   "source": [
    "x,y,z = [1,2]"
   ]
  },
  {
   "cell_type": "markdown",
   "id": "69b35af4",
   "metadata": {},
   "source": [
    "### Common practice to use ' _ ' for the value which were are going to throw away"
   ]
  },
  {
   "cell_type": "code",
   "execution_count": 29,
   "id": "d912c0bb",
   "metadata": {},
   "outputs": [
    {
     "name": "stdout",
     "output_type": "stream",
     "text": [
      "2\n"
     ]
    }
   ],
   "source": [
    "_,y = [1,2] \n",
    "print(y)"
   ]
  },
  {
   "cell_type": "markdown",
   "id": "72a4fb81",
   "metadata": {},
   "source": [
    "## Tuples "
   ]
  },
  {
   "cell_type": "code",
   "execution_count": 30,
   "id": "0230df76",
   "metadata": {},
   "outputs": [
    {
     "name": "stdout",
     "output_type": "stream",
     "text": [
      "(1, 2)\n",
      "(3, 4)\n"
     ]
    }
   ],
   "source": [
    "my_tuple = (1,2) # This is a tuple\n",
    "other_tuple = 3,4 # This is also a Tuple\n",
    "print(my_tuple)\n",
    "print(other_tuple)"
   ]
  },
  {
   "cell_type": "markdown",
   "id": "e4119581",
   "metadata": {},
   "source": [
    "#### Tuples are convinient way to return multiple values from a function"
   ]
  },
  {
   "cell_type": "code",
   "execution_count": 2,
   "id": "26c5f529",
   "metadata": {},
   "outputs": [],
   "source": [
    "def sum_product_division(a,b):\n",
    "    \"\"\"\n",
    "    Returns the result of Sum, Product, Division\n",
    "    of two given numbers    \n",
    "    \"\"\"\n",
    "    return (a+b),(a*b),(a/b)"
   ]
  },
  {
   "cell_type": "code",
   "execution_count": 3,
   "id": "5ae6c1ca",
   "metadata": {},
   "outputs": [
    {
     "name": "stdout",
     "output_type": "stream",
     "text": [
      "The sum, product, divison of the numbers returns (20, 64, 4.0)\n"
     ]
    }
   ],
   "source": [
    "result = sum_product_division(16,4)\n",
    "print(f\"The sum, product, divison of the numbers returns {result}\")"
   ]
  },
  {
   "cell_type": "code",
   "execution_count": 4,
   "id": "c30fa45c",
   "metadata": {},
   "outputs": [
    {
     "name": "stdout",
     "output_type": "stream",
     "text": [
      "The sum of the two numbers is 650\n",
      "The product of the two numbers is 15625\n",
      "The division of the two numbers yeild 25.0\n"
     ]
    }
   ],
   "source": [
    "s,p,d = sum_product_division(625,25)\n",
    "print(f\"\"\"The sum of the two numbers is {s}\n",
    "The product of the two numbers is {p}\n",
    "The division of the two numbers yeild {d}\"\"\")"
   ]
  },
  {
   "cell_type": "markdown",
   "id": "ec4c494d",
   "metadata": {},
   "source": [
    "### Tuples can also be used for multiple assignment"
   ]
  },
  {
   "cell_type": "code",
   "execution_count": 34,
   "id": "42ee3128",
   "metadata": {},
   "outputs": [
    {
     "name": "stdout",
     "output_type": "stream",
     "text": [
      "Value of x is 3\n",
      "Value of y is 2\n"
     ]
    }
   ],
   "source": [
    "x,y = 2,3\n",
    "x,y = y,x # Pythonic way to swap variables \n",
    "print(f\"Value of x is {x}\\nValue of y is {y}\")"
   ]
  },
  {
   "cell_type": "markdown",
   "id": "3c6526b9",
   "metadata": {},
   "source": [
    "## Dictionary"
   ]
  },
  {
   "cell_type": "code",
   "execution_count": 35,
   "id": "d192206a",
   "metadata": {},
   "outputs": [],
   "source": [
    "empty_dict = {}                     # Pythonic\n",
    "empty_dict2 = dict()                # less Pythonic\n",
    "grades = {\"Jhon\": 80, \"Tom\": 95, \"Mary\": 85}    # dictionary literal"
   ]
  },
  {
   "cell_type": "markdown",
   "id": "83705e35",
   "metadata": {},
   "source": [
    "#### Value for a key can be lookup using [ ]"
   ]
  },
  {
   "cell_type": "code",
   "execution_count": 36,
   "id": "37874be8",
   "metadata": {},
   "outputs": [
    {
     "name": "stdout",
     "output_type": "stream",
     "text": [
      "Jhon got 80\n"
     ]
    }
   ],
   "source": [
    "print(f\"Jhon got {grades['Jhon']}\")"
   ]
  },
  {
   "cell_type": "markdown",
   "id": "32ca5231",
   "metadata": {},
   "source": [
    "#### If we ask for a 'key' which is not present in dictionary we get a key error"
   ]
  },
  {
   "cell_type": "code",
   "execution_count": 37,
   "id": "c61d9047",
   "metadata": {},
   "outputs": [
    {
     "name": "stdout",
     "output_type": "stream",
     "text": [
      "No grades for Vijay !\n"
     ]
    }
   ],
   "source": [
    "try:\n",
    "    print(f\"Vijay got {grades['Vijay']}\")\n",
    "except KeyError:\n",
    "    print(\"No grades for Vijay !\")"
   ]
  },
  {
   "cell_type": "markdown",
   "id": "88f0e477",
   "metadata": {},
   "source": [
    "#### Existence of a key can be checked in a dictionary using the ' in ' operator which is fast even for large dictionary"
   ]
  },
  {
   "cell_type": "code",
   "execution_count": 38,
   "id": "c12f4aaf",
   "metadata": {},
   "outputs": [
    {
     "name": "stdout",
     "output_type": "stream",
     "text": [
      "95\n",
      "Rock has no grades, he is Wresteling !\n"
     ]
    }
   ],
   "source": [
    "if 'Tom' in grades:           # if True\n",
    "    print(grades['Tom'])\n",
    "if 'Rock' not in grades:      # if not False\n",
    "    print(\"Rock has no grades, he is Wresteling !\")"
   ]
  },
  {
   "cell_type": "markdown",
   "id": "4ed8aed1",
   "metadata": {},
   "source": [
    "#### Dictionaries have a get method which returns default value incase no values for the key is present in the dictionary"
   ]
  },
  {
   "cell_type": "code",
   "execution_count": 39,
   "id": "b87bc857",
   "metadata": {},
   "outputs": [
    {
     "data": {
      "text/plain": [
       "85"
      ]
     },
     "execution_count": 39,
     "metadata": {},
     "output_type": "execute_result"
    }
   ],
   "source": [
    "grades.get(\"Mary\",\"No Grades for him/her\")"
   ]
  },
  {
   "cell_type": "code",
   "execution_count": 40,
   "id": "7bdf3873",
   "metadata": {},
   "outputs": [
    {
     "data": {
      "text/plain": [
       "'No Grades for him/her'"
      ]
     },
     "execution_count": 40,
     "metadata": {},
     "output_type": "execute_result"
    }
   ],
   "source": [
    "grades.get(\"Manju\",\"No Grades for him/her\")"
   ]
  },
  {
   "cell_type": "code",
   "execution_count": 41,
   "id": "9f82bd02",
   "metadata": {},
   "outputs": [],
   "source": [
    "grades.get(\"Deepak\") ## No default value does not return anything"
   ]
  },
  {
   "cell_type": "markdown",
   "id": "cd431c1b",
   "metadata": {},
   "source": [
    "#### The key/value pairs can be assigned/modified using the same square brackets:"
   ]
  },
  {
   "cell_type": "code",
   "execution_count": 42,
   "id": "91ea7f11",
   "metadata": {},
   "outputs": [
    {
     "data": {
      "text/plain": [
       "75"
      ]
     },
     "execution_count": 42,
     "metadata": {},
     "output_type": "execute_result"
    }
   ],
   "source": [
    "grades['Jhon'] = 75\n",
    "grades['Jhon']"
   ]
  },
  {
   "cell_type": "markdown",
   "id": "249fc05d",
   "metadata": {},
   "source": [
    "### Dictionary can be used to represent structured data"
   ]
  },
  {
   "cell_type": "code",
   "execution_count": 6,
   "id": "bcc4a9b7",
   "metadata": {},
   "outputs": [],
   "source": [
    "tweet = {\n",
    "    \"user\" : \"rade\",\n",
    "    \"text\" : \"Data Science is Awesome\",\n",
    "    \"retweet_count\" : 100,\n",
    "    \"hashtags\" : [\"#data\", \"#science\", \"#datascience\", \"#awesome\", \"#yolo\"]\n",
    "}"
   ]
  },
  {
   "cell_type": "markdown",
   "id": "a0fdf435",
   "metadata": {},
   "source": [
    "#### We can be look for all the keys,,values and items of dictionary "
   ]
  },
  {
   "cell_type": "code",
   "execution_count": 7,
   "id": "705ba40a",
   "metadata": {},
   "outputs": [
    {
     "name": "stdout",
     "output_type": "stream",
     "text": [
      "True\n",
      "True\n",
      "True\n"
     ]
    }
   ],
   "source": [
    "tweet_keys   = tweet.keys()     # iterable for the keys\n",
    "tweet_values = tweet.values()   # iterable for the values\n",
    "tweet_items  = tweet.items()    # iterable for the (key, value) tuples\n",
    "\n",
    "print(\"user\" in tweet_keys)             # True, but not Pythonic\n",
    "print(\"user\" in tweet)                  # Pythonic way of checking for keys\n",
    "print(\"rade\" in tweet_values)           # True (slow but the only way to check)"
   ]
  },
  {
   "cell_type": "markdown",
   "id": "b0a4ac2c",
   "metadata": {},
   "source": [
    "## Dictionary keys must be “hashable” i.e. Immutable\n",
    "\n",
    "## Default dict\n",
    "\n",
    "### Problem statement :- cont the words in a Document\n",
    "\n",
    "#### Approcah 1 :- using if-else "
   ]
  },
  {
   "cell_type": "code",
   "execution_count": 45,
   "id": "832ec3a5",
   "metadata": {},
   "outputs": [],
   "source": [
    "def words_in_doc1(document):\n",
    "    \"\"\"\n",
    "    Counts the occurance each word in document as a dictionary\n",
    "    \"\"\"\n",
    "    word_counts = {}\n",
    "    for word in document:\n",
    "        if word in word_counts:\n",
    "            word_counts[word] += 1\n",
    "        else:\n",
    "            word_counts[word] = 1\n",
    "    return(word_counts)"
   ]
  },
  {
   "cell_type": "markdown",
   "id": "82d8d862",
   "metadata": {},
   "source": [
    "### Approach 2 :- Using Try except :-"
   ]
  },
  {
   "cell_type": "code",
   "execution_count": 46,
   "id": "ca3a8de6",
   "metadata": {},
   "outputs": [],
   "source": [
    "def words_in_doc2(document):\n",
    "    word_counts = {}\n",
    "    for word in document:\n",
    "        try:\n",
    "            word_counts[word] += 1\n",
    "        except KeyError:\n",
    "            word_counts[word] = 1\n",
    "        return(word_counts)"
   ]
  },
  {
   "cell_type": "markdown",
   "id": "47e4e6d2",
   "metadata": {},
   "source": [
    "### Aproach 3 :- Using ' get ' to handle missing keys"
   ]
  },
  {
   "cell_type": "code",
   "execution_count": 47,
   "id": "82abb2e7",
   "metadata": {},
   "outputs": [],
   "source": [
    "def words_in_doc3(document):\n",
    "    word_counts = {}\n",
    "    for word in document:\n",
    "        previous_count = word_counts.get(word,0)\n",
    "        word_counts[word] = previous_count+1\n",
    "    return(word_counts)"
   ]
  },
  {
   "cell_type": "markdown",
   "id": "73e49de5",
   "metadata": {},
   "source": [
    "### Best Aprroach :- Using defaultdict.\n",
    "+ A defaultdict is like a regular dictionary, except that when you try to look up a key which it doesn’t contain, it first adds a value for it using a zero-argument function you provided when you created it. In order to use defaultdicts, you have to import them from 'collections' module"
   ]
  },
  {
   "cell_type": "code",
   "execution_count": 48,
   "id": "e3c9ff48",
   "metadata": {},
   "outputs": [],
   "source": [
    "from collections import defaultdict\n",
    "def words_in_doc(document):\n",
    "    word_counts = defaultdict(int)          # int() produces 0\n",
    "    for word in document:\n",
    "        word_counts[word] += 1\n",
    "    return(word_counts)"
   ]
  },
  {
   "cell_type": "code",
   "execution_count": 49,
   "id": "30d0759d",
   "metadata": {},
   "outputs": [],
   "source": [
    "speech  = \"I am someone i did enginerring from some college i did masters in engineering fom some other college now i am looking for job in some other branch of enginering after upskilling\"\n",
    "word_counts = words_in_doc(speech.split())"
   ]
  },
  {
   "cell_type": "markdown",
   "id": "d6c242f0",
   "metadata": {},
   "source": [
    "### Default Dictionary can also be useful with list or dict, or even your own functions:"
   ]
  },
  {
   "cell_type": "code",
   "execution_count": 50,
   "id": "f634a005",
   "metadata": {},
   "outputs": [],
   "source": [
    "dd_list = defaultdict(list)             # list() produces an empty list\n",
    "dd_list[2].append(1)                    # now dd_list contains {2: [1]}\n",
    "\n",
    "dd_dict = defaultdict(dict)             # dict() produces an empty dict\n",
    "dd_dict[\"Joel\"][\"City\"] = \"Seattle\"     # {\"Joel\" : {\"City\": Seattle\"}}\n",
    "\n",
    "dd_pair = defaultdict(lambda: [0, 0])\n",
    "dd_pair[2][1] = 1                       # now dd_pair contains {2: [0, 1]}"
   ]
  },
  {
   "cell_type": "code",
   "execution_count": 51,
   "id": "c718914e",
   "metadata": {},
   "outputs": [
    {
     "name": "stdout",
     "output_type": "stream",
     "text": [
      "[1, 3]\n"
     ]
    }
   ],
   "source": [
    "dd_list[2].append(3)\n",
    "print(dd_list[2])"
   ]
  },
  {
   "cell_type": "markdown",
   "id": "5a3250ee",
   "metadata": {},
   "source": [
    "#### Default dictionary will be useful when we’re using dictionaries to “collect” results by some key and don’t want to have to check every time to see if the key exists yet."
   ]
  },
  {
   "cell_type": "markdown",
   "id": "caff6441",
   "metadata": {},
   "source": [
    "## Counter\n",
    "### A Counter turns a sequence of values into a defaultdict(int)-like object mapping keys to counts:"
   ]
  },
  {
   "cell_type": "code",
   "execution_count": 52,
   "id": "1ab924aa",
   "metadata": {},
   "outputs": [
    {
     "name": "stdout",
     "output_type": "stream",
     "text": [
      "The word 'some' is used 3 times speech \n",
      "There are 23 unique words in the speech\n"
     ]
    }
   ],
   "source": [
    "from collections import Counter\n",
    "doc_words = Counter(speech.split())\n",
    "print(f\"The word 'some' is used {doc_words['some']} times speech \") ## ocuurance of blank spaces in speech)\n",
    "print(f\"There are {len(doc_words)} unique words in the speech\")"
   ]
  },
  {
   "cell_type": "markdown",
   "id": "d509d847",
   "metadata": {},
   "source": [
    "### A Counter instance has a most_common method that is frequently useful:"
   ]
  },
  {
   "cell_type": "code",
   "execution_count": 53,
   "id": "7aa0ec9f",
   "metadata": {},
   "outputs": [
    {
     "name": "stdout",
     "output_type": "stream",
     "text": [
      "The 5 most common words in doc_words are :-\n",
      "i 3\n",
      "some 3\n",
      "am 2\n",
      "did 2\n",
      "college 2\n"
     ]
    }
   ],
   "source": [
    "print(\"The 5 most common words in doc_words are :-\")\n",
    "for word, count in doc_words.most_common(5):\n",
    "    print(f'{word}',count)"
   ]
  },
  {
   "cell_type": "markdown",
   "id": "8dc1f872",
   "metadata": {},
   "source": [
    "#### Sets :- Data Structure which represents a collection of distinct elements. A set can be defined by listing its elements between curly braces, however, that doesn’t work for empty sets, as {} already means “empty dict.” In that case you’ll need to use set() itself:"
   ]
  },
  {
   "cell_type": "code",
   "execution_count": 54,
   "id": "30922e48",
   "metadata": {},
   "outputs": [],
   "source": [
    "s = set()\n",
    "s.add(1)       # s is now {1}\n",
    "s.add(2)       # s is now {1, 2}\n",
    "s.add(2)       # s is still {1, 2}\n",
    "x = len(s)     # equals 2\n",
    "y = 2 in s     # equals True\n",
    "z = 3 in s     # equals False"
   ]
  },
  {
   "cell_type": "markdown",
   "id": "96cdec64",
   "metadata": {},
   "source": [
    "## Reasons for using sets :- "
   ]
  },
  {
   "cell_type": "markdown",
   "id": "d64ced47",
   "metadata": {},
   "source": [
    "#### 1.  ' in '  is a very fast operation on sets. If we have a large collection of items that we want to use for a membership test, a set is more appropriate than a list:"
   ]
  },
  {
   "cell_type": "code",
   "execution_count": 55,
   "id": "3dfb4cb0",
   "metadata": {},
   "outputs": [
    {
     "name": "stdout",
     "output_type": "stream",
     "text": [
      "Time taken by 'in' operator with list: 0.2393846 seconds\n",
      "Time taken by 'in' operator with set: 0.1044234 seconds\n"
     ]
    }
   ],
   "source": [
    "import timeit\n",
    "\n",
    "setup_code_list = '''\n",
    "stopwords_list = [\"a\", \"an\", \"at\"] + [\"yet\", \"you\"]\n",
    "\"zip\" in stopwords_list\n",
    "'''\n",
    "list_time = timeit.timeit(stmt='\"zip\" in stopwords_list', setup=setup_code_list)\n",
    "\n",
    "setup_code_set = '''\n",
    "stopwords_list = [\"a\", \"an\", \"at\"] + [\"yet\", \"you\"]\n",
    "stopwords_set = set(stopwords_list)\n",
    "'''\n",
    "set_time = timeit.timeit(stmt='\"zip\" in stopwords_set', setup=setup_code_set)\n",
    "\n",
    "print(f\"Time taken by 'in' operator with list: {list_time} seconds\")\n",
    "print(f\"Time taken by 'in' operator with set: {set_time} seconds\")"
   ]
  },
  {
   "cell_type": "markdown",
   "id": "8b7f3c4f",
   "metadata": {},
   "source": [
    "#### 2. The second reason is to find the distinct items in a collection:"
   ]
  },
  {
   "cell_type": "code",
   "execution_count": 56,
   "id": "b3633d27",
   "metadata": {},
   "outputs": [],
   "source": [
    "item_list = [1, 2, 3, 1, 2, 3]\n",
    "num_items = len(item_list)                # 6\n",
    "item_set = set(item_list)                 # {1, 2, 3}\n",
    "num_distinct_items = len(item_set)        # 3\n",
    "distinct_item_list = list(item_set)       # [1, 2, 3]"
   ]
  },
  {
   "cell_type": "markdown",
   "id": "98203d45",
   "metadata": {},
   "source": [
    "#### We use sets less frequently than dictionaries and lists.\n",
    "\n",
    "#### Control Flow"
   ]
  },
  {
   "cell_type": "markdown",
   "id": "f6a3b296",
   "metadata": {},
   "source": [
    "#### you can perform an action conditionally using if:"
   ]
  },
  {
   "cell_type": "code",
   "execution_count": 57,
   "id": "08828ff9",
   "metadata": {},
   "outputs": [
    {
     "name": "stdout",
     "output_type": "stream",
     "text": [
      "The number 53 is Odd\n"
     ]
    }
   ],
   "source": [
    "def even_or_odd(num):\n",
    "    if num % 2 == 0 :\n",
    "        return(\"Even\")\n",
    "    else:                ## else is not compulsory\n",
    "        return (\"Odd\")\n",
    "print(f\"The number 53 is {even_or_odd(53)}\")"
   ]
  },
  {
   "cell_type": "markdown",
   "id": "735ffe08",
   "metadata": {},
   "source": [
    "###  ternary if-then-else can also be written on one line"
   ]
  },
  {
   "cell_type": "code",
   "execution_count": 58,
   "id": "1dd141b7",
   "metadata": {},
   "outputs": [],
   "source": [
    "def man_age(age):\n",
    "    return \"Senior Citizen\" if age > 60 else \"He is able to work\""
   ]
  },
  {
   "cell_type": "code",
   "execution_count": 59,
   "id": "05ca3341",
   "metadata": {},
   "outputs": [
    {
     "name": "stdout",
     "output_type": "stream",
     "text": [
      "Radha is He is able to work\n",
      "Kjha is Senior Citizen\n"
     ]
    }
   ],
   "source": [
    "print(f\"Radha is {man_age(35)}\")\n",
    "print(f\"Kjha is {man_age(65)}\")"
   ]
  },
  {
   "cell_type": "markdown",
   "id": "706a0942",
   "metadata": {},
   "source": [
    "### Python has a while loop :- "
   ]
  },
  {
   "cell_type": "code",
   "execution_count": 60,
   "id": "9bfe5c13",
   "metadata": {},
   "outputs": [
    {
     "name": "stdout",
     "output_type": "stream",
     "text": [
      "1 2 3 4 5 6 7 8 9 "
     ]
    }
   ],
   "source": [
    "x = 1\n",
    "while x < 10 :\n",
    "    print(x,end=' ')\n",
    "    x += 1"
   ]
  },
  {
   "cell_type": "markdown",
   "id": "d3aa9db6",
   "metadata": {},
   "source": [
    "### however for and in is generally used "
   ]
  },
  {
   "cell_type": "code",
   "execution_count": 61,
   "id": "5eb07705",
   "metadata": {},
   "outputs": [
    {
     "name": "stdout",
     "output_type": "stream",
     "text": [
      "0 1 2 3 4 5 6 7 8 9 "
     ]
    }
   ],
   "source": [
    "for x in range(10):\n",
    "    print(x,end=\" \")"
   ]
  },
  {
   "cell_type": "markdown",
   "id": "0df7f270",
   "metadata": {},
   "source": [
    "### If you need more complex logic, you can use continue and break"
   ]
  },
  {
   "cell_type": "code",
   "execution_count": 62,
   "id": "c9e93d49",
   "metadata": {},
   "outputs": [
    {
     "name": "stdout",
     "output_type": "stream",
     "text": [
      "1 3 5 7 "
     ]
    }
   ],
   "source": [
    "for num in range(10):\n",
    "    if num % 2 == 0 :\n",
    "        continue\n",
    "    if num > 8:\n",
    "        break\n",
    "    else:\n",
    "        print(num, end =\" \")"
   ]
  },
  {
   "cell_type": "markdown",
   "id": "beafb5a6",
   "metadata": {},
   "source": [
    "## Truthiness\n",
    "\n",
    "#### 1. Booleans in Python work as in most other languages, except that they’re capitalized\n",
    "\n",
    "#### 2. Python uses the value None to indicate a nonexistent value. It is similar to other languages’ null\n",
    "\n",
    "#### 3. Python lets you use any value where it expects a Boolean. The following are all “falsy”:\n",
    "###### i. False ii. None iii. [ ] (empty list) iv. { } (empty dict) v. \" \" vi. set() vii. 0 viii. 0.0\n",
    "###### Everthing else except the above are True\n",
    "\n",
    "### This allows you to easily use if statements to test for empty lists, empty strings, empty dictionaries, and so on. It also sometimes causes tricky bugs if you’re not expecting this behavior"
   ]
  },
  {
   "cell_type": "code",
   "execution_count": null,
   "id": "be05eea5",
   "metadata": {},
   "outputs": [],
   "source": [
    "s = some_function_that_returns_a_string()\n",
    "if s:\n",
    "    first_char = s[0]\n",
    "else:\n",
    "    first_char = \"\""
   ]
  },
  {
   "cell_type": "markdown",
   "id": "e86f2cb7",
   "metadata": {},
   "source": [
    "### A shorter (but possibly more confusing) way of doing the same is:"
   ]
  },
  {
   "cell_type": "code",
   "execution_count": null,
   "id": "05f31d47",
   "metadata": {},
   "outputs": [],
   "source": [
    "first_char = s and s[0]"
   ]
  },
  {
   "cell_type": "markdown",
   "id": "ffde2827",
   "metadata": {},
   "source": [
    "### since and returns its second value when the first is “truthy,” and the first value when it’s not. Similarly, if x is either a number or possibly None:"
   ]
  },
  {
   "cell_type": "code",
   "execution_count": null,
   "id": "1726155d",
   "metadata": {},
   "outputs": [],
   "source": [
    "safe_x = x or 0"
   ]
  },
  {
   "cell_type": "markdown",
   "id": "c749f261",
   "metadata": {},
   "source": [
    "### is definitely a number, although:"
   ]
  },
  {
   "cell_type": "code",
   "execution_count": null,
   "id": "669e34a9",
   "metadata": {},
   "outputs": [],
   "source": [
    "safe_x = x if x is not None else 0"
   ]
  },
  {
   "cell_type": "markdown",
   "id": "d679bdcf",
   "metadata": {},
   "source": [
    "### is possibly more readable.\n",
    "\n",
    "### an 'all' function, which takes an iterable and returns True precisely when every element is truthy,\n",
    "\n",
    "### and an 'any'  function, which returns True when at least one element is truthy"
   ]
  },
  {
   "cell_type": "code",
   "execution_count": 65,
   "id": "d601d384",
   "metadata": {},
   "outputs": [
    {
     "data": {
      "text/plain": [
       "True"
      ]
     },
     "execution_count": 65,
     "metadata": {},
     "output_type": "execute_result"
    }
   ],
   "source": [
    "all([True, 1, {3}])   # True, all are truthy"
   ]
  },
  {
   "cell_type": "code",
   "execution_count": 66,
   "id": "7165e234",
   "metadata": {},
   "outputs": [
    {
     "data": {
      "text/plain": [
       "False"
      ]
     },
     "execution_count": 66,
     "metadata": {},
     "output_type": "execute_result"
    }
   ],
   "source": [
    "all([True, 1, {}])    # False, {} is falsy"
   ]
  },
  {
   "cell_type": "code",
   "execution_count": 67,
   "id": "bc9efdd3",
   "metadata": {},
   "outputs": [
    {
     "data": {
      "text/plain": [
       "True"
      ]
     },
     "execution_count": 67,
     "metadata": {},
     "output_type": "execute_result"
    }
   ],
   "source": [
    "any([True, 1, {}])    # True, True is truthy"
   ]
  },
  {
   "cell_type": "code",
   "execution_count": 68,
   "id": "3f03d7c5",
   "metadata": {},
   "outputs": [
    {
     "data": {
      "text/plain": [
       "True"
      ]
     },
     "execution_count": 68,
     "metadata": {},
     "output_type": "execute_result"
    }
   ],
   "source": [
    "all([])               # True, no falsy elements in the list"
   ]
  },
  {
   "cell_type": "code",
   "execution_count": 69,
   "id": "6e5ea3a3",
   "metadata": {},
   "outputs": [
    {
     "data": {
      "text/plain": [
       "False"
      ]
     },
     "execution_count": 69,
     "metadata": {},
     "output_type": "execute_result"
    }
   ],
   "source": [
    "any([])               # False, no truthy elements in the list"
   ]
  },
  {
   "cell_type": "markdown",
   "id": "651b301b",
   "metadata": {},
   "source": [
    "### Sorting"
   ]
  },
  {
   "cell_type": "markdown",
   "id": "1d45229c",
   "metadata": {},
   "source": [
    "### Python list has a sort method that sorts it in place. If you don’t want to mess up your list, you can use the sorted function, which returns a new list"
   ]
  },
  {
   "cell_type": "code",
   "execution_count": 70,
   "id": "2e6a7433",
   "metadata": {},
   "outputs": [
    {
     "name": "stdout",
     "output_type": "stream",
     "text": [
      "y = [1, 2, 3, 4] no inplace modification of x\n",
      "x = [4, 1, 2, 3] after using sorted\n",
      "x = [1, 2, 3, 4] sort does place modification of x\n"
     ]
    }
   ],
   "source": [
    "x = [4, 1, 2, 3]\n",
    "y = sorted(x)     # y is [1, 2, 3, 4], x is unchanged\n",
    "print(f\"y = {y} no inplace modification of x\")\n",
    "print(f\"x = {x} after using sorted\")\n",
    "x.sort()\n",
    "print(f\"x = {x} sort does place modification of x\") # now x is [1, 2, 3, 4]"
   ]
  },
  {
   "cell_type": "markdown",
   "id": "2f8751aa",
   "metadata": {},
   "source": [
    "### By default, sort (and sorted) sort a list from smallest to largest based on naively comparing the elements to one another. If you want elements sorted from largest to smallest, you can specify a reverse=True parameter. And instead of comparing the elements themselves, you can compare the results of a function that you specify with key:"
   ]
  },
  {
   "cell_type": "code",
   "execution_count": 71,
   "id": "3edb6be3",
   "metadata": {},
   "outputs": [
    {
     "data": {
      "text/plain": [
       "[4, 3, 2, 1]"
      ]
     },
     "execution_count": 71,
     "metadata": {},
     "output_type": "execute_result"
    }
   ],
   "source": [
    "sorted(x,reverse=True)"
   ]
  },
  {
   "cell_type": "code",
   "execution_count": 72,
   "id": "3cc5c3f9",
   "metadata": {},
   "outputs": [
    {
     "name": "stdout",
     "output_type": "stream",
     "text": [
      "[-4, 3, -2, 1]\n"
     ]
    }
   ],
   "source": [
    "# sort the list by absolute value from largest to smallest\n",
    "x = sorted([-4, 1, -2, 3], key=abs, reverse=True)\n",
    "print(x)"
   ]
  },
  {
   "cell_type": "markdown",
   "id": "ea93d012",
   "metadata": {},
   "source": [
    "## Signature: sorted(iterable, /, *, key=None, reverse=False)\n",
    "Docstring:\n",
    "Return a new list containing all items from the iterable in ascending order.\n",
    "\n",
    "A custom key function can be supplied to customize the sort order, and the\n",
    "reverse flag can be set to request the result in descending order.\n",
    "Type:      builtin_function_or_method"
   ]
  },
  {
   "cell_type": "code",
   "execution_count": 79,
   "id": "4c01b0be",
   "metadata": {},
   "outputs": [
    {
     "name": "stdout",
     "output_type": "stream",
     "text": [
      "defaultdict(<class 'int'>, {'I': 1, 'am': 2, 'someone': 1, 'i': 3, 'did': 2, 'enginerring': 1, 'from': 1, 'some': 3, 'college': 2, 'masters': 1, 'in': 2, 'engineering': 1, 'fom': 1, 'other': 2, 'now': 1, 'looking': 1, 'for': 1, 'job': 1, 'branch': 1, 'of': 1, 'enginering': 1, 'after': 1, 'upskilling': 1})\n"
     ]
    }
   ],
   "source": [
    "print(word_counts)"
   ]
  },
  {
   "cell_type": "code",
   "execution_count": 76,
   "id": "ff2ba8e0",
   "metadata": {},
   "outputs": [
    {
     "name": "stdout",
     "output_type": "stream",
     "text": [
      "[('i', 3), ('some', 3), ('am', 2), ('did', 2), ('college', 2), ('in', 2), ('other', 2), ('I', 1), ('someone', 1), ('enginerring', 1), ('from', 1), ('masters', 1), ('engineering', 1), ('fom', 1), ('now', 1), ('looking', 1), ('for', 1), ('job', 1), ('branch', 1), ('of', 1), ('enginering', 1), ('after', 1), ('upskilling', 1)]\n"
     ]
    }
   ],
   "source": [
    "# sort the words and counts from highest count to lowest\n",
    "wc = sorted(word_counts.items(),\n",
    "            key=lambda word_and_count: word_and_count[1],\n",
    "            reverse=True)\n",
    "print(wc)"
   ]
  },
  {
   "cell_type": "markdown",
   "id": "fc78e5f4",
   "metadata": {},
   "source": [
    "### List Comprehensions :\n",
    "\n",
    "#### Pythonic way to transform a list within a list or choosing only certain elements within a list"
   ]
  },
  {
   "cell_type": "code",
   "execution_count": 86,
   "id": "d89b5ef4",
   "metadata": {},
   "outputs": [
    {
     "name": "stdout",
     "output_type": "stream",
     "text": [
      "Orignal number list is :-\n",
      "[0, 1, 2, 3, 4, 5, 6, 7, 8, 9, 10, 11, 12, 13, 14, 15, 16, 17, 18, 19]\n",
      "Even number list in out of the orignal list is \n",
      "[0, 2, 4, 6, 8, 10, 12, 14, 16, 18]\n",
      "Square of even number list is \n",
      "[0, 4, 16, 36, 64, 100, 144, 196, 256, 324]\n"
     ]
    }
   ],
   "source": [
    "num_list = [num for num in range(0,20)]\n",
    "print(f\"Orignal number list is :-\\n{num_list}\")\n",
    "even_list = [num for num in num_list if num%2 == 0]\n",
    "print(f\"Even number list in out of the orignal list is \\n{even_list}\")\n",
    "even_square_list = [num**2 for num in even_list]\n",
    "print(f\"Square of even number list is \\n{even_square_list}\")"
   ]
  },
  {
   "cell_type": "markdown",
   "id": "6a08585a",
   "metadata": {},
   "source": [
    "### Similarly dictionary and sets can also be created"
   ]
  },
  {
   "cell_type": "code",
   "execution_count": 88,
   "id": "0797c72e",
   "metadata": {},
   "outputs": [
    {
     "name": "stdout",
     "output_type": "stream",
     "text": [
      "The Square dictionary is {1: 1, 2: 4, 3: 9, 4: 16}\n",
      "The Square set is {0, 1, 2, 3, 4, 5}\n"
     ]
    }
   ],
   "source": [
    "square_dict = {num:num**2 for num in range(1,5)}\n",
    "print(f\"The Square dictionary is {square_dict}\")\n",
    "square_set = {abs(num) for num in range(-5,5)}\n",
    "print(f\"The Square set is {square_set}\")"
   ]
  },
  {
   "cell_type": "markdown",
   "id": "ee953821",
   "metadata": {},
   "source": [
    "### If you don’t need the value from the list, it’s common to use an underscore as the variable"
   ]
  },
  {
   "cell_type": "code",
   "execution_count": 90,
   "id": "aa3b3e22",
   "metadata": {},
   "outputs": [
    {
     "name": "stdout",
     "output_type": "stream",
     "text": [
      "[0, 0, 0, 0, 0, 0, 0, 0, 0, 0]\n"
     ]
    }
   ],
   "source": [
    "zeros = [0 for _ in even_list]      # has the same length as even_list\n",
    "print(zeros)"
   ]
  },
  {
   "cell_type": "markdown",
   "id": "06514f2f",
   "metadata": {},
   "source": [
    "### A list comprehension can include multiple 'for'"
   ]
  },
  {
   "cell_type": "code",
   "execution_count": 92,
   "id": "656742a5",
   "metadata": {},
   "outputs": [
    {
     "name": "stdout",
     "output_type": "stream",
     "text": [
      "[(0, 0), (0, 1), (0, 2), (1, 0), (1, 1), (1, 2), (2, 0), (2, 1), (2, 2)]\n"
     ]
    }
   ],
   "source": [
    "pairs = [(x,y) \n",
    "         for x in range(3)\n",
    "         for y in range(3)]\n",
    "print(pairs)"
   ]
  },
  {
   "cell_type": "markdown",
   "id": "dd5f70df",
   "metadata": {},
   "source": [
    "+ The later 'for' can use the result of first loop"
   ]
  },
  {
   "cell_type": "code",
   "execution_count": 96,
   "id": "5ca89b8e",
   "metadata": {},
   "outputs": [
    {
     "name": "stdout",
     "output_type": "stream",
     "text": [
      "[(0, 1), (0, 2), (0, 3), (0, 4), (0, 5), (1, 2), (1, 3), (1, 4), (1, 5), (2, 3), (2, 4), (2, 5)]\n"
     ]
    }
   ],
   "source": [
    "increasing_pairs = [(x,y)\n",
    "                   for x in range(3)\n",
    "                   for y in range(x+1,6)]\n",
    "print(increasing_pairs)"
   ]
  },
  {
   "cell_type": "markdown",
   "id": "9d5eee31",
   "metadata": {},
   "source": [
    "### Automated Testing through assert\n",
    "\n",
    "#### There are elaborate frameworks for writing and running tests, but we’ll restrict ourselves to using assert statements, which will cause your code to raise an AssertionError if your specified condition is not truthy."
   ]
  },
  {
   "cell_type": "code",
   "execution_count": 2,
   "id": "7167d30e",
   "metadata": {},
   "outputs": [
    {
     "name": "stdout",
     "output_type": "stream",
     "text": [
      "The value of a / b is : \n",
      "1.3333333333333333\n"
     ]
    }
   ],
   "source": [
    "# Python 3 code to demonstrate\n",
    "# working of assert\n",
    "\n",
    "# initializing number\n",
    "a = 4\n",
    "b = 3\n",
    "\n",
    "# using assert to check for 0\n",
    "print(\"The value of a / b is : \")\n",
    "assert b != 0, \"Zero Division Error\"\n",
    "print(a / b)"
   ]
  },
  {
   "cell_type": "markdown",
   "id": "841696fd",
   "metadata": {},
   "source": [
    "### less common use is to assert things about inputs to functions:"
   ]
  },
  {
   "cell_type": "code",
   "execution_count": 14,
   "id": "b4e77bc1",
   "metadata": {},
   "outputs": [],
   "source": [
    "def smallest_item(xs):\n",
    "    assert xs, \"empty list has no smallest item\"\n",
    "    return min(xs)"
   ]
  },
  {
   "cell_type": "code",
   "execution_count": 15,
   "id": "21545bc3",
   "metadata": {},
   "outputs": [
    {
     "ename": "AssertionError",
     "evalue": "empty list has no smallest item",
     "output_type": "error",
     "traceback": [
      "\u001b[1;31m---------------------------------------------------------------------------\u001b[0m",
      "\u001b[1;31mAssertionError\u001b[0m                            Traceback (most recent call last)",
      "\u001b[1;32m<ipython-input-15-b3e736932245>\u001b[0m in \u001b[0;36m<module>\u001b[1;34m\u001b[0m\n\u001b[1;32m----> 1\u001b[1;33m \u001b[0msmallest_item\u001b[0m\u001b[1;33m(\u001b[0m\u001b[1;33m[\u001b[0m\u001b[1;33m]\u001b[0m\u001b[1;33m)\u001b[0m\u001b[1;33m\u001b[0m\u001b[1;33m\u001b[0m\u001b[0m\n\u001b[0m",
      "\u001b[1;32m<ipython-input-14-7fe321d86804>\u001b[0m in \u001b[0;36msmallest_item\u001b[1;34m(xs)\u001b[0m\n\u001b[0;32m      1\u001b[0m \u001b[1;32mdef\u001b[0m \u001b[0msmallest_item\u001b[0m\u001b[1;33m(\u001b[0m\u001b[0mxs\u001b[0m\u001b[1;33m)\u001b[0m\u001b[1;33m:\u001b[0m\u001b[1;33m\u001b[0m\u001b[1;33m\u001b[0m\u001b[0m\n\u001b[1;32m----> 2\u001b[1;33m     \u001b[1;32massert\u001b[0m \u001b[0mxs\u001b[0m\u001b[1;33m,\u001b[0m \u001b[1;34m\"empty list has no smallest item\"\u001b[0m\u001b[1;33m\u001b[0m\u001b[1;33m\u001b[0m\u001b[0m\n\u001b[0m\u001b[0;32m      3\u001b[0m     \u001b[1;32mreturn\u001b[0m \u001b[0mmin\u001b[0m\u001b[1;33m(\u001b[0m\u001b[0mxs\u001b[0m\u001b[1;33m)\u001b[0m\u001b[1;33m\u001b[0m\u001b[1;33m\u001b[0m\u001b[0m\n",
      "\u001b[1;31mAssertionError\u001b[0m: empty list has no smallest item"
     ]
    }
   ],
   "source": [
    "smallest_item([])"
   ]
  },
  {
   "cell_type": "markdown",
   "id": "11523694",
   "metadata": {},
   "source": [
    "## Object-Oriented Programming\n",
    "\n",
    "### Python allows define classes that encapsulate data and the functions that operate on them. we’ll construct a class representing a “counting clicker,” \n",
    "\n",
    "+ To define a class, you use the class keyword and a PascalCase name.\n",
    "\n",
    "### A class contains zero or more member functions. By convention, each takes a first parameter, 'self', that refers to the particular class instance\n",
    "\n",
    "\n",
    "+ Normally, a class has a constructor, named __init__.\n",
    "\n",
    "### It takes whatever parameters you need to construct an instance of your class and does whatever setup you need.\n",
    "\n",
    "### the __init__ method name starts and ends with double underscores. These “magic” methods are sometimes called “dunder” methods (double-UNDERscore, get it?) and represent “special” behaviors.\n",
    "\n",
    "### Class methods whose names start with an underscore are—by convention—considered “private,” and users of the class are not supposed to directly call them. However, Python will not stop users from calling them.\n",
    "\n"
   ]
  },
  {
   "cell_type": "code",
   "execution_count": 1,
   "id": "e769e639",
   "metadata": {},
   "outputs": [],
   "source": [
    "class CountingClicker:\n",
    "    \"\"\"A class can/should have a docstring, just like a function\"\"\"\n",
    "    def __init__(self, count = 0):\n",
    "        self.count = count\n",
    "    def __repr__(self):\n",
    "        \"produces the string representation of a class instance\"\n",
    "        return f\"CountingClicker(count={self.count})\"\n",
    "    def click(self, num_times = 1):\n",
    "        \"\"\"Click the clicker some number of times.\"\"\"\n",
    "        self.count += num_times\n",
    "    def read(self):\n",
    "        return self.count\n",
    "\n",
    "    def reset(self):\n",
    "        self.count = 0"
   ]
  },
  {
   "cell_type": "markdown",
   "id": "e2d75808",
   "metadata": {},
   "source": [
    "### we construct instances of the clicker using just the class name\n",
    "\n",
    "+ Having defined it, let’s use assert to write some test cases for our clicker"
   ]
  },
  {
   "cell_type": "code",
   "execution_count": 7,
   "id": "6df65807",
   "metadata": {},
   "outputs": [],
   "source": [
    "clicker = CountingClicker()\n",
    "assert clicker.read() == 0 , \"clicker should start with count 0\"\n",
    "clicker.click()\n",
    "clicker.click()\n",
    "assert clicker.read() == 2, \"after two clicks, clicker should have count 2\"\n",
    "clicker.reset()\n",
    "assert clicker.read() == 0, \"after reset, clicker should be back to 0\""
   ]
  },
  {
   "cell_type": "markdown",
   "id": "3e0ecf8e",
   "metadata": {},
   "source": [
    "### Writing tests like these help us be confident that our code is working the way it’s designed to, and that it remains doing so whenever we make changes to it.\n",
    "\n",
    "## Occasionally we’ll also create 'subclasses' that inherit some of their functionality from a parent class. For example, we could create a non-reset-able clicker by using CountingClicker as the base class and overriding the reset method to do nothing:"
   ]
  },
  {
   "cell_type": "code",
   "execution_count": 10,
   "id": "1203a753",
   "metadata": {},
   "outputs": [],
   "source": [
    "# A subclass inherits all the behavior of its parent class.\n",
    "class NoResetClicker(CountingClicker):\n",
    "    # This class has all the same methods as CountingClicker\n",
    "\n",
    "    # Except that it has a reset method that does nothing.\n",
    "    def reset(self):\n",
    "        pass\n",
    "\n",
    "clicker2 = NoResetClicker()\n",
    "assert clicker2.read() == 0\n",
    "clicker2.click()\n",
    "assert clicker2.read() == 1\n",
    "clicker2.reset()\n",
    "assert clicker2.read() == 1, \"reset shouldn't do anything\""
   ]
  },
  {
   "cell_type": "markdown",
   "id": "f6479e28",
   "metadata": {},
   "source": [
    "## Iterables and Generators\n",
    "\n",
    "### Often all we need is to iterate over the collection using \" for \" and \" in \". In some cases we can create \"generators\" , which can be iterated over just like lists but generate their values lazily on demand.\n",
    "\n",
    "## 1. One way to create generators is with functions and the yield operator:"
   ]
  },
  {
   "cell_type": "code",
   "execution_count": 1,
   "id": "178e580d",
   "metadata": {},
   "outputs": [],
   "source": [
    "def generate_range(n):\n",
    "    i = 0\n",
    "    while i < n:\n",
    "        yield i   # every call to yield produces a value of the generator\n",
    "        i += 1"
   ]
  },
  {
   "cell_type": "markdown",
   "id": "d59d1f3b",
   "metadata": {},
   "source": [
    "## The following loop will consume the yielded values one at a time until none are left:"
   ]
  },
  {
   "cell_type": "code",
   "execution_count": 2,
   "id": "9f2d14eb",
   "metadata": {},
   "outputs": [
    {
     "name": "stdout",
     "output_type": "stream",
     "text": [
      "i: 0\n",
      "i: 1\n",
      "i: 2\n",
      "i: 3\n",
      "i: 4\n",
      "i: 5\n",
      "i: 6\n",
      "i: 7\n",
      "i: 8\n",
      "i: 9\n"
     ]
    }
   ],
   "source": [
    "for i in generate_range(10):\n",
    "    print(f\"i: {i}\")"
   ]
  },
  {
   "cell_type": "markdown",
   "id": "e5f40ac3",
   "metadata": {},
   "source": [
    "## (In fact, range is itself lazy, so there’s no point in doing this.)\n",
    "\n",
    "### With a generator, we can even create an infinite sequence:"
   ]
  },
  {
   "cell_type": "code",
   "execution_count": 5,
   "id": "08ef20f1",
   "metadata": {},
   "outputs": [],
   "source": [
    "def natural_numbers():\n",
    "    \"\"\"returns 1, 2, 3, ...\"\"\"\n",
    "    n = 1\n",
    "    while True:\n",
    "        yield n\n",
    "        n += 1"
   ]
  },
  {
   "cell_type": "markdown",
   "id": "b7d5c37b",
   "metadata": {},
   "source": [
    "## The flip side of laziness is that you can only iterate through a generator once. If you need to iterate through something multiple times, you’ll need to either re-create the generator each time or use a list. If generating the values is expensive, that might be a good reason to use a list instead."
   ]
  },
  {
   "cell_type": "markdown",
   "id": "b2f80e13",
   "metadata": {},
   "source": [
    "## 2. A second way to create generators is by using for comprehensions wrapped in parentheses:"
   ]
  },
  {
   "cell_type": "code",
   "execution_count": 6,
   "id": "1ac9967b",
   "metadata": {},
   "outputs": [],
   "source": [
    "even_below_20 = (i for i in generate_range(20) if i % 2 == 0)"
   ]
  },
  {
   "cell_type": "markdown",
   "id": "0daa5090",
   "metadata": {},
   "source": [
    "### Such a “generator comprehension” doesn’t do any work until you iterate over it (using for or next). We can use this to build up elaborate data-processing pipelines:"
   ]
  },
  {
   "cell_type": "code",
   "execution_count": 7,
   "id": "b55d5cf0",
   "metadata": {},
   "outputs": [],
   "source": [
    "# None of these computations *does* anything until we iterate\n",
    "data = natural_numbers()\n",
    "evens = (x for x in data if x % 2 == 0)\n",
    "even_squares = (x ** 2 for x in evens)\n",
    "even_squares_ending_in_six = (x for x in even_squares if x % 10 == 6)\n",
    "# and so on"
   ]
  },
  {
   "cell_type": "markdown",
   "id": "6b4e666c",
   "metadata": {},
   "source": [
    "### Not infrequently, when we’re iterating over a list or a generator we’ll want not just the values but also their indices. For this common case Python provides an enumerate function, which turns values into pairs (index, value):"
   ]
  },
  {
   "cell_type": "code",
   "execution_count": 8,
   "id": "d00b4d61",
   "metadata": {},
   "outputs": [
    {
     "name": "stdout",
     "output_type": "stream",
     "text": [
      "name 0 is Alice\n",
      "name 1 is Bob\n",
      "name 2 is Charlie\n",
      "name 3 is Debbie\n"
     ]
    }
   ],
   "source": [
    "names = [\"Alice\", \"Bob\", \"Charlie\", \"Debbie\"]\n",
    "\n",
    "# not Pythonic\n",
    "for i in range(len(names)):\n",
    "    print(f\"name {i} is {names[i]}\")"
   ]
  },
  {
   "cell_type": "markdown",
   "id": "fa319d4b",
   "metadata": {},
   "source": [
    "### also not Pythonic"
   ]
  },
  {
   "cell_type": "code",
   "execution_count": 9,
   "id": "5ab810cd",
   "metadata": {},
   "outputs": [
    {
     "name": "stdout",
     "output_type": "stream",
     "text": [
      "name 0 is Alice\n",
      "name 1 is Bob\n",
      "name 2 is Charlie\n",
      "name 3 is Debbie\n"
     ]
    }
   ],
   "source": [
    "i = 0\n",
    "for name in names:\n",
    "    print(f\"name {i} is {names[i]}\")\n",
    "    i += 1"
   ]
  },
  {
   "cell_type": "markdown",
   "id": "6999c149",
   "metadata": {},
   "source": [
    "### Pythonic"
   ]
  },
  {
   "cell_type": "code",
   "execution_count": 10,
   "id": "7392aa72",
   "metadata": {},
   "outputs": [
    {
     "name": "stdout",
     "output_type": "stream",
     "text": [
      "name 0 is Alice\n",
      "name 1 is Bob\n",
      "name 2 is Charlie\n",
      "name 3 is Debbie\n"
     ]
    }
   ],
   "source": [
    "for i, name in enumerate(names):\n",
    "    print(f\"name {i} is {name}\")"
   ]
  },
  {
   "cell_type": "markdown",
   "id": "474cae2b",
   "metadata": {},
   "source": [
    "## Randomness\n",
    "### In Data science we frequently generate random numbers, to do that we use \"random\" module"
   ]
  },
  {
   "cell_type": "code",
   "execution_count": 11,
   "id": "5f8dbc54",
   "metadata": {},
   "outputs": [
    {
     "data": {
      "text/plain": [
       "[0.6394267984578837,\n",
       " 0.025010755222666936,\n",
       " 0.27502931836911926,\n",
       " 0.22321073814882275]"
      ]
     },
     "execution_count": 11,
     "metadata": {},
     "output_type": "execute_result"
    }
   ],
   "source": [
    "import random\n",
    "random.seed(42)  ## This is ensure we get same number every time\n",
    "four_uniform_random = [random.random() for _ in range(4)]\n",
    "four_uniform_random"
   ]
  },
  {
   "cell_type": "markdown",
   "id": "20dd58ee",
   "metadata": {},
   "source": [
    "### The random module produces pseudorandom (i.e. deterministic) numbers based on an internal state which is set while random.seed if we want to get reproducible results:"
   ]
  },
  {
   "cell_type": "code",
   "execution_count": 12,
   "id": "768c3e90",
   "metadata": {},
   "outputs": [
    {
     "data": {
      "text/plain": [
       "0.6394267984578837"
      ]
     },
     "execution_count": 12,
     "metadata": {},
     "output_type": "execute_result"
    }
   ],
   "source": [
    "random.seed(42)\n",
    "random.random() "
   ]
  },
  {
   "cell_type": "code",
   "execution_count": 13,
   "id": "1cb268de",
   "metadata": {},
   "outputs": [
    {
     "data": {
      "text/plain": [
       "0.6394267984578837"
      ]
     },
     "execution_count": 13,
     "metadata": {},
     "output_type": "execute_result"
    }
   ],
   "source": [
    "random.seed(42)\n",
    "random.random()"
   ]
  },
  {
   "cell_type": "code",
   "execution_count": 14,
   "id": "25ecc0c6",
   "metadata": {},
   "outputs": [
    {
     "data": {
      "text/plain": [
       "0.4745706786885481"
      ]
     },
     "execution_count": 14,
     "metadata": {},
     "output_type": "execute_result"
    }
   ],
   "source": [
    "random.seed(12)\n",
    "random.random()"
   ]
  },
  {
   "cell_type": "code",
   "execution_count": 15,
   "id": "0995818a",
   "metadata": {},
   "outputs": [
    {
     "data": {
      "text/plain": [
       "0.4745706786885481"
      ]
     },
     "execution_count": 15,
     "metadata": {},
     "output_type": "execute_result"
    }
   ],
   "source": [
    "random.seed(12)\n",
    "random.random()"
   ]
  },
  {
   "cell_type": "markdown",
   "id": "f666d71b",
   "metadata": {},
   "source": [
    "### \" random.shuffle \" randomly reorders the elements of a list:"
   ]
  },
  {
   "cell_type": "code",
   "execution_count": 18,
   "id": "7137bb9e",
   "metadata": {},
   "outputs": [
    {
     "name": "stdout",
     "output_type": "stream",
     "text": [
      "[9, 1, 5, 3, 7]\n"
     ]
    }
   ],
   "source": [
    "below_ten_odds = [1,3,5,7,9]\n",
    "random.shuffle(below_ten_odds) ## print(random.shuffle(below_ten_odds)) will return None\n",
    "print(below_ten_odds)"
   ]
  },
  {
   "cell_type": "markdown",
   "id": "920e3b25",
   "metadata": {},
   "source": [
    "### \"random.choice\" randomly chosses an element out of a list"
   ]
  },
  {
   "cell_type": "code",
   "execution_count": 19,
   "id": "bcea3b99",
   "metadata": {},
   "outputs": [
    {
     "name": "stdout",
     "output_type": "stream",
     "text": [
      "myself\n"
     ]
    }
   ],
   "source": [
    "my_best_friend = random.choice(['I','me','myself'])\n",
    "print(my_best_friend)"
   ]
  },
  {
   "cell_type": "markdown",
   "id": "44132dc8",
   "metadata": {},
   "source": [
    "### \" random.sample \" can be used to randomly choose a sample of elements without replacement (i.e., with no duplicates) "
   ]
  },
  {
   "cell_type": "code",
   "execution_count": 20,
   "id": "f25253c3",
   "metadata": {},
   "outputs": [
    {
     "name": "stdout",
     "output_type": "stream",
     "text": [
      "[39, 9, 28, 23]\n"
     ]
    }
   ],
   "source": [
    "lottery_numbers = range(40)\n",
    "winning_numbers = random.sample(lottery_numbers, 4)\n",
    "print(winning_numbers)"
   ]
  },
  {
   "cell_type": "markdown",
   "id": "3b34638b",
   "metadata": {},
   "source": [
    "### Inorder to choose a sample of elements with replacement (i.e., allowing duplicates), you can just make multiple calls to random.choice:"
   ]
  },
  {
   "cell_type": "code",
   "execution_count": 24,
   "id": "ab7381eb",
   "metadata": {},
   "outputs": [
    {
     "name": "stdout",
     "output_type": "stream",
     "text": [
      "[1, 0, 0, 8, 3, 1]\n"
     ]
    }
   ],
   "source": [
    "six_with_replacement = [random.choice(range(10)) for _ in range(6)]\n",
    "print(six_with_replacement)"
   ]
  },
  {
   "cell_type": "markdown",
   "id": "4f87dc97",
   "metadata": {},
   "source": [
    "## Regular Expressions :- Regular expressions provide a way of searching text. They are incredibly useful, but also fairly complicated"
   ]
  },
  {
   "cell_type": "code",
   "execution_count": 1,
   "id": "904ef7bd",
   "metadata": {},
   "outputs": [],
   "source": [
    "import re"
   ]
  },
  {
   "cell_type": "code",
   "execution_count": 4,
   "id": "266e6f0c",
   "metadata": {},
   "outputs": [
    {
     "data": {
      "text/plain": [
       "<_sre.SRE_Match object; span=(0, 2), match='ab'>"
      ]
     },
     "execution_count": 4,
     "metadata": {},
     "output_type": "execute_result"
    }
   ],
   "source": [
    "re.match(\"ab\",\"abhi\")"
   ]
  },
  {
   "cell_type": "code",
   "execution_count": 15,
   "id": "7b062b67",
   "metadata": {},
   "outputs": [
    {
     "name": "stdout",
     "output_type": "stream",
     "text": [
      "Done\n"
     ]
    }
   ],
   "source": [
    "re_examples = [                        # All of these are True, because\n",
    "    not re.match(\"a\", \"cat\"),              #  'cat' doesn't start with 'a'\n",
    "    re.search(\"c\", \"cat\"),                 #  'cat' has an 'a' in it\n",
    "    not re.search(\"c\", \"dog\"),             #  'dog' doesn't have a 'c' in it.\n",
    "    3 == len(re.split(\"[ab]\", \"carbs\")),   #  Split on a or b to ['c','r','s'].\n",
    "    \"R-D-\" == re.sub(\"[0-9]\", \"-\", \"R2D2\") #  Replace digits with dashes.\n",
    "    ]\n",
    "assert all(re_examples), \"all the regex examples should be True\"\n",
    "print(\"Done\")"
   ]
  },
  {
   "cell_type": "code",
   "execution_count": 36,
   "id": "d23b6334",
   "metadata": {},
   "outputs": [
    {
     "data": {
      "text/plain": [
       "<_sre.SRE_Match object; span=(0, 1), match='c'>"
      ]
     },
     "execution_count": 36,
     "metadata": {},
     "output_type": "execute_result"
    }
   ],
   "source": [
    "re.search(\".\", \"cat\")"
   ]
  },
  {
   "cell_type": "markdown",
   "id": "b5dfb0ce",
   "metadata": {},
   "source": [
    "### re.match checks whether the beginning of a string matches a regular expression.\n",
    "### re.search checks whether any part of a string matches a regular expression. "
   ]
  },
  {
   "cell_type": "markdown",
   "id": "3802f6e2",
   "metadata": {},
   "source": [
    "#### Author thinks use of Python functions such as \" partial \",\" map \",\" reduce\", and \" filter \" are best avoided, and their uses should be replaced with \" list comprehensions \" , \" for loops\" , and other, more Pythonic constructs.\n",
    "# Find out why ?"
   ]
  },
  {
   "cell_type": "markdown",
   "id": "b86e84f8",
   "metadata": {},
   "source": [
    "## zip and Argument Unpacking :- The zip function transforms multiple iterables into a single iterable of tuples of corresponding function."
   ]
  },
  {
   "cell_type": "code",
   "execution_count": 1,
   "id": "630a2eb3",
   "metadata": {},
   "outputs": [],
   "source": [
    "list1 = ['a', 'b', 'c']\n",
    "list2 = [1, 2, 3]\n",
    "zipped_list = zip(list1,list2)"
   ]
  },
  {
   "cell_type": "markdown",
   "id": "735d1334",
   "metadata": {},
   "source": [
    "### Docstring:     \n",
    "zip(iter1 [,iter2 [...]]) --> zip object\n",
    "\n",
    "Return a zip object whose .__next__() method returns a tuple where\n",
    "the i-th element comes from the i-th iterable argument.  The .__next__()\n",
    "method continues until the shortest iterable in the argument sequence\n",
    "is exhausted and then it raises StopIteration.\n",
    "Type:           type"
   ]
  },
  {
   "cell_type": "code",
   "execution_count": 2,
   "id": "ba03e93b",
   "metadata": {},
   "outputs": [
    {
     "data": {
      "text/plain": [
       "<zip at 0x22cc704d388>"
      ]
     },
     "execution_count": 2,
     "metadata": {},
     "output_type": "execute_result"
    }
   ],
   "source": [
    "zipped_list"
   ]
  },
  {
   "cell_type": "code",
   "execution_count": 5,
   "id": "9735866b",
   "metadata": {},
   "outputs": [
    {
     "data": {
      "text/plain": [
       "('b', 2)"
      ]
     },
     "execution_count": 5,
     "metadata": {},
     "output_type": "execute_result"
    }
   ],
   "source": [
    "next(zipped_list)"
   ]
  },
  {
   "cell_type": "code",
   "execution_count": 6,
   "id": "60439896",
   "metadata": {},
   "outputs": [
    {
     "name": "stdout",
     "output_type": "stream",
     "text": [
      "[('a', 1), ('b', 2), ('c', 3)]\n"
     ]
    }
   ],
   "source": [
    "# zip is lazy, so you have to do to use either next to acces each element in zipped list indivially\n",
    "# or something like below\n",
    "list_zipped = [pair for pair in zip(list1, list2)]    # is [('a', 1), ('b', 2), ('c', 3)]\n",
    "print(list_zipped)"
   ]
  },
  {
   "cell_type": "markdown",
   "id": "1ea610f1",
   "metadata": {},
   "source": [
    "## If the lists are different lengths, zip stops as soon as the first list ends."
   ]
  },
  {
   "cell_type": "code",
   "execution_count": 8,
   "id": "65a648b8",
   "metadata": {},
   "outputs": [
    {
     "name": "stdout",
     "output_type": "stream",
     "text": [
      "[(1, 'a'), (2, 'b'), (3, 'c')]\n"
     ]
    }
   ],
   "source": [
    "larger_list = [1,2,3,4,5]\n",
    "smaller_list = ['a','b','c']\n",
    "pairs = [pair for pair in zip(larger_list,smaller_list)]\n",
    "print(pairs)"
   ]
  },
  {
   "cell_type": "markdown",
   "id": "e67ebbd8",
   "metadata": {},
   "source": [
    " ### “unzip” a list using a strange trick:"
   ]
  },
  {
   "cell_type": "code",
   "execution_count": 9,
   "id": "2010d1f5",
   "metadata": {},
   "outputs": [],
   "source": [
    "number,letter = zip(*pairs)"
   ]
  },
  {
   "cell_type": "code",
   "execution_count": 11,
   "id": "a33670aa",
   "metadata": {},
   "outputs": [
    {
     "name": "stdout",
     "output_type": "stream",
     "text": [
      "(1, 2, 3)\n"
     ]
    }
   ],
   "source": [
    "print(number)"
   ]
  },
  {
   "cell_type": "code",
   "execution_count": 12,
   "id": "8e05b03d",
   "metadata": {},
   "outputs": [
    {
     "name": "stdout",
     "output_type": "stream",
     "text": [
      "('a', 'b', 'c')\n"
     ]
    }
   ],
   "source": [
    "print(letter)"
   ]
  },
  {
   "cell_type": "markdown",
   "id": "84504cc4",
   "metadata": {},
   "source": [
    "### The asterisk (*) performs argument unpacking, which uses the elements of pairs as individual arguments to zip. It ends up the same as if you’d called:"
   ]
  },
  {
   "cell_type": "code",
   "execution_count": 13,
   "id": "c2fcf88e",
   "metadata": {},
   "outputs": [],
   "source": [
    "letters, numbers = zip(('a', 1), ('b', 2), ('c', 3))"
   ]
  },
  {
   "cell_type": "code",
   "execution_count": 14,
   "id": "0717128b",
   "metadata": {},
   "outputs": [
    {
     "data": {
      "text/plain": [
       "('a', 'b', 'c')"
      ]
     },
     "execution_count": 14,
     "metadata": {},
     "output_type": "execute_result"
    }
   ],
   "source": [
    "letters"
   ]
  },
  {
   "cell_type": "code",
   "execution_count": 15,
   "id": "d1f1d6ca",
   "metadata": {},
   "outputs": [
    {
     "data": {
      "text/plain": [
       "(1, 2, 3)"
      ]
     },
     "execution_count": 15,
     "metadata": {},
     "output_type": "execute_result"
    }
   ],
   "source": [
    "numbers"
   ]
  },
  {
   "cell_type": "markdown",
   "id": "bc94779e",
   "metadata": {},
   "source": [
    "## Argument unpacking can be used with any function"
   ]
  },
  {
   "cell_type": "code",
   "execution_count": 16,
   "id": "4a1bc97a",
   "metadata": {},
   "outputs": [
    {
     "data": {
      "text/plain": [
       "6"
      ]
     },
     "execution_count": 16,
     "metadata": {},
     "output_type": "execute_result"
    }
   ],
   "source": [
    "def add(a,b,c): return a+b+c\n",
    "add(1,2,3)"
   ]
  },
  {
   "cell_type": "code",
   "execution_count": 17,
   "id": "68818c0e",
   "metadata": {},
   "outputs": [
    {
     "name": "stdout",
     "output_type": "stream",
     "text": [
      "add expects three input\n"
     ]
    }
   ],
   "source": [
    "try:\n",
    "    add([1,2,3])\n",
    "except TypeError:\n",
    "    print(\"add expects three input\")"
   ]
  },
  {
   "cell_type": "markdown",
   "id": "9d2c8420",
   "metadata": {},
   "source": [
    "### upacking does the work"
   ]
  },
  {
   "cell_type": "code",
   "execution_count": 18,
   "id": "ef0cdb87",
   "metadata": {},
   "outputs": [
    {
     "data": {
      "text/plain": [
       "6"
      ]
     },
     "execution_count": 18,
     "metadata": {},
     "output_type": "execute_result"
    }
   ],
   "source": [
    "add(*[1,2,3])"
   ]
  },
  {
   "cell_type": "markdown",
   "id": "a187fce7",
   "metadata": {},
   "source": [
    "## args and kwargs"
   ]
  },
  {
   "cell_type": "code",
   "execution_count": 20,
   "id": "20c2f6a0",
   "metadata": {},
   "outputs": [],
   "source": [
    "def doubler(f):\n",
    "    # Here we define a new function that keeps a reference to f\n",
    "    def g(x):\n",
    "        return 2 * f(x)\n",
    "\n",
    "    # And return that new function\n",
    "    return g"
   ]
  },
  {
   "cell_type": "markdown",
   "id": "36720809",
   "metadata": {},
   "source": [
    "## It works in some cases"
   ]
  },
  {
   "cell_type": "code",
   "execution_count": 22,
   "id": "19196400",
   "metadata": {},
   "outputs": [
    {
     "name": "stdout",
     "output_type": "stream",
     "text": [
      "Done\n"
     ]
    }
   ],
   "source": [
    "def f1(x): return x+1\n",
    "g = doubler(f1)\n",
    "assert g(3) == 8,  \"(3 + 1) * 2 should equal 8\"\n",
    "assert g(-1) == 0, \"(-1 + 1) * 2 should equal 0\"\n",
    "print(\"Done\")"
   ]
  },
  {
   "cell_type": "markdown",
   "id": "28a1d190",
   "metadata": {},
   "source": [
    "## However it doesnot work with functions which take more than one arguments"
   ]
  },
  {
   "cell_type": "code",
   "execution_count": 23,
   "id": "13820524",
   "metadata": {},
   "outputs": [
    {
     "name": "stdout",
     "output_type": "stream",
     "text": [
      "As defined 'doubler' takes only one argument\n"
     ]
    }
   ],
   "source": [
    "def f2(x,y): return x+y\n",
    "h = doubler(f2)\n",
    "try:\n",
    "    h(1,2)\n",
    "except TypeError:\n",
    "    print(\"As defined 'doubler' takes only one argument\")"
   ]
  },
  {
   "cell_type": "markdown",
   "id": "d8cbd867",
   "metadata": {},
   "source": [
    "## What we need is a way to specify a function that takes arbitrary arguments. We can do this with argument unpacking and a little bit of magic:"
   ]
  },
  {
   "cell_type": "code",
   "execution_count": 24,
   "id": "3534c935",
   "metadata": {},
   "outputs": [
    {
     "name": "stdout",
     "output_type": "stream",
     "text": [
      "Unnamed arguments : (1, 2, 3, 4, 5, 6)\n",
      "Keywords arguments : {'key1': 'Hello', 'key2': 'bye'}\n"
     ]
    }
   ],
   "source": [
    "def magic(*args,**kwargs):\n",
    "    print(\"Unnamed arguments :\", args)\n",
    "    print(\"Keywords arguments :\", kwargs)\n",
    "magic(1,2,3,4,5,6,key1= \"Hello\",key2 = \"bye\")"
   ]
  },
  {
   "cell_type": "markdown",
   "id": "8f3ff564",
   "metadata": {},
   "source": [
    "## That is, when we define a function like this, args is a tuple of its unnamed arguments and kwargs is a dict of its named arguments. It works the other way too, if you want to use a list (or tuple) and dict to supply arguments to a function:"
   ]
  },
  {
   "cell_type": "code",
   "execution_count": 25,
   "id": "258771c3",
   "metadata": {},
   "outputs": [],
   "source": [
    "def other_way_magic(x,y,z): return x+y+z"
   ]
  },
  {
   "cell_type": "code",
   "execution_count": 27,
   "id": "b551ce71",
   "metadata": {},
   "outputs": [
    {
     "data": {
      "text/plain": [
       "6"
      ]
     },
     "execution_count": 27,
     "metadata": {},
     "output_type": "execute_result"
    }
   ],
   "source": [
    "x_y_list = [1,2]\n",
    "z_dict = {\"z\":3}\n",
    "assert other_way_magic(*x_y_list, **z_dict) == 6, \"1 + 2 + 3 should be 6\"\n",
    "other_way_magic(*x_y_list,**z_dict)"
   ]
  },
  {
   "cell_type": "markdown",
   "id": "baa3ac8a",
   "metadata": {},
   "source": [
    "## we will only use it to produce higher-order functions whose inputs can accept arbitrary arguments:"
   ]
  },
  {
   "cell_type": "code",
   "execution_count": 29,
   "id": "95bf11c4",
   "metadata": {},
   "outputs": [
    {
     "name": "stdout",
     "output_type": "stream",
     "text": [
      "10\n"
     ]
    }
   ],
   "source": [
    "def doubler_correct(f):\n",
    "    \"\"\"works no matter what kind of inputs f expects\"\"\"\n",
    "    def g(*args, **kwargs):\n",
    "        \"\"\"whatever arguments g is supplied, pass them through to f\"\"\"\n",
    "        return 2 * f(*args, **kwargs)\n",
    "    return g\n",
    "\n",
    "g = doubler_correct(f2)\n",
    "assert g(3, 2) == 10, \"doubler should work now\"\n",
    "print(g(3, 2))"
   ]
  },
  {
   "cell_type": "markdown",
   "id": "d87e38d9",
   "metadata": {},
   "source": [
    "## we will use args and kwargs only when we have no other option, \n",
    "\n",
    "#### because our code will be more correct and readable if we are explicit about what sorts of arguments your functions require"
   ]
  },
  {
   "cell_type": "markdown",
   "id": "52418b95",
   "metadata": {},
   "source": [
    "# Type Annotations :-"
   ]
  },
  {
   "cell_type": "markdown",
   "id": "9134b492",
   "metadata": {},
   "source": [
    "### Python is a dynamically typed language. That means that it in general it doesn’t care about the types of objects we use, as long as we use them in valid ways:"
   ]
  },
  {
   "cell_type": "code",
   "execution_count": 30,
   "id": "ca72e2a8",
   "metadata": {},
   "outputs": [],
   "source": [
    "def add(a,b): return a+b"
   ]
  },
  {
   "cell_type": "code",
   "execution_count": 31,
   "id": "7d4fae54",
   "metadata": {},
   "outputs": [
    {
     "name": "stdout",
     "output_type": "stream",
     "text": [
      "3\n",
      "[1, 2, 3]\n",
      "hi there\n"
     ]
    }
   ],
   "source": [
    "print(add(1,2))                  ## prints 3 because + is valid operation for integers\n",
    "print(add([1,2],[3]))            ## prints [1,2,3] because + is valid operation for lists\n",
    "print(add(\"hi\",\" there\"))         ## print \"hi there\" because + is valid operation for strings"
   ]
  },
  {
   "cell_type": "code",
   "execution_count": 32,
   "id": "74e00395",
   "metadata": {},
   "outputs": [
    {
     "name": "stdout",
     "output_type": "stream",
     "text": [
      "cannot add an int to a string\n"
     ]
    }
   ],
   "source": [
    "try:\n",
    "    add(10, \"five\")\n",
    "except TypeError:\n",
    "    print(\"cannot add an int to a string\")"
   ]
  },
  {
   "cell_type": "markdown",
   "id": "548df28b",
   "metadata": {},
   "source": [
    "## whereas in a statically typed language our functions and objects would have specific types:"
   ]
  },
  {
   "cell_type": "code",
   "execution_count": 2,
   "id": "747101ca",
   "metadata": {},
   "outputs": [
    {
     "data": {
      "text/plain": [
       "15"
      ]
     },
     "execution_count": 2,
     "metadata": {},
     "output_type": "execute_result"
    }
   ],
   "source": [
    "def add_fn(a: int, b: int) -> int:\n",
    "    return a + b\n",
    "\n",
    "add_fn(10, 5)           # you'd like this to be OK"
   ]
  },
  {
   "cell_type": "code",
   "execution_count": 3,
   "id": "db269934",
   "metadata": {},
   "outputs": [
    {
     "data": {
      "text/plain": [
       "'hi there'"
      ]
     },
     "execution_count": 3,
     "metadata": {},
     "output_type": "execute_result"
    }
   ],
   "source": [
    "add_fn(\"hi \", \"there\")  # you'd like this to be not OK"
   ]
  },
  {
   "cell_type": "markdown",
   "id": "b4abf4c4",
   "metadata": {},
   "source": [
    "## But in python that's not the case these type annotations don’t actually do anything. We can still use the annotated add function to add strings, and the call to add(10, \"five\") will still raise the exact same TypeError. Four good reasons to use type annotations in your Python code are :\n",
    "\n",
    "#### 1. Types are an important form of documentation. \n",
    "#### 2. There are external tools (the most popular is mypy) that will read your code, inspect the type annotations, and let you know about type errors before you ever run your code. Like assert testing, this is a good way to find mistakes in your code before you ever run it.\n",
    "#### 3. Having to think about the types in your code forces you to design cleaner functions and interfaces:\n",
    "eg. :- \n",
    "from typing import Union\n",
    "\n",
    "def secretly_ugly_function(value, operation): ...\n",
    "\n",
    "def ugly_function(value: int,\n",
    "                  operation: Union[str, int, float, bool]) -> int:\n",
    "Here we have a function whose operation parameter is allowed to be a string, or an int, or a float, or a bool. It is highly likely that this function is fragile and difficult to use, but it becomes far more clear when the types are made explicit.\n",
    "\n",
    "#### 4. Using types allows your editor to help you with things like autocomplete."
   ]
  },
  {
   "cell_type": "markdown",
   "id": "1eb54fc7",
   "metadata": {},
   "source": [
    "## Writing Type Annotations :- \n",
    "\n",
    "### The typing module provides a number of parameterized types that we can use to do just this:"
   ]
  },
  {
   "cell_type": "code",
   "execution_count": 7,
   "id": "f004b6ee",
   "metadata": {},
   "outputs": [],
   "source": [
    "from typing import List ## List has a capital 'L'\n",
    "def total(xs: List[float]) -> float:\n",
    "    return sum(total)"
   ]
  },
  {
   "cell_type": "markdown",
   "id": "4cf6287b",
   "metadata": {},
   "source": [
    "### Sometimes the type of a variable is not obvious In such cases we will supply inline type hints:"
   ]
  },
  {
   "cell_type": "code",
   "execution_count": 9,
   "id": "8f091778",
   "metadata": {},
   "outputs": [],
   "source": [
    "from typing import Optional\n",
    "\n",
    "values: List[int] = []\n",
    "best_so_far: Optional[float] = None  # allowed to be either a float or None"
   ]
  },
  {
   "cell_type": "markdown",
   "id": "5eb14163",
   "metadata": {},
   "source": [
    "## The typing module contains many other types, only a few of which are necessary\n",
    "\n",
    "### since Python has first-class functions, we need a type to represent those as well."
   ]
  },
  {
   "cell_type": "markdown",
   "id": "e7a1d605",
   "metadata": {},
   "source": [
    "### As type annotations are just Python objects, we can assign them to variables to make them easier to refer to:"
   ]
  },
  {
   "cell_type": "code",
   "execution_count": 11,
   "id": "96b953ac",
   "metadata": {},
   "outputs": [],
   "source": [
    "Number = int\n",
    "Numbers = List[Number]\n",
    "\n",
    "def total(xs: Numbers) -> Number:\n",
    "    return sum(xs)"
   ]
  },
  {
   "cell_type": "code",
   "execution_count": 12,
   "id": "3c016e06",
   "metadata": {},
   "outputs": [
    {
     "data": {
      "text/plain": [
       "25"
      ]
     },
     "execution_count": 12,
     "metadata": {},
     "output_type": "execute_result"
    }
   ],
   "source": [
    "total([12,13])"
   ]
  },
  {
   "cell_type": "markdown",
   "id": "26b9f4ca",
   "metadata": {},
   "source": [
    "## Further Reference Material :- \n",
    "\n",
    "\n",
    "### The official Python Documentation.\n",
    "\n",
    "### The mypy documentation"
   ]
  }
 ],
 "metadata": {
  "kernelspec": {
   "display_name": "Python 3",
   "language": "python",
   "name": "python3"
  },
  "language_info": {
   "codemirror_mode": {
    "name": "ipython",
    "version": 3
   },
   "file_extension": ".py",
   "mimetype": "text/x-python",
   "name": "python",
   "nbconvert_exporter": "python",
   "pygments_lexer": "ipython3",
   "version": "3.6.13"
  }
 },
 "nbformat": 4,
 "nbformat_minor": 5
}
