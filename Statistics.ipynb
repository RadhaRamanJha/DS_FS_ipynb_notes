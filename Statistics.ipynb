{
 "cells": [
  {
   "cell_type": "markdown",
   "id": "51c1abd1",
   "metadata": {},
   "source": [
    "## Statistics refers to the mathematics and techniques with which we understand data. \n",
    "\n",
    "### Describing a single data set"
   ]
  },
  {
   "cell_type": "code",
   "execution_count": 1,
   "id": "7c6f8d52",
   "metadata": {},
   "outputs": [
    {
     "data": {
      "text/plain": [
       "100"
      ]
     },
     "execution_count": 1,
     "metadata": {},
     "output_type": "execute_result"
    }
   ],
   "source": [
    "# Consider the below ilst \n",
    "import random\n",
    "random.seed(0)\n",
    "num_list= [random.randint(n,100) for n in range(100)]\n",
    "len(num_list)"
   ]
  },
  {
   "cell_type": "markdown",
   "id": "8a42578e",
   "metadata": {},
   "source": [
    "### We can describe this data set by simply ploting a histogram plot"
   ]
  },
  {
   "cell_type": "code",
   "execution_count": 2,
   "id": "ef45261b",
   "metadata": {},
   "outputs": [
    {
     "data": {
      "image/png": "[encoded data removed]",
      "text/plain": [
       "<Figure size 432x288 with 1 Axes>"
      ]
     },
     "metadata": {
      "needs_background": "light"
     },
     "output_type": "display_data"
    }
   ],
   "source": [
    "from collections import Counter\n",
    "import matplotlib.pyplot as plt\n",
    "\n",
    "num_counts = Counter(num_list)\n",
    "\n",
    "xs = range(100) # produce a count upto 100\n",
    "ys = [num_counts[x] for x in xs]  # Height is just the count of values\n",
    "\n",
    "plt.bar(xs,ys)\n",
    "plt.title(\"Historagam of value counts\")\n",
    "plt.xlabel(\"# in the list\")\n",
    "plt.ylabel(\"count of # in list\")\n",
    "plt.show()"
   ]
  },
  {
   "cell_type": "markdown",
   "id": "a1d3fe02",
   "metadata": {},
   "source": [
    "### To describe this data in conversations we need statistics e.g. \n",
    "1. Number of data points"
   ]
  },
  {
   "cell_type": "code",
   "execution_count": 3,
   "id": "2e2c8c48",
   "metadata": {},
   "outputs": [
    {
     "name": "stdout",
     "output_type": "stream",
     "text": [
      "The total number of data points are 100\n"
     ]
    }
   ],
   "source": [
    "num_data_points = len(num_list)\n",
    "print(f\"The total number of data points are {len(num_list)}\")"
   ]
  },
  {
   "cell_type": "markdown",
   "id": "f95d91ca",
   "metadata": {},
   "source": [
    "2. Largest and smallest values"
   ]
  },
  {
   "cell_type": "code",
   "execution_count": 4,
   "id": "58ce2199",
   "metadata": {},
   "outputs": [
    {
     "name": "stdout",
     "output_type": "stream",
     "text": [
      "The largest number of the list is 100\n",
      "The smallest number of the list is 8\n"
     ]
    }
   ],
   "source": [
    "largest_number = max(num_list)\n",
    "smallest_number = min(num_list)\n",
    "print(f\"The largest number of the list is {largest_number}\")\n",
    "print(f\"The smallest number of the list is {smallest_number}\")"
   ]
  },
  {
   "cell_type": "markdown",
   "id": "6334abd0",
   "metadata": {},
   "source": [
    "3. We can look for numbers at specific positions"
   ]
  },
  {
   "cell_type": "code",
   "execution_count": 5,
   "id": "3d05090e",
   "metadata": {},
   "outputs": [
    {
     "name": "stdout",
     "output_type": "stream",
     "text": [
      "The smallest number in the list is 8\n",
      "The 2nd smallest number in the list is 29\n",
      "The 11th largest number in the list is 99\n"
     ]
    }
   ],
   "source": [
    "sorted_numbers = sorted(num_list)\n",
    "print(f\"The smallest number in the list is {sorted_numbers[0]}\")\n",
    "print(f\"The 2nd smallest number in the list is {sorted_numbers[1]}\")\n",
    "print(f\"The 11th largest number in the list is {sorted_numbers[-11]}\")"
   ]
  },
  {
   "cell_type": "markdown",
   "id": "be103cb9",
   "metadata": {},
   "source": [
    "## Central Tendencies\n",
    "\n",
    "1. Mean(used most commonly) - which sum of all data divided by its count:"
   ]
  },
  {
   "cell_type": "code",
   "execution_count": 6,
   "id": "8a94af2a",
   "metadata": {},
   "outputs": [],
   "source": [
    "from typing import List\n",
    "def num_mean(xs: List[float]) -> float:\n",
    "    \"\"\"\n",
    "    ratio of sum of all data and count of data\n",
    "    \"\"\"\n",
    "    return sum(xs)/len(xs)\n",
    "assert(num_mean(num_list) == 77.44) ## mean always depends on the value of every point"
   ]
  },
  {
   "cell_type": "markdown",
   "id": "c0fcb508",
   "metadata": {},
   "source": [
    "## We’ll also sometimes be interested in the median\n",
    "\n",
    "* It is the middle-most value (if the number of data points is odd) or \n",
    "\n",
    "* The average of the two middle-most values (if the number of data points is even).\n",
    "\n",
    "### unlike the mean—the median doesn’t fully depend on every value in the data"
   ]
  },
  {
   "cell_type": "code",
   "execution_count": 7,
   "id": "935f5016",
   "metadata": {},
   "outputs": [],
   "source": [
    "## The underscore indicate that following are the private functions which is to be used by caculate mean function only'\n",
    "def _odd_median(lis1 :List[float]) -> float:\n",
    "    \"\"\"\n",
    "    returns middle element in sorted list\n",
    "    \"\"\"\n",
    "    return sorted(lis1)[len(lis1)//2]\n",
    "def _even_median(lis1 :List[float]) -> float:\n",
    "    \"\"\"\n",
    "    returns the average of middle two element\n",
    "    \"\"\"\n",
    "    mid_element = len(lis1)//2\n",
    "    return ((sorted(lis1)[mid_element-1]+sorted(lis1)[mid_element])/2)\n",
    "def num_median(v :List[float]) -> float:\n",
    "    \"\"\"\n",
    "    Finds the middle most element of v\n",
    "    \"\"\"\n",
    "    return _even_median(v) if len(v)%2 == 0 else _odd_median(v)\n",
    "\n",
    "assert(num_median([12,63,44,34,56]) == 44)\n",
    "assert(num_median([34,24,56,17,12,64]) == 29)"
   ]
  },
  {
   "cell_type": "markdown",
   "id": "9c9e164f",
   "metadata": {},
   "source": [
    "### The median of num_list can be computed using the above function"
   ]
  },
  {
   "cell_type": "code",
   "execution_count": 8,
   "id": "7bb300e8",
   "metadata": {},
   "outputs": [],
   "source": [
    "assert(num_median(num_list) == 85.5)"
   ]
  },
  {
   "cell_type": "markdown",
   "id": "6c27ec7c",
   "metadata": {},
   "source": [
    "## Mean can some times be misleading specially in case too high or too low value is present n the list \n",
    "\n",
    "+ A generalization of the median is the quantile, which represents the value under which a certain percentile of the data lies (the median represents the value under which 50% of the data lies):"
   ]
  },
  {
   "cell_type": "code",
   "execution_count": 9,
   "id": "3d95cb82",
   "metadata": {},
   "outputs": [],
   "source": [
    "def quantile(lis: List[float], p :float) -> float:\n",
    "    \"\"\"\n",
    "    Returns the pth percentile value of the list\n",
    "    \"\"\"\n",
    "    p_index = int(p*len(lis))\n",
    "    return sorted(lis)[p_index]\n",
    "\n",
    "assert(quantile(num_list,0.10) == 42)\n",
    "assert(quantile(num_list,0.25) == 68)\n",
    "assert(quantile(num_list,0.75) == 96)\n",
    "assert(quantile(num_list,0.90) == 99)"
   ]
  },
  {
   "cell_type": "markdown",
   "id": "348ae252",
   "metadata": {},
   "source": [
    "## Mode or Most common values"
   ]
  },
  {
   "cell_type": "code",
   "execution_count": 10,
   "id": "5ed964eb",
   "metadata": {},
   "outputs": [],
   "source": [
    "def mode(lis :List[float]) -> List[float]:\n",
    "    \"\"\"\n",
    "    Returns a list since there might be more than one most occuring value\n",
    "    \"\"\"\n",
    "    counts = Counter(lis)\n",
    "    max_count = max(counts.values())\n",
    "    return [x_i for x_i,count in counts.items()\n",
    "           if count == max_count]\n",
    "assert(set(mode(num_list)) == {99})"
   ]
  },
  {
   "cell_type": "markdown",
   "id": "ff9559bd",
   "metadata": {},
   "source": [
    "## Dispersion\n",
    "\n",
    "### Dispersion refers to measures of how spread out our data is. Typically they’re statistics for which values near zero signify not spread out at all and for which large values (whatever that means) signify very spread out.\n",
    "\n",
    "1. Range"
   ]
  },
  {
   "cell_type": "code",
   "execution_count": 11,
   "id": "67f0af61",
   "metadata": {},
   "outputs": [],
   "source": [
    "def data_range(lis1 :List[float]) -> float:\n",
    "    \"\"\"\n",
    "    The difference between maximum and minimum value\n",
    "    \"\"\"\n",
    "    return max(lis1)-min(lis1)\n",
    "assert(data_range(num_list) == 92)"
   ]
  },
  {
   "cell_type": "markdown",
   "id": "b20d23cc",
   "metadata": {},
   "source": [
    "+ The range is zero precisely when the max and min are equal, i.e. elements of x are all the same. \n",
    "\n",
    "+ Conversely, if the range is large, then the max is much larger than the min and the data is more spread out.\n",
    "\n",
    "## Like the median, the range doesn’t really depend on the whole dataset. \n",
    "\n",
    "### A more complex measure dispersion is sum of Squares"
   ]
  },
  {
   "cell_type": "code",
   "execution_count": 29,
   "id": "b6a9133b",
   "metadata": {},
   "outputs": [],
   "source": [
    " ## Importing sum_of_squares function from linear_algebra file\n",
    "    \n",
    "from ipynb.fs.full.linear_algebra import sum_of_squares # Note\n",
    "\n",
    "def de_mean(lis1 :List[float]) -> List:\n",
    "    \"\"\"\n",
    "    Reduces the mean of list to 0 by \n",
    "    substracting mean from every element\n",
    "    \"\"\"\n",
    "    mean_lis1 = num_mean(lis1)\n",
    "    return [lis1_n - mean_lis1 for lis1_n in lis1]\n",
    "\n",
    "def variance(lis1 : List[float]) -> float:\n",
    "    \"\"\" \n",
    "    Returns the average squared deviation from the mean\n",
    "    \"\"\"\n",
    "    assert len(lis1) >=2 ,\"Atleast 2 elements required to calculate variance\"\n",
    "    \n",
    "    n = len(lis1)\n",
    "    deviations = de_mean(lis1)\n",
    "    return sum_of_squares(deviations)/(n-1)\n",
    "assert(471 < variance(num_list) < 472)"
   ]
  },
  {
   "cell_type": "markdown",
   "id": "d537fb15",
   "metadata": {},
   "source": [
    "#### it is almost the average squared deviation from the mean, except that we’re dividing by n - 1 instead of n. In fact, when we’re dealing with a sample from a larger population, x_bar is only an estimate of the actual mean, which means that on average (x_i - x_bar) ** 2 is an underestimate of x_i’s squared deviation from the mean, which is why we divide by n - 1 instead of n"
   ]
  },
  {
   "cell_type": "markdown",
   "id": "28271061",
   "metadata": {},
   "source": [
    "### The unit of data and central tendencies like range, mean, mode are the same, but the variance has a squared unit. Hence, we calculate standard deviation"
   ]
  },
  {
   "cell_type": "code",
   "execution_count": 32,
   "id": "29a3aa65",
   "metadata": {},
   "outputs": [],
   "source": [
    "from math import sqrt\n",
    "\n",
    "def standard_deviation(lis1 :List[float]) -> float:\n",
    "    \"\"\"\n",
    "    Standard deviation is square root of variance\n",
    "    \"\"\"\n",
    "    return sqrt(variance(lis1))\n",
    "\n",
    "assert(21 < standard_deviation(num_list) < 22)"
   ]
  },
  {
   "cell_type": "markdown",
   "id": "e61983ae",
   "metadata": {},
   "source": [
    "+ Both the range and standard deviation have the same outlier problem as that of mean.\n",
    "\n",
    "## Interquartile range( IQR ) :-\n",
    "#### A more robust alternative computes the difference between the 75th percentile value and the 25th percentile value. which is quite plainly unaffected by a small number of outliers."
   ]
  },
  {
   "cell_type": "code",
   "execution_count": 34,
   "id": "6164bad1",
   "metadata": {},
   "outputs": [],
   "source": [
    "def interquartile_range(lis1 :List[float]) -> float:\n",
    "    \"\"\"\n",
    "    Returns the difference of 75 percentile and 25 percentile\n",
    "    \"\"\"\n",
    "    return quantile(lis1,0.75) - quantile(lis1,0.25)\n",
    "\n",
    "assert(interquartile_range(num_list) == 28)"
   ]
  },
  {
   "cell_type": "markdown",
   "id": "07feae29",
   "metadata": {},
   "source": [
    "## Covariance :- the paired analogue of variance. \n",
    "\n",
    "### Whereas variance measures how a single variable deviates from its mean, covariance measures how two variables vary in tandem from their means."
   ]
  },
  {
   "cell_type": "code",
   "execution_count": 38,
   "id": "48cb45b5",
   "metadata": {},
   "outputs": [
    {
     "data": {
      "text/plain": [
       "100"
      ]
     },
     "execution_count": 38,
     "metadata": {},
     "output_type": "execute_result"
    }
   ],
   "source": [
    "new_num_list = [random.randint(n,105) for n in range(5,105)]\n",
    "len(new_num_list)"
   ]
  },
  {
   "cell_type": "code",
   "execution_count": 39,
   "id": "9914f747",
   "metadata": {},
   "outputs": [],
   "source": [
    "from ipynb.fs.full.linear_algebra import dot_product\n",
    "\n",
    "def covariance(v :List[float],u :List[float]) -> float:\n",
    "    assert(len(v) == len(u)),\"Both the Vectors must have same length\"\n",
    "    \n",
    "    return dot(de_mean(v)*de_mean(u))/(len(v)-1)"
   ]
  },
  {
   "cell_type": "markdown",
   "id": "f1798507",
   "metadata": {},
   "source": [
    "+ “large” positive covariance means that x tends to be large when y is large and small when y is small. \n",
    "\n",
    "\n",
    "\n",
    "+ A “large” negative covariance means that x tends to be small when y is large and vice versa.\n",
    "\n",
    "\n",
    "\n",
    "+ A covariance close to zero means that no such relationship exists."
   ]
  },
  {
   "cell_type": "code",
   "execution_count": null,
   "id": "eab0f9a0",
   "metadata": {},
   "outputs": [],
   "source": []
  },
  {
   "cell_type": "code",
   "execution_count": null,
   "id": "7680d9e6",
   "metadata": {},
   "outputs": [],
   "source": []
  },
  {
   "cell_type": "code",
   "execution_count": null,
   "id": "3cf0ac20",
   "metadata": {},
   "outputs": [],
   "source": []
  },
  {
   "cell_type": "code",
   "execution_count": null,
   "id": "df690003",
   "metadata": {},
   "outputs": [],
   "source": []
  }
 ],
 "metadata": {
  "kernelspec": {
   "display_name": "Python 3",
   "language": "python",
   "name": "python3"
  },
  "language_info": {
   "codemirror_mode": {
    "name": "ipython",
    "version": 3
   },
   "file_extension": ".py",
   "mimetype": "text/x-python",
   "name": "python",
   "nbconvert_exporter": "python",
   "pygments_lexer": "ipython3",
   "version": "3.6.13"
  }
 },
 "nbformat": 4,
 "nbformat_minor": 5
}
