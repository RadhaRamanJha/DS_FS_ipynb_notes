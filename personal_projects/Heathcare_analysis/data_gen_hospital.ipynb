{
 "cells": [
  {
   "cell_type": "markdown",
   "id": "328c70de",
   "metadata": {},
   "source": [
    "## Patient Entry Data Generation for the year "
   ]
  },
  {
   "cell_type": "code",
   "execution_count": 1,
   "id": "6e14323d",
   "metadata": {},
   "outputs": [],
   "source": [
    "import pandas as pd\n",
    "from faker import Faker\n",
    "import random"
   ]
  },
  {
   "cell_type": "code",
   "execution_count": 2,
   "id": "ed71e5ee",
   "metadata": {},
   "outputs": [],
   "source": [
    "# Initialize fake class to generate fake data\n",
    "fake = Faker()"
   ]
  },
  {
   "cell_type": "markdown",
   "id": "0308ee7f",
   "metadata": {},
   "source": [
    "PatientID,PatientName,Age,Gender,AdmissionDate,DischargeDate,Diagnosis,Doctor,RoomNumber"
   ]
  },
  {
   "cell_type": "code",
   "execution_count": 3,
   "id": "68f88de8",
   "metadata": {},
   "outputs": [],
   "source": [
    "# List of possible diagnoses and doctors\n",
    "diagnoses = ['Pneumonia', 'Bronchitis', 'Diabetes', 'Asthma', 'Hypertension', 'Fracture', 'Appendicitis', 'Allergy', 'Heart Diseases', 'Stroke']\n",
    "doctors = ['Dr. Widow', 'Dr. Stark', 'Dr. Hulk', 'Dr. Thor', 'Dr. Vison', 'Dr. Mogambo', 'Dr. Gangadhar', 'Dr. Clark', 'Dr. Tendulkar''Dr. Clark', 'Dr. Lewis', 'Dr. Walker']"
   ]
  },
  {
   "cell_type": "code",
   "execution_count": 5,
   "id": "2a7c5347",
   "metadata": {},
   "outputs": [],
   "source": [
    "# list to store patient information\n",
    "data = []\n",
    "for i in range(1,200001):\n",
    "    patient_id = i\n",
    "    patient_name = fake.name()\n",
    "    age = random.randint(1,100)\n",
    "    gender = random.choice(['Male','Female'])\n",
    "    AdmissionDate = fake.date_this_year(before_today = True, after_today = False)\n",
    "    DischargeDate = fake.date_between_dates(date_start = AdmissionDate, date_end = '+30d')\n",
    "    Diagnosis = random.choice(diagnoses)\n",
    "    Doctor = random.choice(doctors)\n",
    "    RoomNumber = random.randint(1,1000)\n",
    "    data.append([patient_id,patient_name,age,gender,AdmissionDate,DischargeDate,Diagnosis,Doctor,RoomNumber])"
   ]
  },
  {
   "cell_type": "code",
   "execution_count": 6,
   "id": "25941321",
   "metadata": {},
   "outputs": [
    {
     "data": {
      "text/html": [
       "<div>\n",
       "<style scoped>\n",
       "    .dataframe tbody tr th:only-of-type {\n",
       "        vertical-align: middle;\n",
       "    }\n",
       "\n",
       "    .dataframe tbody tr th {\n",
       "        vertical-align: top;\n",
       "    }\n",
       "\n",
       "    .dataframe thead th {\n",
       "        text-align: right;\n",
       "    }\n",
       "</style>\n",
       "<table border=\"1\" class=\"dataframe\">\n",
       "  <thead>\n",
       "    <tr style=\"text-align: right;\">\n",
       "      <th></th>\n",
       "      <th>PatientID</th>\n",
       "      <th>PatientName</th>\n",
       "      <th>Age</th>\n",
       "      <th>Gender</th>\n",
       "      <th>AdmissionDate</th>\n",
       "      <th>DischargeDate</th>\n",
       "      <th>Diagnosis</th>\n",
       "      <th>Doctor</th>\n",
       "      <th>RoomNumber</th>\n",
       "    </tr>\n",
       "  </thead>\n",
       "  <tbody>\n",
       "    <tr>\n",
       "      <th>0</th>\n",
       "      <td>1</td>\n",
       "      <td>Cody Stone</td>\n",
       "      <td>34</td>\n",
       "      <td>Male</td>\n",
       "      <td>2024-03-11</td>\n",
       "      <td>2024-04-12</td>\n",
       "      <td>Pneumonia</td>\n",
       "      <td>Dr. Thor</td>\n",
       "      <td>96</td>\n",
       "    </tr>\n",
       "    <tr>\n",
       "      <th>1</th>\n",
       "      <td>2</td>\n",
       "      <td>Pamela Gallegos</td>\n",
       "      <td>36</td>\n",
       "      <td>Male</td>\n",
       "      <td>2024-03-09</td>\n",
       "      <td>2024-04-17</td>\n",
       "      <td>Hypertension</td>\n",
       "      <td>Dr. TendulkarDr. Clark</td>\n",
       "      <td>133</td>\n",
       "    </tr>\n",
       "    <tr>\n",
       "      <th>2</th>\n",
       "      <td>3</td>\n",
       "      <td>Tanya Patel</td>\n",
       "      <td>83</td>\n",
       "      <td>Female</td>\n",
       "      <td>2024-05-13</td>\n",
       "      <td>2024-06-22</td>\n",
       "      <td>Pneumonia</td>\n",
       "      <td>Dr. Mogambo</td>\n",
       "      <td>478</td>\n",
       "    </tr>\n",
       "    <tr>\n",
       "      <th>3</th>\n",
       "      <td>4</td>\n",
       "      <td>Kenneth Villarreal</td>\n",
       "      <td>65</td>\n",
       "      <td>Female</td>\n",
       "      <td>2024-02-07</td>\n",
       "      <td>2024-04-14</td>\n",
       "      <td>Stroke</td>\n",
       "      <td>Dr. Widow</td>\n",
       "      <td>766</td>\n",
       "    </tr>\n",
       "    <tr>\n",
       "      <th>4</th>\n",
       "      <td>5</td>\n",
       "      <td>Michael Owen</td>\n",
       "      <td>37</td>\n",
       "      <td>Male</td>\n",
       "      <td>2024-04-08</td>\n",
       "      <td>2024-07-06</td>\n",
       "      <td>Hypertension</td>\n",
       "      <td>Dr. Walker</td>\n",
       "      <td>517</td>\n",
       "    </tr>\n",
       "  </tbody>\n",
       "</table>\n",
       "</div>"
      ],
      "text/plain": [
       "   PatientID         PatientName  Age  Gender AdmissionDate DischargeDate  \\\n",
       "0          1          Cody Stone   34    Male    2024-03-11    2024-04-12   \n",
       "1          2     Pamela Gallegos   36    Male    2024-03-09    2024-04-17   \n",
       "2          3         Tanya Patel   83  Female    2024-05-13    2024-06-22   \n",
       "3          4  Kenneth Villarreal   65  Female    2024-02-07    2024-04-14   \n",
       "4          5        Michael Owen   37    Male    2024-04-08    2024-07-06   \n",
       "\n",
       "      Diagnosis                  Doctor  RoomNumber  \n",
       "0     Pneumonia                Dr. Thor          96  \n",
       "1  Hypertension  Dr. TendulkarDr. Clark         133  \n",
       "2     Pneumonia             Dr. Mogambo         478  \n",
       "3        Stroke               Dr. Widow         766  \n",
       "4  Hypertension              Dr. Walker         517  "
      ]
     },
     "execution_count": 6,
     "metadata": {},
     "output_type": "execute_result"
    }
   ],
   "source": [
    "df = pd.DataFrame(data,columns=['PatientID','PatientName','Age','Gender','AdmissionDate','DischargeDate','Diagnosis','Doctor','RoomNumber'])\n",
    "df.head()"
   ]
  },
  {
   "cell_type": "code",
   "execution_count": 7,
   "id": "46f75ab2",
   "metadata": {},
   "outputs": [
    {
     "data": {
      "text/plain": [
       "PatientID        0\n",
       "PatientName      0\n",
       "Age              0\n",
       "Gender           0\n",
       "AdmissionDate    0\n",
       "DischargeDate    0\n",
       "Diagnosis        0\n",
       "Doctor           0\n",
       "RoomNumber       0\n",
       "dtype: int64"
      ]
     },
     "execution_count": 7,
     "metadata": {},
     "output_type": "execute_result"
    }
   ],
   "source": [
    "df.isnull().sum()"
   ]
  },
  {
   "cell_type": "code",
   "execution_count": 9,
   "id": "76f9e077",
   "metadata": {},
   "outputs": [
    {
     "data": {
      "text/plain": [
       "0"
      ]
     },
     "execution_count": 9,
     "metadata": {},
     "output_type": "execute_result"
    }
   ],
   "source": [
    "df.duplicated().sum()"
   ]
  },
  {
   "cell_type": "code",
   "execution_count": 10,
   "id": "047ba852",
   "metadata": {},
   "outputs": [],
   "source": [
    "df.to_csv(\"Patient_entry_data\",index = False)"
   ]
  }
 ],
 "metadata": {
  "kernelspec": {
   "display_name": "Python 3 (ipykernel)",
   "language": "python",
   "name": "python3"
  },
  "language_info": {
   "codemirror_mode": {
    "name": "ipython",
    "version": 3
   },
   "file_extension": ".py",
   "mimetype": "text/x-python",
   "name": "python",
   "nbconvert_exporter": "python",
   "pygments_lexer": "ipython3",
   "version": "3.11.3"
  }
 },
 "nbformat": 4,
 "nbformat_minor": 5
}
