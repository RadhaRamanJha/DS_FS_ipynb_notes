{
 "cells": [
  {
   "cell_type": "markdown",
   "id": "d9fb5fd9",
   "metadata": {},
   "source": [
    "### Data set to be used "
   ]
  },
  {
   "cell_type": "code",
   "execution_count": 1,
   "id": "f43716a3",
   "metadata": {},
   "outputs": [],
   "source": [
    "num_friends = [100.0,49,41,40,25,21,21,19,19,18,18,16,15,15,15,15,14,14,\n",
    " 13,13,13,13,12,12,11,10,10,10,10,10,10,10,10,10,10,10,10,\n",
    " 10,10,10,9,9,9,9,9,9,9,9,9,9,9,9,9,9,9,9,9,9,8,8,8,8,8,8,\n",
    " 8,8,8,8,8,8,8,7,7,7,7,7,7,7,7,7,7,7,7,7,7,7,6,6,6,6,6,6,6,\n",
    " 6,6,6,6,6,6,6,6,6,6,6,6,6,6,6,5,5,5,5,5,5,5,5,5,5,5,5,5,5,\n",
    " 5,5,5,4,4,4,4,4,4,4,4,4,4,4,4,4,4,4,4,4,4,4,4,3,3,3,3,3,3,\n",
    " 3,3,3,3,3,3,3,3,3,3,3,3,3,3,2,2,2,2,2,2,2,2,2,2,2,2,2,2,2,\n",
    " 2,2,1,1,1,1,1,1,1,1,1,1,1,1,1,1,1,1,1,1,1,1,1,1]\n",
    "\n",
    "daily_minutes = [1,68.77,51.25,52.08,38.36,44.54,57.13,51.4,\n",
    "                 41.42,31.22,34.76,54.01,38.79,47.59,49.1,27.66,\n",
    "                 41.03,36.73,48.65,28.12,46.62,35.57,32.98,35,26.07,\n",
    "                 23.77,39.73,40.57,31.65,31.21,36.32,20.45,21.93,\n",
    "                 26.02,27.34,23.49,46.94,30.5,33.8,24.23,21.4,27.94,\n",
    "                 32.24,40.57,25.07,19.42,22.39,18.42,46.96,23.72,26.41,\n",
    "                 26.97,36.76,40.32,35.02,29.47,30.2,31,38.11,38.18,36.31,\n",
    "                 21.03,30.86,36.07,28.66,29.08,37.28,15.28,24.17,22.31,30.17,\n",
    "                 25.53,19.85,35.37,44.6,17.23,13.47,26.33,35.02,32.09,24.81,\n",
    "                 19.33,28.77,24.26,31.98,25.73,24.86,16.28,34.51,15.23,\n",
    "                 39.72,40.8,26.06,35.76,34.76,16.13,44.04,18.03,19.65,32.62,\n",
    "                 35.59,39.43,14.18,35.24,40.13,41.82,35.45,36.07,43.67,24.61,\n",
    "                 20.9,21.9,18.79,27.61,27.21,26.61,29.77,20.59,27.53,13.82,\n",
    "                 33.2,25,33.1,36.65,18.63,14.87,22.2,36.81,25.53,24.62,26.25,\n",
    "                 18.21,28.08,19.42,29.79,32.8,35.99,28.32,27.79,35.88,29.06,36.28,\n",
    "                 14.1,36.63,37.49,26.9,18.58,38.48,24.48,18.95,33.55,14.24,29.04,\n",
    "                 32.51,25.63,22.22,19,32.73,15.16,13.9,27.2,32.01,29.27,33,13.74,\n",
    "                 20.42,27.32,18.23,35.35,28.48,9.08,24.62,20.12,35.26,19.92,31.02,\n",
    "                 16.49,12.16,30.7,31.22,34.65,13.13,27.51,33.2,31.57,14.1,33.42,\n",
    "                 17.44,10.12,24.42,9.82,23.39,30.93,15.03,21.67,31.09,33.29,22.61,\n",
    "                 26.89,23.48,8.38,27.81,32.35,23.84]\n",
    "\n",
    "daily_hours = [dm/60 for dm in daily_minutes]"
   ]
  },
  {
   "cell_type": "markdown",
   "id": "51c1abd1",
   "metadata": {},
   "source": [
    "## Statistics refers to the mathematics and techniques with which we understand data. \n",
    "\n",
    "### Describing a single data set"
   ]
  },
  {
   "cell_type": "markdown",
   "id": "8a42578e",
   "metadata": {},
   "source": [
    "### We can describe this data set by simply ploting a histogram plot"
   ]
  },
  {
   "cell_type": "code",
   "execution_count": 2,
   "id": "ef45261b",
   "metadata": {},
   "outputs": [
    {
     "data": {
      "image/png": "[encoded data removed]",
      "text/plain": [
       "<Figure size 432x288 with 1 Axes>"
      ]
     },
     "metadata": {
      "needs_background": "light"
     },
     "output_type": "display_data"
    }
   ],
   "source": [
    "from collections import Counter\n",
    "import matplotlib.pyplot as plt\n",
    "\n",
    "num_counts = Counter(num_friends)\n",
    "\n",
    "xs = range(100) # produce a count upto 100\n",
    "ys = [num_counts[x] for x in xs]  # Height is just the count of values\n",
    "\n",
    "plt.bar(xs,ys)\n",
    "plt.title(\"Historagam of freind counts\")\n",
    "plt.xlabel(\"# of freinds\")\n",
    "plt.ylabel(\"# of people \")\n",
    "plt.show()"
   ]
  },
  {
   "cell_type": "markdown",
   "id": "a1d3fe02",
   "metadata": {},
   "source": [
    "### To describe this data in conversations we need statistics e.g. \n",
    "1. Number of data points"
   ]
  },
  {
   "cell_type": "code",
   "execution_count": 4,
   "id": "2e2c8c48",
   "metadata": {},
   "outputs": [
    {
     "name": "stdout",
     "output_type": "stream",
     "text": [
      "The total number of freinds are 204\n"
     ]
    }
   ],
   "source": [
    "num_data_points = len(num_friends)\n",
    "print(f\"The total number of freinds are {len(num_friends)}\")"
   ]
  },
  {
   "cell_type": "markdown",
   "id": "f95d91ca",
   "metadata": {},
   "source": [
    "2. Largest and smallest values"
   ]
  },
  {
   "cell_type": "code",
   "execution_count": 6,
   "id": "58ce2199",
   "metadata": {},
   "outputs": [
    {
     "name": "stdout",
     "output_type": "stream",
     "text": [
      "The largest number of the list is 100.0\n",
      "The smallest number of the list is 1\n"
     ]
    }
   ],
   "source": [
    "largest_freinds = max(num_friends)\n",
    "smallest_freinds = min(num_friends)\n",
    "print(f\"The largest number of the list is {largest_freinds}\")\n",
    "print(f\"The smallest number of the list is {smallest_freinds}\")"
   ]
  },
  {
   "cell_type": "markdown",
   "id": "6334abd0",
   "metadata": {},
   "source": [
    "3. We can look for numbers at specific positions"
   ]
  },
  {
   "cell_type": "code",
   "execution_count": 8,
   "id": "3d05090e",
   "metadata": {},
   "outputs": [
    {
     "name": "stdout",
     "output_type": "stream",
     "text": [
      "The smallest number of freinds is 1\n",
      "The 2nd smallest number of freinds is 1\n",
      "The 2nd largest number of freinds is 49\n"
     ]
    }
   ],
   "source": [
    "sorted_freinds_num = sorted(num_friends)\n",
    "print(f\"The smallest number of freinds is {sorted_freinds_num[0]}\")\n",
    "print(f\"The 2nd smallest number of freinds is {sorted_freinds_num[1]}\")\n",
    "print(f\"The 2nd largest number of freinds is {sorted_freinds_num[-2]}\")"
   ]
  },
  {
   "cell_type": "markdown",
   "id": "be103cb9",
   "metadata": {},
   "source": [
    "## Central Tendencies\n",
    "\n",
    "1. Mean(used most commonly) - which sum of all data divided by its count:"
   ]
  },
  {
   "cell_type": "code",
   "execution_count": 12,
   "id": "8a94af2a",
   "metadata": {},
   "outputs": [],
   "source": [
    "from typing import List\n",
    "def num_mean(xs: List[float]) -> float:\n",
    "    \"\"\"\n",
    "    ratio of sum of all data and count of data\n",
    "    \"\"\"\n",
    "    return sum(xs)/len(xs)\n",
    "assert(num_mean(num_friends) == 7.333333333333333) \n",
    "\n",
    "## Note :- mean always depends on the value of every point"
   ]
  },
  {
   "cell_type": "markdown",
   "id": "c0fcb508",
   "metadata": {},
   "source": [
    "## We’ll may also sometimes be interested in the median\n",
    "\n",
    "* It is the middle-most value (if the number of data points is odd) or \n",
    "\n",
    "* The average of the two middle-most values (if the number of data points is even).\n",
    "\n",
    "### unlike the mean—the median doesn’t fully depend on every value in the data"
   ]
  },
  {
   "cell_type": "code",
   "execution_count": 13,
   "id": "935f5016",
   "metadata": {},
   "outputs": [],
   "source": [
    "## The underscore indicate that following are the private functions which is to be used by caculate mean function only'\n",
    "def _odd_median(lis1 :List[float]) -> float:\n",
    "    \"\"\"\n",
    "    returns middle element in sorted list\n",
    "    \"\"\"\n",
    "    return sorted(lis1)[len(lis1)//2]\n",
    "\n",
    "def _even_median(lis1 :List[float]) -> float:\n",
    "    \"\"\"\n",
    "    returns the average of middle two element\n",
    "    \"\"\"\n",
    "    mid_element = len(lis1)//2\n",
    "    return ((sorted(lis1)[mid_element-1]+sorted(lis1)[mid_element])/2)\n",
    "\n",
    "def num_median(v :List[float]) -> float:\n",
    "    \"\"\"\n",
    "    Finds the middle most element of v\n",
    "    \"\"\"\n",
    "    return _even_median(v) if len(v)%2 == 0 else _odd_median(v)\n",
    "\n",
    "assert(num_median([12,63,44,34,56]) == 44)\n",
    "assert(num_median([34,24,56,17,12,64]) == 29)"
   ]
  },
  {
   "cell_type": "markdown",
   "id": "9c9e164f",
   "metadata": {},
   "source": [
    "### The median of num_list can be computed using the above function"
   ]
  },
  {
   "cell_type": "code",
   "execution_count": 15,
   "id": "7bb300e8",
   "metadata": {},
   "outputs": [],
   "source": [
    "assert(num_median(sorted(num_friends)) == 6)"
   ]
  },
  {
   "cell_type": "markdown",
   "id": "6c27ec7c",
   "metadata": {},
   "source": [
    "## Mean can some times be misleading specially in case too high or too low value is present n the list \n",
    "\n",
    "+ A generalization of the median is the quantile, which represents the value under which a certain percentile of the data lies (the median represents the value under which 50% of the data lies):"
   ]
  },
  {
   "cell_type": "code",
   "execution_count": 17,
   "id": "3d95cb82",
   "metadata": {},
   "outputs": [],
   "source": [
    "def quantile(lis: List[float], p :float) -> float:\n",
    "    \"\"\"\n",
    "    Returns the pth percentile value of the list\n",
    "    \"\"\"\n",
    "    p_index = int(p*len(lis))\n",
    "    return sorted(lis)[p_index]\n",
    "\n",
    "assert(quantile(num_friends,0.10) == 1)\n",
    "assert(quantile(num_friends,0.25) == 3)\n",
    "assert(quantile(num_friends,0.75) == 9)\n",
    "assert(quantile(num_friends,0.90) == 13)"
   ]
  },
  {
   "cell_type": "markdown",
   "id": "348ae252",
   "metadata": {},
   "source": [
    "## Mode or Most common values"
   ]
  },
  {
   "cell_type": "code",
   "execution_count": 20,
   "id": "5ed964eb",
   "metadata": {},
   "outputs": [],
   "source": [
    "def mode(lis :List[float]) -> List[float]:\n",
    "    \"\"\"\n",
    "    Returns a list since there might be more than one most occuring value\n",
    "    \"\"\"\n",
    "    counts = Counter(lis)\n",
    "    max_count = max(counts.values())\n",
    "    return [x_i for x_i,count in counts.items()\n",
    "           if count == max_count]\n",
    "\n",
    "assert(set(mode(num_friends)) == {1,6})"
   ]
  },
  {
   "cell_type": "markdown",
   "id": "ff9559bd",
   "metadata": {},
   "source": [
    "## Dispersion\n",
    "\n",
    "### Dispersion refers to measures of how spread out our data is. Typically they’re statistics for which values near zero signify not spread out at all and for which large values (whatever that means) signify very spread out.\n",
    "\n",
    "1. Range"
   ]
  },
  {
   "cell_type": "code",
   "execution_count": 21,
   "id": "67f0af61",
   "metadata": {},
   "outputs": [],
   "source": [
    "def data_range(lis1 :List[float]) -> float:\n",
    "    \"\"\"\n",
    "    The difference between maximum and minimum value\n",
    "    \"\"\"\n",
    "    return max(lis1)-min(lis1)\n",
    "assert(data_range(num_friends) == 99)"
   ]
  },
  {
   "cell_type": "markdown",
   "id": "b20d23cc",
   "metadata": {},
   "source": [
    "+ The range is zero precisely when the max and min are equal, i.e. elements of x are all the same. \n",
    "\n",
    "+ Conversely, if the range is large, then the max is much larger than the min and the data is more spread out.\n",
    "\n",
    "## Like the median, the range doesn’t really depend on the whole dataset. \n",
    "\n",
    "### A more complex measure dispersion is sum of Squares"
   ]
  },
  {
   "cell_type": "code",
   "execution_count": 26,
   "id": "b6a9133b",
   "metadata": {},
   "outputs": [],
   "source": [
    " ## Importing sum_of_squares function from linear_algebra file\n",
    "    \n",
    "from ipynb.fs.full.linear_algebra import sum_of_squares ###### Note\n",
    "\n",
    "def de_mean(lis1 :List[float]) -> List:\n",
    "    \"\"\"\n",
    "    Reduces the mean of list to 0 by \n",
    "    substracting mean from every element\n",
    "    \"\"\"\n",
    "    mean_lis1 = num_mean(lis1)\n",
    "    return [lis1_n - mean_lis1 for lis1_n in lis1]\n",
    "\n",
    "def variance(lis1 : List[float]) -> float:\n",
    "    \"\"\" \n",
    "    Returns the average squared deviation from the mean\n",
    "    \"\"\"\n",
    "    assert len(lis1) >=2 ,\"Atleast 2 elements required to calculate variance\"\n",
    "    \n",
    "    n = len(lis1)\n",
    "    deviations = de_mean(lis1)\n",
    "    return sum_of_squares(deviations)/(n-1)\n",
    "\n",
    "assert(81 < variance(num_friends) < 82) "
   ]
  },
  {
   "cell_type": "markdown",
   "id": "d537fb15",
   "metadata": {},
   "source": [
    "* it is almost the average squared deviation from the mean, \n",
    "\n",
    "* except that we’re dividing by n - 1 instead of n. \n",
    "\n",
    "* In fact, when we’re dealing with a sample from a larger population, x_bar is only an estimate of the actual mean, which means that on average (x_i - x_bar) ** 2 is an underestimate of x_i’s squared deviation from the mean, \n",
    "\n",
    "* which is why we divide by n - 1 instead of n"
   ]
  },
  {
   "cell_type": "markdown",
   "id": "28271061",
   "metadata": {},
   "source": [
    "### The unit of data and central tendencies like range, mean, mode are the same, but the variance has a squared unit. Hence, we calculate standard deviation"
   ]
  },
  {
   "cell_type": "code",
   "execution_count": 27,
   "id": "29a3aa65",
   "metadata": {},
   "outputs": [],
   "source": [
    "from math import sqrt\n",
    "\n",
    "def standard_deviation(lis1 :List[float]) -> float:\n",
    "    \"\"\"\n",
    "    Standard deviation is square root of variance\n",
    "    \"\"\"\n",
    "    return sqrt(variance(lis1))\n",
    "\n",
    "assert(9.02 < standard_deviation(num_friends) < 9.04)"
   ]
  },
  {
   "cell_type": "markdown",
   "id": "e61983ae",
   "metadata": {},
   "source": [
    "+ Both the range and standard deviation have the same outlier problem as that of mean.\n",
    "\n",
    "## Interquartile range( IQR ) :-\n",
    "#### A more robust alternative computes the difference between the 75th percentile value and the 25th percentile value. which is quite plainly unaffected by a small number of outliers."
   ]
  },
  {
   "cell_type": "code",
   "execution_count": 29,
   "id": "6164bad1",
   "metadata": {},
   "outputs": [],
   "source": [
    "def interquartile_range(lis1 :List[float]) -> float:\n",
    "    \"\"\"\n",
    "    Returns the difference of 75 percentile and 25 percentile\n",
    "    \"\"\"\n",
    "    return quantile(lis1,0.75) - quantile(lis1,0.25)\n",
    "\n",
    "assert(interquartile_range(num_friends) == 6)"
   ]
  },
  {
   "cell_type": "markdown",
   "id": "07feae29",
   "metadata": {},
   "source": [
    "## Covariance :- the paired analogue of variance. \n",
    "\n",
    "### Whereas variance measures how a single variable deviates from its mean, covariance measures how two variables vary in tandem from their means."
   ]
  },
  {
   "cell_type": "code",
   "execution_count": 30,
   "id": "9914f747",
   "metadata": {},
   "outputs": [],
   "source": [
    "from ipynb.fs.full.linear_algebra import dot_product\n",
    "\n",
    "def covariance(v :List[float],u :List[float]) -> float:\n",
    "    \"\"\"\n",
    "    Average of product of deviation both the vectors from their individual mean\n",
    "    \"\"\"\n",
    "    assert(len(v) == len(u)),\"Both the Vectors must have same length\"\n",
    "    \n",
    "    return dot_product(de_mean(v),de_mean(u))/(len(v)-1)"
   ]
  },
  {
   "cell_type": "markdown",
   "id": "f1798507",
   "metadata": {},
   "source": [
    "+ “large” positive covariance means that x tends to be large when y is large and small when y is small. \n",
    "\n",
    "\n",
    "\n",
    "+ A “large” negative covariance means that x tends to be small when y is large and vice versa.\n",
    "\n",
    "\n",
    "\n",
    "+ A covariance close to zero means that no such relationship exists."
   ]
  },
  {
   "cell_type": "code",
   "execution_count": 32,
   "id": "eab0f9a0",
   "metadata": {},
   "outputs": [],
   "source": [
    "assert(22 < covariance(num_friends,daily_minutes) < 23)"
   ]
  },
  {
   "cell_type": "markdown",
   "id": "4f702d8c",
   "metadata": {},
   "source": [
    "### However, this number can be hard to interpret, for a couple of reasons:\n",
    "\n",
    "1. Its units are the product of the inputs’ units (e.g., friend-minutes-per-day), which can be hard to make sense of. (What’s a “friend-minute-per-day”?)\n",
    "\n",
    "\n",
    "2. If each user had twice as many friends (but the same number of minutes), the covariance would be twice as large. But in a sense, the variables would be just as interrelated. Said differently, it’s hard to say what counts as a “large” covariance.\n",
    "\n",
    "\n",
    "### For this reason, it’s more common to look at the correlation, which divides out the standard deviations of both variables:"
   ]
  },
  {
   "cell_type": "code",
   "execution_count": 35,
   "id": "3cf0ac20",
   "metadata": {},
   "outputs": [],
   "source": [
    "def correlation(x :List[float], y :List[float]) -> float:\n",
    "    \"\"\"\n",
    "    Measures how much x and y vary in tandem about their mean\n",
    "    \"\"\"\n",
    "    standard_dev_x = standard_deviation(x)\n",
    "    standard_dev_y = standard_deviation(y)\n",
    "    \n",
    "    if (standard_dev_x > 0 and standard_dev_y > 0):\n",
    "        return covariance(x,y)/standard_dev_x/standard_dev_y\n",
    "    else:\n",
    "        return 0 # if no variation, correlation is zero\n",
    "\n",
    "assert( 0.24 < correlation(num_friends,daily_minutes) < 0.25)"
   ]
  },
  {
   "cell_type": "markdown",
   "id": "50b38609",
   "metadata": {},
   "source": [
    "### The correlation is unitless and always lies between –1 (perfect anticorrelation) and 1 (perfect correlation). \n",
    "\n",
    "### A correlation coefficient like 0.25 represents a relatively weak positive correlation."
   ]
  },
  {
   "cell_type": "markdown",
   "id": "cc43aa58",
   "metadata": {},
   "source": [
    "# Effect of presence of Outlier "
   ]
  },
  {
   "cell_type": "code",
   "execution_count": 37,
   "id": "929898e9",
   "metadata": {},
   "outputs": [
    {
     "data": {
      "image/png": "[encoded data removed]",
      "text/plain": [
       "<Figure size 432x288 with 1 Axes>"
      ]
     },
     "metadata": {
      "needs_background": "light"
     },
     "output_type": "display_data"
    }
   ],
   "source": [
    "import matplotlib.pyplot as plt\n",
    "import seaborn as sns\n",
    "sns.scatterplot(x = num_friends, y = daily_minutes)\n",
    "plt.title(\"Correlation with an Outlier\")\n",
    "plt.xlabel(\"# of friends\")\n",
    "plt.ylabel(\"minutes per day\")\n",
    "plt.show()"
   ]
  },
  {
   "cell_type": "markdown",
   "id": "08150816",
   "metadata": {},
   "source": [
    "## The person having 100 freinds and spending 1 minutes per day is a huge outlier and affects the correlation of the entire data set\n",
    "\n",
    "# Removing it"
   ]
  },
  {
   "cell_type": "code",
   "execution_count": 39,
   "id": "ff3a2994",
   "metadata": {},
   "outputs": [],
   "source": [
    "outlier = num_friends.index(100)\n",
    "\n",
    "freinds_good = [x for i,x in enumerate(num_friends)\n",
    "               if i != outlier]\n",
    "daily_minutes_good = [x for i,x in enumerate(daily_minutes)\n",
    "                     if i != outlier]\n",
    "daily_hours_good = [good_min/60 for good_min in daily_minutes_good]\n",
    "\n",
    "assert(0.57 < correlation(freinds_good,daily_hours_good) < 0.58)\n",
    "assert(0.57 < correlation(freinds_good,daily_minutes_good) < 0.58)"
   ]
  },
  {
   "cell_type": "markdown",
   "id": "a2f402d5",
   "metadata": {},
   "source": [
    "## There is significant improvement in correlation (from 0.25 to 0.58) with removal of outlier"
   ]
  },
  {
   "cell_type": "code",
   "execution_count": 40,
   "id": "df690003",
   "metadata": {},
   "outputs": [
    {
     "data": {
      "image/png": "[encoded data removed]",
      "text/plain": [
       "<Figure size 432x288 with 1 Axes>"
      ]
     },
     "metadata": {
      "needs_background": "light"
     },
     "output_type": "display_data"
    }
   ],
   "source": [
    "sns.scatterplot(x = freinds_good, y = daily_minutes_good)\n",
    "plt.title(\"Correaltion without outlier\")\n",
    "plt.xlabel(\"# of friends\")\n",
    "plt.ylabel(\"minutes per day\")\n",
    "plt.show()"
   ]
  },
  {
   "cell_type": "markdown",
   "id": "b604ec9e",
   "metadata": {},
   "source": [
    "## Simpson’s Paradox"
   ]
  },
  {
   "cell_type": "markdown",
   "id": "b0d0cac9",
   "metadata": {},
   "source": [
    "### Simpson's paradox is a phenomenon in probability and statistics in which a trend appears in several groups of data but disappears or reverses when the groups are combined. \n",
    "\n",
    "\n",
    "### The key issue is that correlation is measuring the relationship between your two variables all else being equal. It may not be an issue in a well designed experiment but it will be a terrible assumption when there is a deeper pattern to class assignments.\n",
    "\n",
    "\n",
    "### only real way to avoid this is by knowing your data and by doing what you can to make sure you’ve checked for possible confounding factors.\n",
    "\n",
    "# Some Other Correlational Caveats\n",
    "\n",
    "### A correlation of zero indicates that there is no linear relationship between the two variables. However, there may be other sorts of relationships. For example"
   ]
  },
  {
   "cell_type": "code",
   "execution_count": 41,
   "id": "5bec7c49",
   "metadata": {},
   "outputs": [
    {
     "name": "stdout",
     "output_type": "stream",
     "text": [
      "0.0\n"
     ]
    }
   ],
   "source": [
    "x = [-2, -1, 0, 1, 2]\n",
    "y = [ 2,  1, 0, 1, 2]\n",
    "print(correlation(x,y))"
   ]
  },
  {
   "cell_type": "markdown",
   "id": "246b27e2",
   "metadata": {},
   "source": [
    "+ x and y have zero correlation. \n",
    "+ But each element of y equals the absolute value of the corresponding element of x.\n",
    "\n",
    "\n",
    "+ What they don’t have is a relationship in which knowing how x_i compares to mean(x) gives us information about how y_i compares to mean(y).\n",
    "\n",
    "## That is the sort of relationship that correlation looks for.\n",
    "\n",
    "### In addition, correlation tells you nothing about how large the relationship is. The variables:"
   ]
  },
  {
   "cell_type": "code",
   "execution_count": 42,
   "id": "8bcd7fa0",
   "metadata": {},
   "outputs": [
    {
     "name": "stdout",
     "output_type": "stream",
     "text": [
      "1.0\n"
     ]
    }
   ],
   "source": [
    "x = [-2, -1, 0, 1, 2]\n",
    "y = [99.98, 99.99, 100, 100.01, 100.02]\n",
    "print(correlation(x,y))"
   ]
  },
  {
   "cell_type": "markdown",
   "id": "1370e00e",
   "metadata": {},
   "source": [
    "## are perfectly correlated, but (depending on what you’re measuring) it’s quite possible that this relationship isn’t all that interesting.\n",
    "\n",
    "# Correlation and Causation\n",
    "\n",
    "\n",
    "## “correlation is not causation,” \n",
    " \n",
    " \n",
    "+ If x and y are strongly correlated, that might mean that \n",
    "1. x causes y, \n",
    "2. y causes x, \n",
    "3. each causes the other, \n",
    "3. some third factor causes both, or \n",
    "3. nothing at all."
   ]
  },
  {
   "cell_type": "markdown",
   "id": "cfda63bd",
   "metadata": {},
   "source": [
    "## For Further Exploration\n",
    "+ SciPy, pandas, and StatsModels all come with a wide variety of statistical functions.\n",
    "\n",
    "1. Statistics is important. (Or maybe statistics are important?) If you want to be a better data scientist, it would be a good idea to read a statistics textbook. Many are freely available online, including:\n",
    "\n",
    "2. Introductory Statistics, by Douglas Shafer and Zhiyi Zhang (Saylor Foundation)\n",
    "\n",
    "3. OnlineStatBook, by David Lane (Rice University)\n",
    "\n",
    "4. Introductory Statistics, by OpenStax (OpenStax College)"
   ]
  }
 ],
 "metadata": {
  "kernelspec": {
   "display_name": "Python 3",
   "language": "python",
   "name": "python3"
  },
  "language_info": {
   "codemirror_mode": {
    "name": "ipython",
    "version": 3
   },
   "file_extension": ".py",
   "mimetype": "text/x-python",
   "name": "python",
   "nbconvert_exporter": "python",
   "pygments_lexer": "ipython3",
   "version": "3.6.13"
  }
 },
 "nbformat": 4,
 "nbformat_minor": 5
}
